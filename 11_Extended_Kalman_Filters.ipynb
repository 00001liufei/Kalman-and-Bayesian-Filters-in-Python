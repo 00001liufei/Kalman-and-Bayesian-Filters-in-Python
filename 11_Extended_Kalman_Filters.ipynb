{
 "cells": [
  {
   "cell_type": "markdown",
   "metadata": {},
   "source": [
    "[Table of Contents](http://nbviewer.ipython.org/github/rlabbe/Kalman-and-Bayesian-Filters-in-Python/blob/master/table_of_contents.ipynb)"
   ]
  },
  {
   "cell_type": "markdown",
   "metadata": {},
   "source": [
    "# The Extended Kalman Filter"
   ]
  },
  {
   "cell_type": "code",
   "execution_count": 1,
   "metadata": {
    "collapsed": false
   },
   "outputs": [
    {
     "data": {
      "text/html": [
       "<style>\n",
       "@import url('http://fonts.googleapis.com/css?family=Source+Code+Pro');\n",
       "@import url('http://fonts.googleapis.com/css?family=Vollkorn');\n",
       "@import url('http://fonts.googleapis.com/css?family=Arimo');\n",
       "\n",
       "    div.cell{\n",
       "        width: 900px;\n",
       "        margin-left: 0% !important;\n",
       "        margin-right: auto;\n",
       "    }\n",
       "    div.text_cell code {\n",
       "        background: transparent;\n",
       "        color: #000000;\n",
       "        font-weight: 600;\n",
       "        font-size: 11pt;\n",
       "        font-style: bold;\n",
       "        font-family:  'Source Code Pro', Consolas, monocco, monospace;\n",
       "   }\n",
       "    h1 {\n",
       "        font-family: 'Open sans',verdana,arial,sans-serif;\n",
       "\t}\n",
       "\t\n",
       "    div.input_area {\n",
       "        background: #F6F6F9;\n",
       "        border: 1px solid #586e75;\n",
       "    }\n",
       "\n",
       "    .text_cell_render h1 {\n",
       "        font-weight: 200;\n",
       "        font-size: 30pt;\n",
       "        line-height: 100%;\n",
       "        color:#c76c0c;\n",
       "        margin-bottom: 0.5em;\n",
       "        margin-top: 1em;\n",
       "        display: block;\n",
       "        white-space: wrap;\n",
       "    } \n",
       "    h2 {\n",
       "        font-family: 'Open sans',verdana,arial,sans-serif;\n",
       "    }\n",
       "    .text_cell_render h2 {\n",
       "        font-weight: 200;\n",
       "        font-size: 16pt;\n",
       "        font-style: italic;\n",
       "        line-height: 100%;\n",
       "        color:#c76c0c;\n",
       "        margin-bottom: 0.5em;\n",
       "        margin-top: 1.5em;\n",
       "        display: inline;\n",
       "        white-space: wrap;\n",
       "    } \n",
       "    h3 {\n",
       "        font-family: 'Open sans',verdana,arial,sans-serif;\n",
       "    }\n",
       "    .text_cell_render h3 {\n",
       "        font-weight: 200;\n",
       "        font-size: 14pt;\n",
       "        line-height: 100%;\n",
       "        color:#d77c0c;\n",
       "        margin-bottom: 0.5em;\n",
       "        margin-top: 2em;\n",
       "        display: block;\n",
       "        white-space: nowrap;\n",
       "    }\n",
       "    h4 {\n",
       "        font-family: 'Open sans',verdana,arial,sans-serif;\n",
       "    }\n",
       "    .text_cell_render h4 {\n",
       "        font-weight: 100;\n",
       "        font-size: 14pt;\n",
       "        color:#d77c0c;\n",
       "        margin-bottom: 0.5em;\n",
       "        margin-top: 0.5em;\n",
       "        display: block;\n",
       "        white-space: nowrap;\n",
       "    }\n",
       "    h5 {\n",
       "        font-family: 'Open sans',verdana,arial,sans-serif;\n",
       "    }\n",
       "    .text_cell_render h5 {\n",
       "        font-weight: 200;\n",
       "        font-style: normal;\n",
       "        color: #1d3b84;\n",
       "        font-size: 16pt;\n",
       "        margin-bottom: 0em;\n",
       "        margin-top: 0.5em;\n",
       "        display: block;\n",
       "        white-space: nowrap;\n",
       "    }\n",
       "    div.text_cell_render{\n",
       "        font-family: 'Arimo',verdana,arial,sans-serif;\n",
       "        line-height: 125%;\n",
       "        font-size: 120%;\n",
       "        text-align:justify;\n",
       "        text-justify:inter-word;\n",
       "    }\n",
       "    div.output_subarea.output_text.output_pyout {\n",
       "        overflow-x: auto;\n",
       "        overflow-y: scroll;\n",
       "        max-height: 50000px;\n",
       "    }\n",
       "    div.output_subarea.output_stream.output_stdout.output_text {\n",
       "        overflow-x: auto;\n",
       "        overflow-y: scroll;\n",
       "        max-height: 50000px;\n",
       "    }\n",
       "    div.output_wrapper{\n",
       "        margin-top:0.2em;\n",
       "        margin-bottom:0.2em;\n",
       "}\n",
       "\n",
       "    code{\n",
       "      font-size: 70%;\n",
       "    }\n",
       "    .rendered_html code{\n",
       "    background-color: transparent;\n",
       "    }\n",
       "    ul{\n",
       "        margin: 2em;\n",
       "    }\n",
       "    ul li{\n",
       "        padding-left: 0.5em; \n",
       "        margin-bottom: 0.5em; \n",
       "        margin-top: 0.5em; \n",
       "    }\n",
       "    ul li li{\n",
       "        padding-left: 0.2em; \n",
       "        margin-bottom: 0.2em; \n",
       "        margin-top: 0.2em; \n",
       "    }\n",
       "    ol{\n",
       "        margin: 2em;\n",
       "    }\n",
       "    ol li{\n",
       "        padding-left: 0.5em; \n",
       "        margin-bottom: 0.5em; \n",
       "        margin-top: 0.5em; \n",
       "    }\n",
       "    ul li{\n",
       "        padding-left: 0.5em; \n",
       "        margin-bottom: 0.5em; \n",
       "        margin-top: 0.2em; \n",
       "    }\n",
       "    a:link{\n",
       "       font-weight: bold;\n",
       "       color:#447adb;\n",
       "    }\n",
       "    a:visited{\n",
       "       font-weight: bold;\n",
       "       color: #1d3b84;\n",
       "    }\n",
       "    a:hover{\n",
       "       font-weight: bold;\n",
       "       color: #1d3b84;\n",
       "    }\n",
       "    a:focus{\n",
       "       font-weight: bold;\n",
       "       color:#447adb;\n",
       "    }\n",
       "    a:active{\n",
       "       font-weight: bold;\n",
       "       color:#447adb;\n",
       "    }\n",
       "    .rendered_html :link {\n",
       "       text-decoration: underline; \n",
       "    }\n",
       "    .rendered_html :hover {\n",
       "       text-decoration: none; \n",
       "    }\n",
       "    .rendered_html :visited {\n",
       "      text-decoration: none;\n",
       "    }\n",
       "    .rendered_html :focus {\n",
       "      text-decoration: none;\n",
       "    }\n",
       "    .rendered_html :active {\n",
       "      text-decoration: none;\n",
       "    }\n",
       "    .warning{\n",
       "        color: rgb( 240, 20, 20 )\n",
       "    } \n",
       "    hr {\n",
       "      color: #f3f3f3;\n",
       "      background-color: #f3f3f3;\n",
       "      height: 1px;\n",
       "    }\n",
       "    blockquote{\n",
       "      display:block;\n",
       "      background: #fcfcfc;\n",
       "      border-left: 5px solid #c76c0c;\n",
       "      font-family: 'Open sans',verdana,arial,sans-serif;\n",
       "      width:680px;\n",
       "      padding: 10px 10px 10px 10px;\n",
       "      text-align:justify;\n",
       "      text-justify:inter-word;\n",
       "      }\n",
       "      blockquote p {\n",
       "        margin-bottom: 0;\n",
       "        line-height: 125%;\n",
       "        font-size: 100%;\n",
       "      }\n",
       "</style>\n",
       "<script>\n",
       "    MathJax.Hub.Config({\n",
       "                        TeX: {\n",
       "                           extensions: [\"AMSmath.js\"]\n",
       "                           },\n",
       "                tex2jax: {\n",
       "                    inlineMath: [ ['$','$'], [\"\\\\(\",\"\\\\)\"] ],\n",
       "                    displayMath: [ ['$$','$$'], [\"\\\\[\",\"\\\\]\"] ]\n",
       "                },\n",
       "                displayAlign: 'center', // Change this to 'center' to center equations.\n",
       "                \"HTML-CSS\": {\n",
       "                    scale:100,\n",
       "                    availableFonts: [\"Neo-Euler\"],\n",
       "                    preferredFont: \"Neo-Euler\",\n",
       "                    webFont: \"Neo-Euler\",\n",
       "                    styles: {'.MathJax_Display': {\"margin\": 4}}\n",
       "                }\n",
       "        });\n",
       "</script>\n"
      ],
      "text/plain": [
       "<IPython.core.display.HTML object>"
      ]
     },
     "execution_count": 1,
     "metadata": {},
     "output_type": "execute_result"
    }
   ],
   "source": [
    "#format the book\n",
    "%matplotlib inline\n",
    "%load_ext autoreload\n",
    "%autoreload 2\n",
    "from __future__ import division, print_function\n",
    "import book_format\n",
    "book_format.load_style()"
   ]
  },
  {
   "cell_type": "markdown",
   "metadata": {},
   "source": [
    "**Author's note: this is still being heavily edited and added to - there is a lot of duplicate material, incorrect code, and so on. The examples are just a brain dump, not fully formulated and not ready to be used.**\n",
    "\n",
    "**The Unscented Kalman filter (UKF) chapter is much further along. The UKF is almost always better performing than the Extended Kalman filter, and is much easier to implement, so if you have an urgent need for nonlinear Kalman filter I'll point you towards that chapter for now.**\n",
    "\n",
    "At this point in the book we have developed the theory for the linear Kalman filter. Then, in the last two chapters we broached the topic of using Kalman filters for nonlinear problems. I chose to start off with the Unscented Kalman filter, which probably felt like quite a departure from the linear Kalman filter math. It was also a departure from the historical development of the Kalman filter.\n",
    "\n",
    "Shortly after Dr. Kálmán published his paper on the Kalman filter people recognized that his theory was limited to linear problems and immediately began work on extending the theory to work with nonlinear problems. As I have said elsewhere the only equation we really know how to solve is $\\mathbf{Ax} = \\mathbf{b}$. That is a slight exaggeration. Many of us have spent years at school learning sophisticated tricks and techniques to handle equations that are not linear. Yet after all that work the vast majority of equations that arise from simple physical systems remain intractable. Certainly there is no way to find general analytic solutions to the Kalman filter equations for nonlinear systems. \n",
    "\n",
    "In this chapter we will learn the Extended Kalman filter (EKF). The EKF handles nonlinearity by linearizing the system at the point of the current estimate, and then the usual Kalman filter is used to filter this linearized system. It was one of the very first techniques used for nonlinear problems, and it remains the most common technique. Most filters in real world use are EKFs. \n",
    "\n",
    "The EKF provides significant mathematical challenges to the designer of the filter; this is the most challenging chapter of the book. To be honest, I do everything I can to avoid the EKF in favor of other techniques that have been developed to filter nonlinear problems. However, the topic is unavoidable; all classic papers and a majority of current papers in the field use the EKF. Even if you do not use the EKF in your own work you will need to be familiar with the topic to be able to read the literature. "
   ]
  },
  {
   "cell_type": "markdown",
   "metadata": {},
   "source": [
    "## Linearizing the System Model"
   ]
  },
  {
   "cell_type": "markdown",
   "metadata": {},
   "source": [
    "The extended Kalman filter (EKF) works by linearizing the system model for each update. For example, consider the problem of tracking a cannonball in flight. Obviously it follows a curved flight path. However, if our update rate is small enough, say 1/10 second, then the trajectory over that time is nearly linear. If we linearize that short segment we will get an answer very close to the actual value, and we can use that value to perform the prediction step of the filter. There are many ways to linearize a set of nonlinear differential equations, and the topic is somewhat beyond the scope of this book. In practice, a Taylor series approximation is frequently used with EKFs, and that is what we will use. "
   ]
  },
  {
   "cell_type": "markdown",
   "metadata": {},
   "source": [
    "Consider the function $f(x)=x^2−2x$. We want a linear approximation of this function so that we can use it in the Kalman filter. We will see how it is used in the Kalman filter in the next section, so don't worry about that yet. We can see that there is no single linear function (line) that gives a close approximation of this function. However, during each innovation (update) of the Kalman filter we know its current state, so if we linearize the function at that value we will have a close approximation. For example, suppose our current state is $x=1.5$. What would be a good linearization for this function?\n",
    "\n",
    "We can use any linear function that passes through the curve at (1.5,-0.75). For example, consider using f(x)=8x−12.75 as the linearization, as in the plot below."
   ]
  },
  {
   "cell_type": "code",
   "execution_count": 2,
   "metadata": {
    "collapsed": false
   },
   "outputs": [
    {
     "data": {
      "image/png": "[encoded data removed]",
      "text/plain": [
       "<matplotlib.figure.Figure at 0x6e59c88>"
      ]
     },
     "metadata": {},
     "output_type": "display_data"
    }
   ],
   "source": [
    "import numpy as np\n",
    "import matplotlib.pyplot as plt\n",
    "\n",
    "xs =  np.arange(0, 2, 0.01)\n",
    "ys = [x**2 - 2*x for x in xs]\n",
    "\n",
    "def y(x): \n",
    "    return 8*x - 12.75\n",
    "\n",
    "plt.plot (xs, ys)\n",
    "plt.plot ([1.25, 1.75], [y(1.25), y(1.75)])\n",
    "plt.xlim(1, 2)\n",
    "plt.ylim([-1.5, 1])\n",
    "plt.show()"
   ]
  },
  {
   "cell_type": "markdown",
   "metadata": {},
   "source": [
    "This is not a good linearization for $f(x)$. It is exact for $x=1.5$, but quickly diverges when $x$ varies by a small amount.\n",
    "\n",
    "A much better approach is to use the slope of the function at the evaluation point as the linearization. We find the slope by taking the first derivative of the function:\n",
    "\n",
    "$$f(x) = x^2 -2x \\\\\n",
    "\\frac{df}{dx} = 2x - 2$$, \n",
    " \n",
    "so the slope at 1.5 is $2*1.5-2=1$. Let's plot that."
   ]
  },
  {
   "cell_type": "code",
   "execution_count": 3,
   "metadata": {
    "collapsed": false
   },
   "outputs": [
    {
     "data": {
      "image/png": "[encoded data removed]",
      "text/plain": [
       "<matplotlib.figure.Figure at 0x6e59438>"
      ]
     },
     "metadata": {},
     "output_type": "display_data"
    }
   ],
   "source": [
    "def y(x): \n",
    "    return x - 2.25\n",
    "\n",
    "plt.plot(xs, ys)\n",
    "plt.plot([1, 2], [y(1), y(2)])\n",
    "plt.xlim(1, 2)\n",
    "plt.ylim([-1.5, 1])\n",
    "plt.show()"
   ]
  },
  {
   "cell_type": "markdown",
   "metadata": {},
   "source": [
    "Here we can see that this linearization is much better. It is still exactly correct at $x=1.5$, but the errors are very small as x varies. Compare the tiny error at $x=1.4$ vs the very large error at $x=1.4$ in the previous plot. This does not constitute a formal proof of correctness, but this sort of geometric depiction should be fairly convincing. Certainly it is easy to see that in this case if the line had any other slope the errors would accumulate more quickly. "
   ]
  },
  {
   "cell_type": "markdown",
   "metadata": {},
   "source": [
    "## Linearizing the Kalman Filter\n",
    "\n",
    "To implement the extended Kalman filter we will leave the linear equations as they are, and use partial derivatives to evaluate the system matrix $\\mathbf{F}$ and the measurement matrix $\\mathbf{H}$ at the state at time t ($\\mathbf{x}_t$). In other words we linearize the equations at time t by finding the slope (derivative) of the equations at that time. Since $\\mathbf{F}$ also depends on the control input vector $\\mathbf{u}$ we will need to include that term:\n",
    "\n",
    "$$\n",
    "\\begin{aligned}\n",
    "F \n",
    "&\\equiv {\\frac{\\partial{f}}{\\partial{x}}}\\biggr|_{{x_t},{u_t}} \\\\\n",
    "H &\\equiv \\frac{\\partial{h}}{\\partial{x}}\\biggr|_{x_t} \n",
    "\\end{aligned}\n",
    "$$\n",
    "\n",
    "All this means is that at each update step we compute $\\mathbf{F}$ as the partial derivative of our function $f()$ evaluated at x. We then use a computational technique, such as Taylor expansion, to turn this into a set of linear equations.\n",
    "\n",
    "For nonlinear problems our function $f()$ is a set of differential equations. Modeling physical systems with differential equations is well outside the scope of this book. You will need to be reasonably well versed in this branch of applied mathematics to successfully implement the EKF for your problem. If you have not read it yet, please read the section **Modeling Dynamic Systems** in the **Kalman Filter Math** chapter as it contains the math that you will need to complete this chapter.\n",
    "\n",
    "I think the easiest way to understand the EKF is to just start off with an example. Perhaps the reason for some of my mathematical choices will not be clear, but trust that the end result will be an EKF."
   ]
  },
  {
   "cell_type": "markdown",
   "metadata": {},
   "source": [
    "## Example: Tracking a Flying Airplane"
   ]
  },
  {
   "cell_type": "markdown",
   "metadata": {},
   "source": [
    "We will start by simulating tracking an airplane by using ground based radar. Radars work by emitting a beam of radio waves and scanning for a return bounce. Anything in the beam's path will reflects some of the signal back to the radar. By timing how long it takes for the reflected signal to get back to the radar the system can compute the *slant distance* - the straight line distance from the radar installation to the object.\n",
    "\n",
    "For this example we want to take the slant range measurement from the radar and compute the horizontal position (distance of aircraft from the radar measured over the ground) and altitude of the aircraft, as in the diagram below."
   ]
  },
  {
   "cell_type": "code",
   "execution_count": 4,
   "metadata": {
    "collapsed": false
   },
   "outputs": [
    {
     "data": {
      "image/png": "[encoded data removed]",
      "text/plain": [
       "<matplotlib.figure.Figure at 0x6e9b3c8>"
      ]
     },
     "metadata": {},
     "output_type": "display_data"
    }
   ],
   "source": [
    "import ekf_internal\n",
    "ekf_internal.show_radar_chart()"
   ]
  },
  {
   "cell_type": "markdown",
   "metadata": {},
   "source": [
    "As discussed in the introduction, our measurement model is the nonlinear function $x=\\sqrt{slant^2 - altitude^2}$. Therefore we will need a nonlinear \n",
    "\n",
    "Predict step:\n",
    "\n",
    "$$\n",
    "\\begin{array}{ll}\n",
    "\\textbf{Linear} & \\textbf{Nonlinear} \\\\\n",
    "x = Fx & x = \\underline{f(x)} \\\\\n",
    "P = FPF^T + Q & P = FPF^T + Q\n",
    "\\end{array}\n",
    "$$\n",
    "\n",
    "Update step:\n",
    "\n",
    "$$\n",
    "\\begin{array}{ll}\n",
    "\\textbf{Linear} & \\textbf{Nonlinear} \\\\\n",
    "K = PH^T(HPH^T + R)^{-1}& K = PH^T(HPH^T + R)^{-1}\\\\\n",
    "x = x + K(z-Hx) & x = x + K(z-\\underline{h(x)}) \\\\\n",
    "P = P(I - KH) & P = P(I - KH)\\\\\n",
    "\\end{array}\n",
    "$$"
   ]
  },
  {
   "cell_type": "markdown",
   "metadata": {},
   "source": [
    "As we can see there are two minor changes to the Kalman filter equations, which I have underlined. The first change replaces the equation $\\mathbf{x} = \\mathbf{Fx}$ with $\\mathbf{x} = f(\\mathbf{x})$. In the Kalman filter, $\\mathbf{Fx}$ is how we compute the new state based on the old state. However, in a nonlinear system we cannot use linear algebra to compute this transition. So instead we hypothesize a nonlinear function $f()$ which performs this function. Likewise, in the Kalman filter we convert the state to a measurement with the linear function $\\mathbf{Hx}$. For the extended Kalman filter we replace this with a nonlinear function $h()$, giving $\\mathbf{z}_x = h(\\mathbf{x})$.\n",
    "\n",
    "The only question left is how do we implement and use $f()$ and $h()$ in the Kalman filter if they are nonlinear? We reach for the single tool that we have available for solving nonlinear equations - we linearize them at the point we want to evaluate the system.  For example, consider the function $f(x) = x^2 -2x$.\n",
    "\n",
    "The rest of the equations are unchanged, so $f()$ and $h()$ must produce a matrix that approximates the values of the matrices $\\mathbf{F}$ and $\\mathbf{H}$ at the current value for $\\mathbf{x}$. We do this by computing the partial derivatives of the state and measurements functions:"
   ]
  },
  {
   "cell_type": "markdown",
   "metadata": {},
   "source": [
    "### Design the State Variables"
   ]
  },
  {
   "cell_type": "markdown",
   "metadata": {},
   "source": [
    "So we want to track the position of an aircraft assuming a constant velocity and altitude, and measurements of the slant distance to the aircraft. That means we need 3 state variables - horizontal distance, velocity, and altitude.\n",
    "\n",
    "$$\\mathbf{x} = \\begin{bmatrix}distance \\\\velocity\\\\ altitude\\end{bmatrix}=  \\begin{bmatrix}x_{pos} \\\\x_{vel}\\\\ x_{alt}\\end{bmatrix}$$"
   ]
  },
  {
   "cell_type": "markdown",
   "metadata": {},
   "source": [
    "### Design the System Model"
   ]
  },
  {
   "cell_type": "markdown",
   "metadata": {},
   "source": [
    "We will model this as a set of differential equations. So we need an equation in the form \n",
    "$$\\dot{\\mathbf{x}} = \\mathbf{Ax} + \\mathbf{w}$$\n",
    "\n",
    "where $\\mathbf{w}$ is the system noise. \n",
    "\n",
    "Let's work out the equation for each of the rows in $\\mathbf{x}.$\n",
    "\n",
    "The first row is $\\dot{x}_{pos}$, which is the velocity of the airplane. So we can say \n",
    "\n",
    "$$\\dot{x}_{pos} = x_{vel}$$\n",
    "\n",
    "The second row is $\\dot{x}_{vel}$, which is the acceleration of the airplane. We assume constant velocity, so the acceleration equals zero. However, we also assume system noise due to things like buffeting winds, errors in control inputs, and so on, so we need to add an error $w_{acc}$ to the term, like so\n",
    "\n",
    "$$\\dot{x}_{vel} = 0 + w_{acc}$$\n",
    "\n",
    "The final row contains $\\dot{x}_{alt}$, which is the rate of change in the altitude. We assume a constant altitude, so this term is 0, but as with acceleration we need to add in a noise term to account for things like wind, air density, and so on. This gives us\n",
    "\n",
    "$$\\dot{x}_{alt} = 0 + w_{alt}$$\n",
    "\n",
    "We turn this into matrix form with the following:\n",
    "\n",
    "$$\\dot{\\mathbf{x}} = \\begin{bmatrix} 0 & 1 & 0 \\\\ 0& 0& 0 \\\\ 0&0&0\\end{bmatrix}\n",
    "\\begin{bmatrix}x_{pos} \\\\x_{vel}\\\\ x_{alt}\\end{bmatrix} + \\begin{bmatrix}0 \\\\w_{vel}\\\\ w_{alt}\\end{bmatrix}\n",
    "$$\n",
    "\n",
    "Now we have our differential equations for the system we can somehow solve for them to get our familiar Kalman filter state equation\n",
    "\n",
    "$$ \\mathbf{x}=\\mathbf{Fx}$$\n",
    "\n",
    "Solving an arbitrary set of differential equations is beyond the scope of this book, however most Kalman filters are amenable to Taylor-series expansion which I will briefly explain here without proof. The section **Modeling Dynamic Systems** in the **Kalman Filter Math** chapter contains much more information on this technique.\n",
    "\n",
    "Given the partial differential equation \n",
    "\n",
    "$$\\mathbf{F} = \\frac{\\partial f(\\mathbf{x})}{\\partial x}$$\n",
    "\n",
    "the solution is $e^{\\mathbf{F}t}$. This is a standard answer learned in a first year partial differential equations course, and is not intuitively obvious from the material presented so far. However, we can compute the exponential matrix $e^{\\mathbf{F}t}$ using a Taylor-series expansion in the form:\n",
    "\n",
    "$$\\Phi = \\mathbf{I} + \\mathbf{F}\\Delta t + \\frac{(\\mathbf{F}\\Delta t)^2}{2!} +  \\frac{(\\mathbf{F}\\Delta t)^3}{3!} + \\ldots$$\n",
    "\n",
    "You may expand that equation to as many terms as required for accuracy, however many problems only use the first term\n",
    "\n",
    "$$\\Phi \\approx \\mathbf{I} + \\mathbf{F}\\Delta t$$"
   ]
  },
  {
   "cell_type": "markdown",
   "metadata": {},
   "source": [
    "We can then compute the system matrix by substituting $\\Phi$ in $x(t_k) = \\Phi(\\Delta t)x(t_{k-1})$. Thus, $\\Phi$ is our system matrix.\n",
    "\n",
    "We cannot use Greek symbols in Python, so the code uses the symbol `F` for $\\Phi$. This is admittedly confusing. In the math above $\\mathbf{F}$ represents the system of partial differential equations, and $\\Phi$ is the system matrix. In the Python the partial differential equations are not represented in the code, and the system matrix is `F`."
   ]
  },
  {
   "cell_type": "markdown",
   "metadata": {},
   "source": [
    "### Design the Measurement Model"
   ]
  },
  {
   "cell_type": "markdown",
   "metadata": {},
   "source": [
    "The measurement function for our filter needs to take the filter state $\\mathbf{x}$ and turn it into a slant range distance. This is nothing more than the Pythagorean theorem.\n",
    "\n",
    "$$h(\\mathbf{x}) = \\sqrt{x_{pos}^2 + x_{alt}^2}$$\n",
    "\n",
    "The relationship between the slant distance and the position on the ground is nonlinear due to the square root term.\n",
    "So what we need to do is linearize the measurement function at some point. As we discussed above, the best way to linearize an equation at a point is to find its slope, which we do by taking its derivative.\n",
    "\n",
    "$$\n",
    "\\mathbf{H} \\equiv \\frac{\\partial{h}}{\\partial{x}}\\biggr|_x \n",
    "$$\n",
    "\n",
    "The derivative of a matrix is called a Jacobian, which in general takes the form \n",
    "\n",
    "$$\\frac{\\partial \\mathbf{h}}{\\partial \\mathbf{x}} = \n",
    "\\begin{bmatrix}\n",
    "\\frac{\\partial h_1}{\\partial x_1} & \\frac{\\partial h_1}{\\partial x_2} &\\dots \\\\\n",
    "\\frac{\\partial h_2}{\\partial x_1} & \\frac{\\partial h_2}{\\partial x_2} &\\dots \\\\\n",
    "\\vdots & \\vdots\n",
    "\\end{bmatrix}\n",
    "$$\n",
    "\n",
    "In other words, each element in the matrix is the partial derivative of the function $h$ with respect to the variables $x$. For our problem we have\n",
    "\n",
    "$$\\mathbf{H} = \\begin{bmatrix}\\frac{\\partial h}{\\partial x_{pos}} & \\frac{\\partial h}{\\partial x_{vel}} & \\frac{\\partial h}{\\partial x_{alt}}\\end{bmatrix}$$\n",
    "\n",
    "where $h(x) = \\sqrt{x_{pos}^2 + x_{alt}^2}$ as given above.\n",
    "\n",
    "Solving each in turn:\n",
    "\n",
    "$$\\begin{aligned}\n",
    "\\frac{\\partial h}{\\partial x_{pos}} &= \\\\ &=\\frac{\\partial}{\\partial x_{pos}} \\sqrt{x_{pos}^2 + x_{alt}^2} \\\\ &= \\frac{x_{pos}}{\\sqrt{x^2 + x_{alt}^2}}\n",
    "\\end{aligned}$$\n",
    "\n",
    "and\n",
    "\n",
    "$$\\begin{aligned}\n",
    "\\frac{\\partial h}{\\partial x_{vel}} &=\\\\\n",
    "&= \\frac{\\partial}{\\partial x_{vel}} \\sqrt{x_{pos}^2 + x_{alt}^2} \\\\ \n",
    "&= 0\n",
    "\\end{aligned}$$\n",
    "\n",
    "and\n",
    "\n",
    "$$\\begin{aligned}\n",
    "\\frac{\\partial h}{\\partial x_{alt}} &=\\\\ &= \\frac{\\partial}{\\partial x_{alt}} \\sqrt{x_{pos}^2 + x_{alt}^2} \\\\ &= \\frac{x_{alt}}{\\sqrt{x_{pos}^2 + x_{alt}^2}}\n",
    "\\end{aligned}$$\n",
    "\n",
    "giving us \n",
    "\n",
    "$$\\mathbf{H} = \n",
    "\\begin{bmatrix}\n",
    "\\frac{x_{pos}}{\\sqrt{x_{pos}^2 + x_{alt}^2}} & \n",
    "0 &\n",
    "&\n",
    "\\frac{x_{alt}}{\\sqrt{x_{pos}^2 + x_{alt}^2}}\n",
    "\\end{bmatrix}$$\n",
    "\n",
    "This may seem daunting, so step back and recognize that all of this math is just doing something very simple. We have an equation for the slant range to the airplane which is nonlinear. The Kalman filter only works with linear equations, so we need to find a linear equation that approximates $\\mathbf{H}$ As we discussed above, finding the slope of a nonlinear equation at a given point is a good approximation. For the Kalman filter, the 'given point' is the state variable $\\mathbf{x}$ so we need to take the derivative of the slant range with respect to $\\mathbf{x}$. \n",
    "\n",
    "To make this more concrete, let's now write a Python function that computes the Jacobian of $\\mathbf{H}$. The `ExtendedKalmanFilter` class will be using this to generate `ExtendedKalmanFilter.H` at each step of the process."
   ]
  },
  {
   "cell_type": "code",
   "execution_count": 5,
   "metadata": {
    "collapsed": false
   },
   "outputs": [],
   "source": [
    "from math import sqrt\n",
    "def HJacobian_at(x):\n",
    "    \"\"\" compute Jacobian of H matrix for state x \"\"\"\n",
    "\n",
    "    horiz_dist = x[0]\n",
    "    altitude   = x[2]\n",
    "    denom = sqrt(horiz_dist**2 + altitude**2)\n",
    "    return array ([[horiz_dist/denom, 0., altitude/denom]])"
   ]
  },
  {
   "cell_type": "markdown",
   "metadata": {},
   "source": [
    "Finally, let's provide the code for $h(\\mathbf{x})$"
   ]
  },
  {
   "cell_type": "code",
   "execution_count": 6,
   "metadata": {
    "collapsed": false
   },
   "outputs": [],
   "source": [
    "def hx(x):\n",
    "    \"\"\" compute measurement for slant range that would correspond \n",
    "    to state x.\n",
    "    \"\"\"\n",
    "    \n",
    "    return (x[0]**2 + x[2]**2) ** 0.5"
   ]
  },
  {
   "cell_type": "markdown",
   "metadata": {},
   "source": [
    "Now lets write a simulation for our radar."
   ]
  },
  {
   "cell_type": "code",
   "execution_count": 7,
   "metadata": {
    "collapsed": false
   },
   "outputs": [],
   "source": [
    "from numpy.random import randn\n",
    "import math\n",
    "\n",
    "class RadarSim(object):\n",
    "    \"\"\" Simulates the radar signal returns from an object flying \n",
    "    at a constant altityude and velocity in 1D. \n",
    "    \"\"\"\n",
    "    \n",
    "    def __init__(self, dt, pos, vel, alt):\n",
    "        self.pos = pos\n",
    "        self.vel = vel\n",
    "        self.alt = alt\n",
    "        self.dt = dt\n",
    "        \n",
    "    def get_range(self):\n",
    "        \"\"\" Returns slant range to the object. Call once for each\n",
    "        new measurement at dt time from last call.\n",
    "        \"\"\"\n",
    "        \n",
    "        # add some process noise to the system\n",
    "        self.vel = self.vel  + .1*randn()\n",
    "        self.alt = self.alt + .1*randn()\n",
    "        self.pos = self.pos + self.vel*self.dt\n",
    "    \n",
    "        # add measurement noise\n",
    "        err = self.pos * 0.05*randn()\n",
    "        slant_dist = math.sqrt(self.pos**2 + self.alt**2)\n",
    "        \n",
    "        return slant_dist + err"
   ]
  },
  {
   "cell_type": "markdown",
   "metadata": {},
   "source": [
    "Now we can implement our filter. I have not yet designed $\\mathbf{R}$ and $\\mathbf{Q}$ which is required to get optimal performance. However, we have already covered a lot of confusing material and I want you to see concrete examples as soon as possible. Therefore I will use 'reasonable' values for $\\mathbf{R}$ and $\\mathbf{Q}$.\n",
    "\n",
    "The `FilterPy` library provides the class `ExtendedKalmanFilter`. It works very similar to the `KalmanFilter` class we have been using, except that it allows you to provide functions that compute the Jacobian of $\\mathbf{H}$ and the function $h(\\mathbf{x})$. We have already written the code for these two functions, so let's just get going.\n",
    "\n",
    "We start by importing the filter and creating it. There are 3 variables in `x` and only 1 measurement. At the same time we will create our radar simulator.\n",
    "\n",
    "    from filterpy.kalman import ExtendedKalmanFilter\n",
    "\n",
    "    rk = ExtendedKalmanFilter(dim_x=3, dim_z=1)\n",
    "    radar = RadarSim(dt, pos=0., vel=100., alt=1000.)\n",
    "    \n",
    "We will initialize the filter near the airplane's actual position\n",
    "\n",
    "    rk.x = array([radar.pos, radar.vel-10, radar.alt+100])\n",
    "    \n",
    "We assign the system matrix using the first term of the Taylor series expansion we computed above.\n",
    "\n",
    "    dt = 0.05\n",
    "    rk.F = eye(3) + array([[0, 1, 0],\n",
    "                           [0, 0, 0],\n",
    "                           [0, 0, 0]])*dt\n",
    "                            \n",
    "After assigning reasonable values to $\\mathbf{R}$, $\\mathbf{Q}$, and $\\mathbf{P}$ we can run the filter with a simple loop\n",
    "\n",
    "    for i in range(int(20/dt)):\n",
    "        z = radar.get_range()\n",
    "        rk.update(array([z]), HJacobian_at, hx)\n",
    "        rk.predict()\n",
    "                       \n",
    "Putting that all together along with some boilerplate code to save the results and plot them, we get"
   ]
  },
  {
   "cell_type": "code",
   "execution_count": 8,
   "metadata": {
    "collapsed": false
   },
   "outputs": [
    {
     "data": {
      "image/png": "[encoded data removed]",
      "text/plain": [
       "<matplotlib.figure.Figure at 0x8047390>"
      ]
     },
     "metadata": {},
     "output_type": "display_data"
    },
    {
     "data": {
      "image/png": "[encoded data removed]",
      "text/plain": [
       "<matplotlib.figure.Figure at 0x80d7240>"
      ]
     },
     "metadata": {},
     "output_type": "display_data"
    },
    {
     "data": {
      "image/png": "[encoded data removed]",
      "text/plain": [
       "<matplotlib.figure.Figure at 0x7fdd470>"
      ]
     },
     "metadata": {},
     "output_type": "display_data"
    }
   ],
   "source": [
    "from filterpy.kalman import ExtendedKalmanFilter\n",
    "from numpy import eye, array, asarray\n",
    "import book_plots as bp\n",
    "\n",
    "dt = 0.05\n",
    "rk = ExtendedKalmanFilter(dim_x=3, dim_z=1)\n",
    "radar = RadarSim(dt, pos=0., vel=100., alt=1000.)\n",
    "\n",
    "# make an imperfect starting guess\n",
    "rk.x = array([radar.pos-100, radar.vel+100, radar.alt+1000])\n",
    "\n",
    "\n",
    "rk.F = eye(3) + array([[0, 1, 0],\n",
    "                       [0, 0, 0],\n",
    "                       [0, 0, 0]])*dt\n",
    "\n",
    "rk.R = radar.alt * 0.05 # 5% of distance\n",
    "rk.Q = array([[0, 0, 0],\n",
    "              [0, 1, 0],\n",
    "              [0, 0, 1]]) * 0.001\n",
    "'''\n",
    "wv = .1**2\n",
    "wa = .1**2\n",
    "rk.Q = array([[dt**3 * wv/3, dt**2*wv/2, 0],\n",
    "              [dt**2*wv/2, dt*wv, 0],\n",
    "              [0, 0, wa*dt]])'''\n",
    "rk.P *= 50\n",
    "\n",
    "\n",
    "xs = []\n",
    "track = []\n",
    "for i in range(int(20/dt)):\n",
    "    z = radar.get_range()\n",
    "    track.append((radar.pos, radar.vel, radar.alt))\n",
    "    \n",
    "    rk.update(array([z]), HJacobian_at, hx)\n",
    "    xs.append(rk.x)\n",
    "    rk.predict()\n",
    "\n",
    "\n",
    "xs = asarray(xs)\n",
    "track = asarray(track)\n",
    "time = np.arange(0, len(xs)*dt, dt)\n",
    "\n",
    "plt.figure()\n",
    "bp.plot_track(time, track[:, 0])\n",
    "bp.plot_filter(time, xs[:, 0])\n",
    "plt.legend(loc=4)\n",
    "plt.xlabel('time (sec)')\n",
    "plt.ylabel('position (m)')\n",
    "\n",
    "\n",
    "plt.figure()\n",
    "bp.plot_track(time, track[:, 1])\n",
    "bp.plot_filter(time, xs[:, 1])\n",
    "plt.legend(loc=4)\n",
    "plt.xlabel('time (sec)')\n",
    "plt.ylabel('velocity (m/s)')\n",
    "\n",
    "plt.figure()\n",
    "bp.plot_track(time, track[:, 2])\n",
    "bp.plot_filter(time, xs[:, 2])\n",
    "plt.ylabel('altitude (m)')\n",
    "plt.legend(loc=4)\n",
    "plt.xlabel('time (sec)')\n",
    "plt.ylim((900, 1600))\n",
    "plt.show()"
   ]
  },
  {
   "cell_type": "markdown",
   "metadata": {},
   "source": [
    "## Using SymPy to compute Jacobians"
   ]
  },
  {
   "cell_type": "markdown",
   "metadata": {},
   "source": [
    "Depending on your experience with derivatives you may have found the computation of the Jacobian above either fairly straightforward, or quite difficult. Even if you found it easy, a slightly more difficult problem easily leads to very difficult computations.\n",
    "\n",
    "As explained in Appendix A, we can use the SymPy package to compute the Jacobian for us. "
   ]
  },
  {
   "cell_type": "code",
   "execution_count": 9,
   "metadata": {
    "collapsed": false,
    "scrolled": true
   },
   "outputs": [
    {
     "data": {
      "image/png": "[encoded data removed]",
      "text/latex": [
       "$$\\left[\\begin{matrix}\\frac{x_{pos}}{\\sqrt{x_{alt}^{2} + x_{pos}^{2}}} & 0 & \\frac{x_{alt}}{\\sqrt{x_{alt}^{2} + x_{pos}^{2}}}\\end{matrix}\\right]$$"
      ],
      "text/plain": [
       "⎡       x_pos                    x_alt        ⎤\n",
       "⎢────────────────────  0  ────────────────────⎥\n",
       "⎢   _________________        _________________⎥\n",
       "⎢  ╱      2        2        ╱      2        2 ⎥\n",
       "⎣╲╱  x_alt  + x_pos       ╲╱  x_alt  + x_pos  ⎦"
      ]
     },
     "execution_count": 9,
     "metadata": {},
     "output_type": "execute_result"
    }
   ],
   "source": [
    "import sympy\n",
    "sympy.init_printing()\n",
    "\n",
    "x_pos, x_vel, x_alt = sympy.symbols('x_pos, x_vel x_alt')\n",
    "\n",
    "H = sympy.Matrix([sympy.sqrt(x_pos**2 + x_alt**2)])\n",
    "\n",
    "state = sympy.Matrix([x_pos, x_vel, x_alt])\n",
    "H.jacobian(state)"
   ]
  },
  {
   "cell_type": "markdown",
   "metadata": {},
   "source": [
    "This result is the same as the result we computed above, and at much less effort on our part!"
   ]
  },
  {
   "cell_type": "markdown",
   "metadata": {},
   "source": [
    "## Designing Q"
   ]
  },
  {
   "cell_type": "markdown",
   "metadata": {},
   "source": [
    "**author's note: ignore this, it  to be revised - noise in position and altitude is independent, not dependent**\n",
    "\n",
    "Now we need to design the process noise matrix $\\mathbf{Q}$. From the previous section we have the system equation\n",
    "\n",
    "$$\\dot{\\mathbf{x}} = \\begin{bmatrix} 0 & 1 & 0 \\\\ 0& 0& 0 \\\\ 0&0&0\\end{bmatrix}\n",
    "\\begin{bmatrix}x_{pos} \\\\x_{vel}\\\\ x_{alt}\\end{bmatrix} + \\begin{bmatrix}0 \\\\w_{vel}\\\\ w_{alt}\\end{bmatrix}\n",
    "$$\n",
    "\n",
    "where our process noise is\n",
    "\n",
    "$$w = \\begin{bmatrix}0 \\\\w_{vel}\\\\ w_{alt}\\end{bmatrix}$$\n",
    "\n",
    "We know from the Kalman filter math chapter that \n",
    "\n",
    "$$\\mathbf{Q} = E(ww^T)$$\n",
    "\n",
    "where $E(\\bullet)$ is the expected value. We compute the expected value as\n",
    "\n",
    "$$\\mathbf{Q} = \\int_0^{dt} \\Phi(t)\\mathbf{Q}\\Phi^T(t) dt$$"
   ]
  },
  {
   "cell_type": "markdown",
   "metadata": {},
   "source": [
    "Rather than do this by hand, let's use sympy."
   ]
  },
  {
   "cell_type": "code",
   "execution_count": 10,
   "metadata": {
    "collapsed": false
   },
   "outputs": [
    {
     "data": {
      "text/latex": [
       "$$\\left[\\begin{matrix}\\frac{\\Delta{t}^{3} w_{vel}^{2}}{3} & \\frac{\\Delta{t}^{2} w_{vel}^{2}}{2} & \\frac{w_{alt} w_{vel}}{2} \\Delta{t}^{2}\\\\\\frac{\\Delta{t}^{2} w_{vel}^{2}}{2} & \\Delta{t} w_{vel}^{2} & \\Delta{t} w_{alt} w_{vel}\\\\\\frac{w_{alt} w_{vel}}{2} \\Delta{t}^{2} & \\Delta{t} w_{alt} w_{vel} & \\Delta{t} w_{alt}^{2}\\end{matrix}\\right]$$"
      ],
      "text/plain": [
       "⎡           3      2                2      2             2            ⎤\n",
       "⎢  \\Delta{t} ⋅w_vel        \\Delta{t} ⋅w_vel     \\Delta{t} ⋅w_alt⋅w_vel⎥\n",
       "⎢  ─────────────────       ─────────────────    ──────────────────────⎥\n",
       "⎢          3                       2                      2           ⎥\n",
       "⎢                                                                     ⎥\n",
       "⎢           2      2                                                  ⎥\n",
       "⎢  \\Delta{t} ⋅w_vel                       2                           ⎥\n",
       "⎢  ─────────────────       \\Delta{t}⋅w_vel      \\Delta{t}⋅w_alt⋅w_vel ⎥\n",
       "⎢          2                                                          ⎥\n",
       "⎢                                                                     ⎥\n",
       "⎢         2                                                           ⎥\n",
       "⎢\\Delta{t} ⋅w_alt⋅w_vel                                           2   ⎥\n",
       "⎢──────────────────────  \\Delta{t}⋅w_alt⋅w_vel     \\Delta{t}⋅w_alt    ⎥\n",
       "⎣          2                                                          ⎦"
      ]
     },
     "execution_count": 10,
     "metadata": {},
     "output_type": "execute_result"
    }
   ],
   "source": [
    "import sympy\n",
    "from sympy import Matrix\n",
    "sympy.init_printing(use_latex='mathjax')\n",
    "w_vel, w_alt, dt = sympy.symbols('w_vel w_alt \\Delta{t}')\n",
    "w = Matrix([[0, w_vel, w_alt]]).T\n",
    "phi = Matrix([[1, dt, 0], [0, 1, 0], [0,0,1]])\n",
    "\n",
    "q = w*w.T\n",
    "\n",
    "sympy.integrate(phi*q*phi.T, (dt, 0, dt))"
   ]
  },
  {
   "cell_type": "markdown",
   "metadata": {},
   "source": [
    "## Robot Localization\n",
    "\n",
    "So, time to try a real problem. I warn you that this is far from a simple problem. However, most books choose simple, textbook problems with simple answers, and you are left wondering how to implement a real world solution. \n",
    "\n",
    "We will consider the problem of robot localization. In this scenario we have a robot that is moving through a landscape with sensors that give range and bearings to various landmarks. This could be a self driving car using computer vision to identify trees, buildings, and other landmarks. Or, it might be one of those small robots that  vacuum your house. It could be a search and rescue device meant to go into dangerous areas to search for survivors. It doesn't matter too much. \n",
    "\n",
    "Our robot is wheeled, which means that it manuevers by turning it's wheels. When it does so, the robot pivots around the rear axle while moving forward. This is nonlinear behavior which we will have to account for. The robot has a sensor that gives it approximate range and bearing to known targets in the landscape. This is nonlinear because computing a position from  a range and bearing requires square roots and trigonometry. \n",
    "\n",
    "### Robot Motion Model"
   ]
  },
  {
   "cell_type": "code",
   "execution_count": 11,
   "metadata": {
    "collapsed": false,
    "scrolled": true
   },
   "outputs": [
    {
     "data": {
      "image/png": "[encoded data removed]",
      "text/plain": [
       "<matplotlib.figure.Figure at 0x80b8978>"
      ]
     },
     "metadata": {},
     "output_type": "display_data"
    }
   ],
   "source": [
    "ekf_internal.plot_bicycle()"
   ]
  },
  {
   "cell_type": "markdown",
   "metadata": {},
   "source": [
    "At a first approximation n automobile steers by turning the front tires while moving forward. The front of the car moves in the direction that the wheels are pointing while pivoting around the rear tires. This simple description is complicated by issues such as slippage due to friction, the differing behavior of the rubber tires at different speeds, and the need for the outside tire to travel a different radius than the inner tire. Accurately modelling steering requires an ugly set of differential equations. For Kalman filtering, especially for lower speed robotic applications a simpler *bicycle model* has been found to perform well. \n",
    "\n",
    "I have depicted this model above. Here we see the front tire is pointing in direction $\\alpha$. Over a short time period the car moves forward and the rear wheel ends up further ahead and slightly turned inward, as depicted with the blue shaded tire. Over such a short time frame we can approximate this as a turn around a radius $R$. If you google bicycle model you will find that we can compute the turn angle $\\beta$ with\n",
    "\n",
    "$$\\beta = \\frac{d}{w} \\tan{(\\alpha)}$$\n",
    "\n",
    "and the turning radius R is given by \n",
    "\n",
    "$$R = \\frac{d}{\\beta}$$\n",
    "\n",
    "where the distance the rear wheel travels given a forward velocity $v$ is $d=v\\Delta t$.\n",
    "\n",
    "If we let $\\theta$ be our current orientation then we can compute the position $C$ before the turn starts as\n",
    "\n",
    "$$ C_x = x - R\\sin(\\theta) \\\\\n",
    "C_y = y + R\\cos(\\theta)\n",
    "$$\n",
    "\n",
    "After the move forward for time $\\Delta t$ the new position and orientation of the robot is\n",
    "\n",
    "$$\\begin{aligned} x &= C_x + R\\sin(\\theta + \\beta) \\\\\n",
    "y &= C_y - R\\cos(\\theta + \\beta) \\\\\n",
    "\\theta &= \\theta + \\beta\n",
    "\\end{aligned}\n",
    "$$\n",
    "\n",
    "Once we substitute in for $C$ we get\n",
    "\n",
    "$$\\begin{aligned} x &= x - R\\sin(\\theta) + R\\sin(\\theta + \\beta) \\\\\n",
    "y &= y + R\\cos(\\theta) - R\\cos(\\theta + \\beta) \\\\\n",
    "\\theta &= \\theta + \\beta\n",
    "\\end{aligned}\n",
    "$$\n",
    "\n",
    "You don't really need to understand this math in detail, as it is already a simplification of the real motion. The important thing to recognize is that our motion model is nonlinear, and we will need to deal with that with our Kalman filter."
   ]
  },
  {
   "cell_type": "markdown",
   "metadata": {},
   "source": [
    "### Design the State Variables\n",
    "\n",
    "For our robot we will maintain the position and orientation of the robot:\n",
    "\n",
    "$$\\mathbf{x} = \\begin{bmatrix}x \\\\ y \\\\ \\theta\\end{bmatrix}$$\n",
    "\n",
    "I could include velocities into this model, but as you will see the math will already be quite challenging.\n",
    "\n",
    "Our control input $\\mathbf{u}$ is the velocity and steering angle\n",
    "\n",
    "$$\\mathbf{u} = \\begin{bmatrix}v \\\\ \\alpha\\end{bmatrix}$$"
   ]
  },
  {
   "cell_type": "markdown",
   "metadata": {},
   "source": [
    "### Design the System Model\n",
    "\n",
    "In general we model our system as a nonlinear motion model plus noise.\n",
    "\n",
    "$$x^- = x + f(x, u) + \\mathcal{N}(0, Q)$$\n",
    "\n",
    "Using the motion model for a robot that we created above, we can expand this to\n",
    "\n",
    "$$\\begin{bmatrix}x\\\\y\\\\\\theta\\end{bmatrix}^- = \\begin{bmatrix}x\\\\y\\\\\\theta\\end{bmatrix} + \n",
    "\\begin{bmatrix}- R\\sin(\\theta) + R\\sin(\\theta + \\beta) \\\\\n",
    "R\\cos(\\theta) - R\\cos(\\theta + \\beta) \\\\\n",
    "\\beta\\end{bmatrix}$$\n",
    "\n",
    "We linearize this with a taylor expansion at $x$:\n",
    "\n",
    "$$f(x, u) \\approx \\mathbf{x} + \\frac{\\partial f(x, u)}{\\partial x}$$\n",
    "\n",
    "We replace $f(x, u)$ with our state estimate $\\mathbf{x}$, and the derivative is just the Jacobian of $f$."
   ]
  },
  {
   "cell_type": "markdown",
   "metadata": {},
   "source": [
    "The Jacobian $\\mathbf{F}$ is\n",
    "\n",
    "$$\\mathbf{F} = \\frac{\\partial f(x, u)}{\\partial x} =\\begin{bmatrix}\n",
    "\\frac{\\partial \\dot{x}}{\\partial x} & \n",
    "\\frac{\\partial \\dot{x}}{\\partial y} &\n",
    "\\frac{\\partial \\dot{x}}{\\partial \\theta}\\\\\n",
    "\\frac{\\partial \\dot{y}}{\\partial x} & \n",
    "\\frac{\\partial \\dot{y}}{\\partial y} &\n",
    "\\frac{\\partial \\dot{y}}{\\partial \\theta} \\\\\n",
    "\\frac{\\partial \\dot{\\theta}}{\\partial x} & \n",
    "\\frac{\\partial \\dot{\\theta}}{\\partial y} &\n",
    "\\frac{\\partial \\dot{\\theta}}{\\partial \\theta}\n",
    "\\end{bmatrix}\n",
    "$$\n",
    "\n",
    "When we calculate these we get\n",
    "\n",
    "$$\\mathbf{F} = \\begin{bmatrix}\n",
    "1 & 0 & -R\\cos(\\theta) + R\\cos(\\theta+\\beta) \\\\\n",
    "0 & 1 & -R\\sin(\\theta) + R\\sin(\\theta+\\beta) \\\\\n",
    "0 & 0 & 1\n",
    "\\end{bmatrix}$$\n",
    "\n",
    "We can double check our work with SymPy."
   ]
  },
  {
   "cell_type": "code",
   "execution_count": 12,
   "metadata": {
    "collapsed": false,
    "scrolled": false
   },
   "outputs": [
    {
     "data": {
      "text/latex": [
       "$$\\left[\\begin{matrix}1 & 0 & - \\frac{w \\cos{\\left (\\theta \\right )}}{\\tan{\\left (a \\right )}} + \\frac{w}{\\tan{\\left (a \\right )}} \\cos{\\left (\\frac{t v}{w} \\tan{\\left (a \\right )} + \\theta \\right )}\\\\0 & 1 & - \\frac{w \\sin{\\left (\\theta \\right )}}{\\tan{\\left (a \\right )}} + \\frac{w}{\\tan{\\left (a \\right )}} \\sin{\\left (\\frac{t v}{w} \\tan{\\left (a \\right )} + \\theta \\right )}\\\\0 & 0 & 1\\end{matrix}\\right]$$"
      ],
      "text/plain": [
       "⎡                        ⎛t⋅v⋅tan(a)    ⎞⎤\n",
       "⎢                   w⋅cos⎜────────── + θ⎟⎥\n",
       "⎢        w⋅cos(θ)        ⎝    w         ⎠⎥\n",
       "⎢1  0  - ──────── + ─────────────────────⎥\n",
       "⎢         tan(a)            tan(a)       ⎥\n",
       "⎢                                        ⎥\n",
       "⎢                        ⎛t⋅v⋅tan(a)    ⎞⎥\n",
       "⎢                   w⋅sin⎜────────── + θ⎟⎥\n",
       "⎢        w⋅sin(θ)        ⎝    w         ⎠⎥\n",
       "⎢0  1  - ──────── + ─────────────────────⎥\n",
       "⎢         tan(a)            tan(a)       ⎥\n",
       "⎢                                        ⎥\n",
       "⎣0  0                  1                 ⎦"
      ]
     },
     "execution_count": 12,
     "metadata": {},
     "output_type": "execute_result"
    }
   ],
   "source": [
    "from sympy import symbols\n",
    "a, x, y, v, w, theta, time = symbols('a, x, y, v, w, theta, t')\n",
    "d = v*time\n",
    "beta = (d/w)*sympy.tan(a)\n",
    "R = w/sympy.tan(a)\n",
    "\n",
    "fxu = Matrix([[x-R*sympy.sin(theta)+R*sympy.sin(theta+beta)],\n",
    "              [y+R*sympy.cos(theta)-R*sympy.cos(theta+beta)],\n",
    "              [theta+beta]])\n",
    "\n",
    "fxu.jacobian(Matrix([x, y, theta]))"
   ]
  },
  {
   "cell_type": "markdown",
   "metadata": {},
   "source": [
    "Now we can turn our attention to the noise. Here, the noise is in our control input, so it is in *control space*. In other words, we command a specific velocity and steering angle, but we need to convert that into errors in $x, y, \\theta$. In a real system this might vary depending on velocity, so it will need to be recomputed for every prediction. I will chose this as the noise model; for a real robot you will need to choose a model that accurately depicts the error in your system. \n",
    "\n",
    "$$\\mathbf{M} = \\begin{bmatrix}0.01 vel^2 & 0 \\\\ 0 & \\sigma_\\alpha^2\\end{bmatrix}$$\n",
    "\n",
    "If this was a linear problem we would convert from control space to state space using the by now familiar $\\mathbf{FMF}^\\mathsf{T}$ form. Since our motion model is nonlinear we do not try to find a closed form solution to this, but instead linearize it with a Jacobian which we will name $\\mathbf{V}$. \n",
    "\n",
    "$$\\mathbf{V} = \\frac{\\partial f(x, u)}{\\partial u} \\begin{bmatrix}\n",
    "\\frac{\\partial \\dot{x}}{\\partial v} & \\frac{\\partial \\dot{x}}{\\partial \\alpha} \\\\\n",
    "\\frac{\\partial \\dot{y}}{\\partial v} & \\frac{\\partial \\dot{y}}{\\partial \\alpha} \\\\\n",
    "\\frac{\\partial \\dot{\\theta}}{\\partial v} & \\frac{\\partial \\dot{\\theta}}{\\partial \\alpha}\n",
    "\\end{bmatrix}$$\n",
    "\n",
    "Let's just compute that with SymPy:"
   ]
  },
  {
   "cell_type": "code",
   "execution_count": 13,
   "metadata": {
    "collapsed": false
   },
   "outputs": [
    {
     "data": {
      "text/latex": [
       "$$\\left[\\begin{matrix}t \\cos{\\left (\\frac{t v}{w} \\tan{\\left (a \\right )} + \\theta \\right )} & \\frac{t v}{\\tan{\\left (a \\right )}} \\left(\\tan^{2}{\\left (a \\right )} + 1\\right) \\cos{\\left (\\frac{t v}{w} \\tan{\\left (a \\right )} + \\theta \\right )} - \\frac{w \\sin{\\left (\\theta \\right )}}{\\tan^{2}{\\left (a \\right )}} \\left(- \\tan^{2}{\\left (a \\right )} - 1\\right) + \\frac{w}{\\tan^{2}{\\left (a \\right )}} \\left(- \\tan^{2}{\\left (a \\right )} - 1\\right) \\sin{\\left (\\frac{t v}{w} \\tan{\\left (a \\right )} + \\theta \\right )}\\\\t \\sin{\\left (\\frac{t v}{w} \\tan{\\left (a \\right )} + \\theta \\right )} & \\frac{t v}{\\tan{\\left (a \\right )}} \\left(\\tan^{2}{\\left (a \\right )} + 1\\right) \\sin{\\left (\\frac{t v}{w} \\tan{\\left (a \\right )} + \\theta \\right )} + \\frac{w \\cos{\\left (\\theta \\right )}}{\\tan^{2}{\\left (a \\right )}} \\left(- \\tan^{2}{\\left (a \\right )} - 1\\right) - \\frac{w}{\\tan^{2}{\\left (a \\right )}} \\left(- \\tan^{2}{\\left (a \\right )} - 1\\right) \\cos{\\left (\\frac{t v}{w} \\tan{\\left (a \\right )} + \\theta \\right )}\\\\\\frac{t}{w} \\tan{\\left (a \\right )} & \\frac{t v}{w} \\left(\\tan^{2}{\\left (a \\right )} + 1\\right)\\end{matrix}\\right]$$"
      ],
      "text/plain": [
       "⎡                           ⎛   2       ⎞    ⎛t⋅v⋅tan(a)    ⎞                 \n",
       "⎢                       t⋅v⋅⎝tan (a) + 1⎠⋅cos⎜────────── + θ⎟     ⎛     2     \n",
       "⎢     ⎛t⋅v⋅tan(a)    ⎞                       ⎝    w         ⎠   w⋅⎝- tan (a) -\n",
       "⎢t⋅cos⎜────────── + θ⎟  ───────────────────────────────────── - ──────────────\n",
       "⎢     ⎝    w         ⎠                  tan(a)                             2  \n",
       "⎢                                                                       tan (a\n",
       "⎢                                                                             \n",
       "⎢                           ⎛   2       ⎞    ⎛t⋅v⋅tan(a)    ⎞                 \n",
       "⎢                       t⋅v⋅⎝tan (a) + 1⎠⋅sin⎜────────── + θ⎟     ⎛     2     \n",
       "⎢     ⎛t⋅v⋅tan(a)    ⎞                       ⎝    w         ⎠   w⋅⎝- tan (a) -\n",
       "⎢t⋅sin⎜────────── + θ⎟  ───────────────────────────────────── + ──────────────\n",
       "⎢     ⎝    w         ⎠                  tan(a)                             2  \n",
       "⎢                                                                       tan (a\n",
       "⎢                                                                             \n",
       "⎢                                                                      ⎛   2  \n",
       "⎢      t⋅tan(a)                                                    t⋅v⋅⎝tan (a\n",
       "⎢      ────────                                                    ───────────\n",
       "⎣         w                                                                w  \n",
       "\n",
       "               ⎛     2       ⎞    ⎛t⋅v⋅tan(a)    ⎞⎤\n",
       "  ⎞          w⋅⎝- tan (a) - 1⎠⋅sin⎜────────── + θ⎟⎥\n",
       " 1⎠⋅sin(θ)                        ⎝    w         ⎠⎥\n",
       "────────── + ─────────────────────────────────────⎥\n",
       "                               2                  ⎥\n",
       ")                           tan (a)               ⎥\n",
       "                                                  ⎥\n",
       "               ⎛     2       ⎞    ⎛t⋅v⋅tan(a)    ⎞⎥\n",
       "  ⎞          w⋅⎝- tan (a) - 1⎠⋅cos⎜────────── + θ⎟⎥\n",
       " 1⎠⋅cos(θ)                        ⎝    w         ⎠⎥\n",
       "────────── - ─────────────────────────────────────⎥\n",
       "                               2                  ⎥\n",
       ")                           tan (a)               ⎥\n",
       "                                                  ⎥\n",
       "     ⎞                                            ⎥\n",
       ") + 1⎠                                            ⎥\n",
       "──────                                            ⎥\n",
       "                                                  ⎦"
      ]
     },
     "execution_count": 13,
     "metadata": {},
     "output_type": "execute_result"
    }
   ],
   "source": [
    "fxu.jacobian(Matrix([v, a]))"
   ]
  },
  {
   "cell_type": "markdown",
   "metadata": {},
   "source": [
    "\n",
    "**authors note: explain FPF better**\n",
    "\n",
    "This gives us the final form of our prediction equations:\n",
    "\n",
    "$$\\begin{aligned}\n",
    "\\mathbf{x}^- &= \\mathbf{x} + \n",
    "\\begin{bmatrix}- R\\sin(\\theta) + R\\sin(\\theta + \\beta) \\\\\n",
    "R\\cos(\\theta) - R\\cos(\\theta + \\beta) \\\\\n",
    "\\beta\\end{bmatrix}\\\\\n",
    "\\mathbf{P}^- &=\\mathbf{FPF}^{\\mathsf{T}} + \\mathbf{VMV}^{\\mathsf{T}}\n",
    "\\end{aligned}$$\n",
    "\n",
    "One final point. This form of linearization is not the only way to predict $\\mathbf{x}$. For example, we could use a numerical integration technique like *Runge Kutta* to compute the position of the robot in the future. In fact, if the time step is relatively large you will have to do that. As I am sure you are realizing, things are not as cut and dried with the EKF as it was for the KF. For a real problem you have to very carefully model your system with differential equations and then determine the most appropriate way to solve that system. The correct approach depends on the accuracy you require, how nonlinear the equations are, your processor budget, and numerical stability concerns. These are all topics beyond the scope of this book."
   ]
  },
  {
   "cell_type": "markdown",
   "metadata": {},
   "source": [
    "### Design the Measurement Model\n",
    "\n",
    "Now we need to design our measurement model. For this problem we are assuming that we have a sensor that receives a noisy bearing and range to multiple known locations in the landscape. The measurement model must convert the state $\\begin{bmatrix}x & y&\\theta\\end{bmatrix}^\\mathsf{T}$ into a range and bearing to the landmark. Using $p$ be the position of a landmark, the range $r$ is\n",
    "\n",
    "$$r = \\sqrt{(p_x - x)^2 + (p_y - y)^2}$$\n",
    "\n",
    "We assume that the sensor provides bearing relative to the orientation of the robot, so we must subtract the robot's orientation from the bearing to get the sensor reading, like so:\n",
    "\n",
    "$$\\phi = \\arctan(\\frac{p_y - y}{p_x - x}) - \\theta$$\n",
    "\n",
    "\n",
    "Thus our function is\n",
    "\n",
    "\n",
    "$$\\begin{aligned}\n",
    "\\mathbf{x}& = h(x,p) &+ \\mathcal{N}(0, R)\\\\\n",
    "&= \\begin{bmatrix}\n",
    "\\sqrt{(p_x - x)^2 + (p_y - y)^2} \\\\\n",
    "\\arctan(\\frac{p_y - y}{p_x - x}) - \\theta \n",
    "\\end{bmatrix} &+ \\mathcal{N}(0, R)\n",
    "\\end{aligned}$$\n",
    "\n",
    "This is clearly nonlinear, so we need linearize $h(x, p)$  at $\\mathbf{x}$ by taking its Jacobian. We compute that with SymPy below."
   ]
  },
  {
   "cell_type": "code",
   "execution_count": 14,
   "metadata": {
    "collapsed": false
   },
   "outputs": [
    {
     "data": {
      "text/latex": [
       "$$\\left[\\begin{matrix}\\frac{- px + x}{\\sqrt{\\left(px - x\\right)^{2} + \\left(py - y\\right)^{2}}} & \\frac{- py + y}{\\sqrt{\\left(px - x\\right)^{2} + \\left(py - y\\right)^{2}}} & 0\\\\- \\frac{- py + y}{\\left(px - x\\right)^{2} + \\left(py - y\\right)^{2}} & - \\frac{px - x}{\\left(px - x\\right)^{2} + \\left(py - y\\right)^{2}} & -1\\end{matrix}\\right]$$"
      ],
      "text/plain": [
       "⎡         -px + x                     -py + y              ⎤\n",
       "⎢──────────────────────────  ──────────────────────────  0 ⎥\n",
       "⎢   _______________________     _______________________    ⎥\n",
       "⎢  ╱         2           2     ╱         2           2     ⎥\n",
       "⎢╲╱  (px - x)  + (py - y)    ╲╱  (px - x)  + (py - y)      ⎥\n",
       "⎢                                                          ⎥\n",
       "⎢       -(-py + y)                   -(px - x)             ⎥\n",
       "⎢  ─────────────────────       ─────────────────────     -1⎥\n",
       "⎢          2           2               2           2       ⎥\n",
       "⎣  (px - x)  + (py - y)        (px - x)  + (py - y)        ⎦"
      ]
     },
     "execution_count": 14,
     "metadata": {},
     "output_type": "execute_result"
    }
   ],
   "source": [
    "px, py = symbols('px, py')\n",
    "z = Matrix([[sympy.sqrt((px-x)**2 + (py-y)**2)],\n",
    "            [sympy.atan2(py-y, px-x) - theta]])\n",
    "z.jacobian(Matrix([x, y, theta]))"
   ]
  },
  {
   "cell_type": "markdown",
   "metadata": {
    "collapsed": true
   },
   "source": [
    "Now we need to write that as a Python function. For example we might write:"
   ]
  },
  {
   "cell_type": "code",
   "execution_count": 15,
   "metadata": {
    "collapsed": true
   },
   "outputs": [],
   "source": [
    "from math import sqrt\n",
    "\n",
    "def H_of(x, p):\n",
    "    \"\"\" compute Jacobian of H matrix where h(x) computes the range and\n",
    "    bearing to a landmark for state x \"\"\"\n",
    "\n",
    "    px = p[0]\n",
    "    py = p[1]\n",
    "    hyp = (px - x[0, 0])**2 + (py - x[1, 0])**2\n",
    "    dist = sqrt(hyp)\n",
    "\n",
    "    H = array(\n",
    "        [[-(px - x[0, 0]) / dist, -(py - x[1, 0]) / dist, 0],\n",
    "         [ (py - x[1, 0]) / hyp,  -(px - x[0, 0]) / hyp, -1]])\n",
    "    return H"
   ]
  },
  {
   "cell_type": "markdown",
   "metadata": {
    "collapsed": true
   },
   "source": [
    "We also need to define a function that converts the system state into a measurement."
   ]
  },
  {
   "cell_type": "code",
   "execution_count": 16,
   "metadata": {
    "collapsed": true
   },
   "outputs": [],
   "source": [
    "from math import atan2\n",
    "def Hx(x, p):\n",
    "    \"\"\" takes a state variable and returns the measurement that would\n",
    "    correspond to that state.\n",
    "    \"\"\"\n",
    "    px = p[0]\n",
    "    py = p[1]\n",
    "    dist = sqrt((px - x[0, 0])**2 + (py - x[1, 0])**2)\n",
    "\n",
    "    Hx = array([[dist],\n",
    "                [atan2(py - x[1, 0], px - x[0, 0]) - x[2, 0]]])\n",
    "    return Hx"
   ]
  },
  {
   "cell_type": "markdown",
   "metadata": {
    "collapsed": true
   },
   "source": [
    "### Design Measurement Noise\n",
    "\n",
    "This is quite straightforward as we need to specify measurement noise in measurement space, hence it is linear. It is reasonable to assume that the range and bearing measurement noise is independent, hence\n",
    "\n",
    "$$R=\\begin{bmatrix}\\sigma_{range}^2 & 0 \\\\ 0 & \\sigma_{bearing}^2\\end{bmatrix}$$\n",
    "\n",
    "### Implementation\n",
    "\n",
    "We will use `FilterPy`'s `ExtendedKalmanFilter` class to implment the filter. The prediction of $\\mathbf{x}$ is nonlinear, so we will have to override the method `predict()` to implement this. I'll want to also use this code to simulate the robot, so I'll add a method `move()` that computes the position of the robot which both `predict()` and my simulation can call. You would not need to do this for a real robot, of course.\n",
    "\n",
    "The matrices for the prediction step are quite large; while trying to implement this I made several errors before I finally got it working. I only found my errors by using SymPy's `evalf` function, which allows you to evaluate a SymPy `Matrix` for specific values of the variables. I decided to demonstrate this technique, and to eliminate a possible source of bugs, by using SymPy in the Kalman filter. You'll need to understand a couple of points.\n",
    "\n",
    "First, `evalf` uses a dictionary to pass in the values you want to use. For example, if your matrix contains an x and y, you can write\n",
    "\n",
    "    M.evalf(subs={x:3, y:17})\n",
    "    \n",
    "to evaluate the matrix for `x=3` and `y=17`. \n",
    "\n",
    "Second, `evalf` returns a `sympy.Matrix` object. You can convert it to a numpy array with `numpy.array(m)`, but the result uses type `object` for the elements in the array. You can convert the array to an array of floats with ``numpy.array(m).astype(float)`.\n",
    "\n",
    "So, here is the code:"
   ]
  },
  {
   "cell_type": "code",
   "execution_count": 17,
   "metadata": {
    "collapsed": true
   },
   "outputs": [],
   "source": [
    "from filterpy.kalman import ExtendedKalmanFilter as EKF\n",
    "from numpy import dot, array, sqrt\n",
    "class RobotEKF(EKF):\n",
    "    def __init__(self, dt, wheelbase):\n",
    "        EKF.__init__(self, 3, 2, 2)\n",
    "        self.dt = dt\n",
    "        self.wheelbase = wheelbase\n",
    "\n",
    "        a, x, y, v, w, theta, time = symbols('a, x, y, v, w, theta, t')\n",
    "\n",
    "        d = v*time\n",
    "        beta = (d/w)*sympy.tan(a)\n",
    "        r = w/sympy.tan(a)\n",
    "    \n",
    "        self.fxu = Matrix([[x-r*sympy.sin(theta)+r*sympy.sin(theta+beta)],\n",
    "                           [y+r*sympy.cos(theta)-r*sympy.cos(theta+beta)],\n",
    "                           [theta+beta]])\n",
    "\n",
    "        self.F_j = self.fxu.jacobian(Matrix([x, y, theta]))\n",
    "        self.V_j = self.fxu.jacobian(Matrix([v, a]))\n",
    "\n",
    "        # save dictionary and it's variables for later use\n",
    "        self.subs = {x: 0, y: 0, v:0, a:0, time:dt, w:wheelbase, theta:0}\n",
    "        self.x_x, self.x_y, self.v, self.a, self.theta = x, y, v, a, theta\n",
    "\n",
    "    def predict(self, u=0):\n",
    "        self.x = self.move(self.x, u, self.dt)\n",
    "\n",
    "        self.subs[self.theta] = self.x[2, 0]\n",
    "        self.subs[self.v] = u[0]\n",
    "        self.subs[self.a] = u[1]\n",
    "\n",
    "        F = array(self.F_j.evalf(subs=self.subs)).astype(float)\n",
    "        V = array(self.V_j.evalf(subs=self.subs)).astype(float)\n",
    "\n",
    "        # covariance of motion noise in control space\n",
    "        M = array([[0.1*u[0]**2, 0], [0, sigma_steer**2]])\n",
    "\n",
    "        self.P = dot(F, self.P).dot(F.T) + dot(V, M).dot(V.T)\n",
    "\n",
    "    def move(self, x, u, dt):\n",
    "        h = x[2, 0]\n",
    "        v = u[0]\n",
    "        steering_angle = u[1]\n",
    "\n",
    "        dist = v*dt\n",
    "\n",
    "        if abs(steering_angle) < 0.0001:\n",
    "            # approximate straight line with huge radius\n",
    "            r = 1.e-30\n",
    "        b = dist / self.wheelbase * tan(steering_angle)\n",
    "        r = self.wheelbase / tan(steering_angle) # radius\n",
    "        sinh = sin(h)\n",
    "        sinhb = sin(h + b)\n",
    "        cosh = cos(h)\n",
    "        coshb = cos(h + b)\n",
    "        return x + array([[-r*sinh + r*sinhb],\n",
    "                          [r*cosh - r*coshb],\n",
    "                          [b]])\n"
   ]
  },
  {
   "cell_type": "markdown",
   "metadata": {},
   "source": [
    "Now we have another issue to handle. The residual is notionally computed as $y = z - h(x)$ but this will not work because our measurement contains an angle in it. Suppose z has a bearing of $1^\\circ$ and $h(x)$ has a bearing of $359^\\circ$. Naively subtracting them would yield a bearing difference of $-358^\\circ$, which will throw off the computation of the Kalman gain. The correct angle difference in this case is $-2^\\circ$. So we will have to write code to correctly compute the bearing residual."
   ]
  },
  {
   "cell_type": "code",
   "execution_count": 18,
   "metadata": {
    "collapsed": true
   },
   "outputs": [],
   "source": [
    "def residual(a,b):\n",
    "    \"\"\" compute residual between two measurement containing [range, bearing]. Bearing\n",
    "    is normalized to [0, 360)\"\"\"\n",
    "    y = a - b\n",
    "    if y[1] > np.pi:\n",
    "        y[1] -= 2*np.pi\n",
    "    if y[1] < -np.pi:\n",
    "        y[1] = 2*np.pi\n",
    "    return y"
   ]
  },
  {
   "cell_type": "markdown",
   "metadata": {},
   "source": [
    "The rest of the code runs the simulation, and shouldn't need to much comment by now. I create a variable `map` that contains the coordinates of the landmarks. I update the simulated robot position 10 times a second, but run the EKF only once. This is for two reasons. First, we are not using Runge Kutta to integrate the differental equations of motion, so a narrow time step allows our simulation to be more accurate. Second, it is fairly normal in embedded systems to have limited processing speed. This forces you to run your Kalman filter only as frequently as absolutely needed."
   ]
  },
  {
   "cell_type": "code",
   "execution_count": 19,
   "metadata": {
    "collapsed": false
   },
   "outputs": [
    {
     "data": {
      "image/png": "[encoded data removed]",
      "text/plain": [
       "<matplotlib.figure.Figure at 0x805b5f8>"
      ]
     },
     "metadata": {},
     "output_type": "display_data"
    }
   ],
   "source": [
    "from filterpy.common import plot_covariance_ellipse\n",
    "from math import sqrt, tan, cos, sin, atan2\n",
    "dt = 1.0\n",
    "ekf = RobotEKF(dt, wheelbase=0.5)\n",
    "sigma_steer =  np.radians(1)\n",
    "sigma_h =  np.radians(1)\n",
    "sigma_r = 0.1\n",
    "#np.random.seed(1234)\n",
    "\n",
    "m = array([[5, 10],\n",
    "           [10, 5],\n",
    "           [15, 15]])\n",
    "\n",
    "ekf.x = array([[2, 6, .3]]).T\n",
    "u = array([1.1, .01])\n",
    "ekf.P = np.diag([.1, .1, .1])\n",
    "ekf.R = np.diag([sigma_r**2, sigma_h**2])\n",
    "c = [0, 1, 2]\n",
    "\n",
    "xp = ekf.x.copy()\n",
    "\n",
    "plt.scatter(m[:, 0], m[:, 1], marker='s', s=60)\n",
    "for i in range(150):\n",
    "    xp = ekf.move(xp, u, dt/10.) # simulate robot\n",
    "    plt.plot(xp[0], xp[1], ',', color='g')\n",
    "\n",
    "    if i % 10 == 0:\n",
    "        ekf.predict(u=u)\n",
    "\n",
    "        plot_covariance_ellipse((ekf.x[0,0], ekf.x[1,0]), ekf.P[0:2, 0:2], std=10,\n",
    "                                facecolor='b', alpha=0.08)\n",
    "\n",
    "        for lmark in m:\n",
    "            d = np.sqrt((lmark[0] - xp[0, 0])**2 + (lmark[1] - xp[1, 0])**2)  + randn()*sigma_r\n",
    "            a = atan2(lmark[1] - xp[1, 0], lmark[0] - xp[0, 0]) - xp[2, 0] + randn()*sigma_h\n",
    "            z = np.array([[d], [a]])\n",
    "\n",
    "            ekf.update(z, HJacobian=H_of, Hx=Hx, residual=residual,\n",
    "                       args=(lmark), hx_args=(lmark))\n",
    "\n",
    "        plot_covariance_ellipse((ekf.x[0,0], ekf.x[1,0]), ekf.P[0:2, 0:2], std=10,\n",
    "                                facecolor='g', alpha=0.4)\n",
    "\n",
    "    #plt.plot(ekf.x[0], ekf.x[1], 'x', color='r')\n",
    "\n",
    "plt.axis('equal')\n",
    "plt.show()"
   ]
  },
  {
   "cell_type": "markdown",
   "metadata": {},
   "source": [
    "## Example: A falling Ball"
   ]
  },
  {
   "cell_type": "markdown",
   "metadata": {},
   "source": [
    "**author's note: ignore this section for now. **\n",
    "\n",
    "In the **Designing Kalman Filters** chapter I first considered tracking a ball in a vacuum, and then in the atmosphere. The Kalman filter performed very well for vacuum, but diverged from the ball's path in the atmosphere. Let us look at the output; to avoid littering this chapter with code from that chapter I have placed it all in the file `ekf_internal.py'."
   ]
  },
  {
   "cell_type": "code",
   "execution_count": 20,
   "metadata": {
    "collapsed": false
   },
   "outputs": [
    {
     "data": {
      "image/png": "[encoded data removed]",
      "text/plain": [
       "<matplotlib.figure.Figure at 0x803bb00>"
      ]
     },
     "metadata": {},
     "output_type": "display_data"
    }
   ],
   "source": [
    "import ekf_internal\n",
    "ekf_internal.plot_ball()"
   ]
  },
  {
   "cell_type": "markdown",
   "metadata": {},
   "source": [
    "We can artificially force the Kalman filter to track the ball by making $Q$ large. That would cause the filter to mistrust its prediction, and scale the kalman gain $K$ to strongly favor the measurments. However, this is not a valid approach. If the Kalman filter is correctly predicting the process we should not 'lie' to the filter by telling it there are process errors that do not exist. We may get away with that for some problems, in some conditions, but in general the Kalman filter's performance will be substandard.\n",
    "\n",
    "Recall from the **Designing Kalman Filters** chapter that the acceleration is\n",
    "\n",
    "$$a_x = (0.0039 + \\frac{0.0058}{1+\\exp{[(v-35)/5]}})*v*v_x \\\\\n",
    "a_y = (0.0039 + \\frac{0.0058}{1+\\exp{[(v-35)/5]}})*v*v_y- g\n",
    "$$\n",
    "\n",
    "These equations will be *very* unpleasant to work with while we develop this subject, so for now I will retreat to a simpler one dimensional problem using this simplified equation for acceleration that does not take the nonlinearity of the drag coefficient into account:\n",
    "\n",
    "\n",
    "$$\\begin{aligned}\n",
    "\\ddot{y} &= \\frac{0.0034ge^{-y/20000}\\dot{y}^2}{2\\beta} - g \\\\\n",
    "\\ddot{x} &= \\frac{0.0034ge^{-x/20000}\\dot{x}^2}{2\\beta}\n",
    "\\end{aligned}$$\n",
    "\n",
    "Here $\\beta$ is the ballistic coefficient, where a high number indicates a low drag."
   ]
  },
  {
   "cell_type": "markdown",
   "metadata": {},
   "source": [
    "This is still nonlinear, so we need to linearize this equation at the current state point. If our state is position and velocity, we need an equation for some arbitrarily small change in $\\mathbf{x}$, like so:\n",
    "\n",
    "$$ \\begin{bmatrix}\\Delta \\dot{x} \\\\ \\Delta \\ddot{x} \\\\ \\Delta \\dot{y} \\\\ \\Delta \\ddot{y}\\end{bmatrix} = \n",
    "\\large\\begin{bmatrix}\n",
    "\\frac{\\partial \\dot{x}}{\\partial x} & \n",
    "\\frac{\\partial \\dot{x}}{\\partial \\dot{x}} & \n",
    "\\frac{\\partial \\dot{x}}{\\partial y} & \n",
    "\\frac{\\partial \\dot{x}}{\\partial \\dot{y}} \\\\ \n",
    "\\frac{\\partial \\ddot{x}}{\\partial x} & \n",
    "\\frac{\\partial \\ddot{x}}{\\partial \\dot{x}}& \n",
    "\\frac{\\partial \\ddot{x}}{\\partial y}& \n",
    "\\frac{\\partial \\dot{x}}{\\partial \\dot{y}}\\\\\n",
    "\\frac{\\partial \\dot{y}}{\\partial x} & \n",
    "\\frac{\\partial \\dot{y}}{\\partial \\dot{x}} & \n",
    "\\frac{\\partial \\dot{y}}{\\partial y} & \n",
    "\\frac{\\partial \\dot{y}}{\\partial \\dot{y}} \\\\ \n",
    "\\frac{\\partial \\ddot{y}}{\\partial x} & \n",
    "\\frac{\\partial \\ddot{y}}{\\partial \\dot{x}}& \n",
    "\\frac{\\partial \\ddot{y}}{\\partial y}& \n",
    "\\frac{\\partial \\dot{y}}{\\partial \\dot{y}}\n",
    "\\end{bmatrix}\\normalsize\n",
    "\\begin{bmatrix}\\Delta x \\\\ \\Delta \\dot{x} \\\\ \\Delta \\dot{y} \\\\ \\Delta \\ddot{y}\\end{bmatrix}$$\n",
    "\n",
    "The equations do not contain both an x and a y, so any partial derivative with both in it must be equal to zero. We also know that $\\large\\frac{\\partial \\dot{x}}{\\partial x}\\normalsize = 0$ and that  $\\large\\frac{\\partial \\dot{x}}{\\partial \\dot{x}}\\normalsize = 1$, so our matrix ends up being\n",
    "\n",
    "$$\\mathbf{F} = \\begin{bmatrix}0&1&0&0 \\\\\n",
    "\\frac{0.0034e^{-x/22000}\\dot{x}^2g}{44000\\beta}&0&0&0\n",
    "\\end{bmatrix}$$\n",
    "\n"
   ]
  },
  {
   "cell_type": "markdown",
   "metadata": {},
   "source": [
    "$$\\begin{aligned}\\ddot{x} &= -\\frac{1}{2}C_d\\rho A \\dot{x}\\\\\n",
    "\\ddot{y} &= -\\frac{1}{2}C_d\\rho A \\dot{y}-g\\end{aligned}$$"
   ]
  },
  {
   "cell_type": "code",
   "execution_count": 21,
   "metadata": {
    "collapsed": false
   },
   "outputs": [],
   "source": [
    "from sympy.abc import *\n",
    "from sympy import *\n",
    "\n",
    "init_printing(pretty_print=True, use_latex='mathjax')\n",
    "\n",
    "x1 = (0.0034*g*exp(-x/22000)*((x)**2))/(2*b) - g\n",
    "\n",
    "x2 = (a*g*exp(-x/c)*(Derivative(x)**2))/(2*b) - g\n",
    "\n",
    "#pprint(x1)\n",
    "#pprint(Derivative(x)*Derivative(x,n=2))\n",
    "#pprint(diff(x2, x))"
   ]
  },
  {
   "cell_type": "markdown",
   "metadata": {},
   "source": [
    "** orphan text\n",
    "This approach has many issues. First, of course, is the fact that the linearization does not produce an exact answer. More importantly, we are not linearizing the actual path, but our filter's estimation of the path. We linearize the estimation because it is statistically likely to be correct; but of course it is not required to be. So if the filter's output is bad that will cause us to linearize an incorrect estimate, which will almost certainly lead to an even worse estimate. In these cases the filter will quickly diverge. This is where the 'black art' of Kalman filter comes in. We are trying to linearize an estimate, and there is no guarantee that the filter will be stable. A vast amount of the literature on Kalman filters is devoted to this problem. Another issue is that we need to linearize the system using analytic methods. It may be difficult or impossible to find an analytic solution to some problems. In other cases we may be able to find the linearization, but the computation is very expensive. **\n"
   ]
  }
 ],
 "metadata": {
  "kernelspec": {
   "display_name": "Python 3",
   "language": "python",
   "name": "python3"
  },
  "language_info": {
   "codemirror_mode": {
    "name": "ipython",
    "version": 3
   },
   "file_extension": ".py",
   "mimetype": "text/x-python",
   "name": "python",
   "nbconvert_exporter": "python",
   "pygments_lexer": "ipython3",
   "version": "3.4.1"
  }
 },
 "nbformat": 4,
 "nbformat_minor": 0
}
