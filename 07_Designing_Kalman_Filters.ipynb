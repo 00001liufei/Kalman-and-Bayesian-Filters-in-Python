{
 "cells": [
  {
   "cell_type": "markdown",
   "metadata": {},
   "source": [
    "[Table of Contents](http://nbviewer.ipython.org/github/rlabbe/Kalman-and-Bayesian-Filters-in-Python/blob/master/table_of_contents.ipynb)"
   ]
  },
  {
   "cell_type": "markdown",
   "metadata": {},
   "source": [
    "# Designing Kalman Filters"
   ]
  },
  {
   "cell_type": "code",
   "execution_count": 1,
   "metadata": {
    "collapsed": false
   },
   "outputs": [
    {
     "data": {
      "text/html": [
       "<style>\n",
       "@import url('http://fonts.googleapis.com/css?family=Source+Code+Pro');\n",
       "@import url('http://fonts.googleapis.com/css?family=Vollkorn');\n",
       "@import url('http://fonts.googleapis.com/css?family=Arimo');\n",
       "\n",
       "    div.cell{\n",
       "        width: 900px;\n",
       "        margin-left: 0% !important;\n",
       "        margin-right: auto;\n",
       "    }\n",
       "    div.text_cell code {\n",
       "        background: transparent;\n",
       "        color: #000000;\n",
       "        font-weight: 600;\n",
       "        font-size: 11pt;\n",
       "        font-style: bold;\n",
       "        font-family:  'Source Code Pro', Consolas, monocco, monospace;\n",
       "   }\n",
       "    h1 {\n",
       "        font-family: 'Open sans',verdana,arial,sans-serif;\n",
       "\t}\n",
       "\t\n",
       "    div.input_area {\n",
       "        background: #F6F6F9;\n",
       "        border: 1px solid #586e75;\n",
       "    }\n",
       "\n",
       "    .text_cell_render h1 {\n",
       "        font-weight: 200;\n",
       "        font-size: 30pt;\n",
       "        line-height: 100%;\n",
       "        color:#c76c0c;\n",
       "        margin-bottom: 0.5em;\n",
       "        margin-top: 1em;\n",
       "        display: block;\n",
       "        white-space: wrap;\n",
       "    } \n",
       "    h2 {\n",
       "        font-family: 'Open sans',verdana,arial,sans-serif;\n",
       "    }\n",
       "    .text_cell_render h2 {\n",
       "        font-weight: 200;\n",
       "        font-size: 16pt;\n",
       "        font-style: italic;\n",
       "        line-height: 100%;\n",
       "        color:#c76c0c;\n",
       "        margin-bottom: 0.5em;\n",
       "        margin-top: 1.5em;\n",
       "        display: inline;\n",
       "        white-space: wrap;\n",
       "    } \n",
       "    h3 {\n",
       "        font-family: 'Open sans',verdana,arial,sans-serif;\n",
       "    }\n",
       "    .text_cell_render h3 {\n",
       "        font-weight: 200;\n",
       "        font-size: 14pt;\n",
       "        line-height: 100%;\n",
       "        color:#d77c0c;\n",
       "        margin-bottom: 0.5em;\n",
       "        margin-top: 2em;\n",
       "        display: block;\n",
       "        white-space: nowrap;\n",
       "    }\n",
       "    h4 {\n",
       "        font-family: 'Open sans',verdana,arial,sans-serif;\n",
       "    }\n",
       "    .text_cell_render h4 {\n",
       "        font-weight: 100;\n",
       "        font-size: 14pt;\n",
       "        color:#d77c0c;\n",
       "        margin-bottom: 0.5em;\n",
       "        margin-top: 0.5em;\n",
       "        display: block;\n",
       "        white-space: nowrap;\n",
       "    }\n",
       "    h5 {\n",
       "        font-family: 'Open sans',verdana,arial,sans-serif;\n",
       "    }\n",
       "    .text_cell_render h5 {\n",
       "        font-weight: 200;\n",
       "        font-style: normal;\n",
       "        color: #1d3b84;\n",
       "        font-size: 16pt;\n",
       "        margin-bottom: 0em;\n",
       "        margin-top: 0.5em;\n",
       "        display: block;\n",
       "        white-space: nowrap;\n",
       "    }\n",
       "    div.text_cell_render{\n",
       "        font-family: 'Arimo',verdana,arial,sans-serif;\n",
       "        line-height: 125%;\n",
       "        font-size: 120%;\n",
       "        text-align:justify;\n",
       "        text-justify:inter-word;\n",
       "    }\n",
       "    div.output_subarea.output_text.output_pyout {\n",
       "        overflow-x: auto;\n",
       "        overflow-y: scroll;\n",
       "        max-height: 50000px;\n",
       "    }\n",
       "    div.output_subarea.output_stream.output_stdout.output_text {\n",
       "        overflow-x: auto;\n",
       "        overflow-y: scroll;\n",
       "        max-height: 50000px;\n",
       "    }\n",
       "    div.output_wrapper{\n",
       "        margin-top:0.2em;\n",
       "        margin-bottom:0.2em;\n",
       "}\n",
       "\n",
       "    code{\n",
       "      font-size: 70%;\n",
       "    }\n",
       "    .rendered_html code{\n",
       "    background-color: transparent;\n",
       "    }\n",
       "    ul{\n",
       "        margin: 2em;\n",
       "    }\n",
       "    ul li{\n",
       "        padding-left: 0.5em; \n",
       "        margin-bottom: 0.5em; \n",
       "        margin-top: 0.5em; \n",
       "    }\n",
       "    ul li li{\n",
       "        padding-left: 0.2em; \n",
       "        margin-bottom: 0.2em; \n",
       "        margin-top: 0.2em; \n",
       "    }\n",
       "    ol{\n",
       "        margin: 2em;\n",
       "    }\n",
       "    ol li{\n",
       "        padding-left: 0.5em; \n",
       "        margin-bottom: 0.5em; \n",
       "        margin-top: 0.5em; \n",
       "    }\n",
       "    ul li{\n",
       "        padding-left: 0.5em; \n",
       "        margin-bottom: 0.5em; \n",
       "        margin-top: 0.2em; \n",
       "    }\n",
       "    a:link{\n",
       "       font-weight: bold;\n",
       "       color:#447adb;\n",
       "    }\n",
       "    a:visited{\n",
       "       font-weight: bold;\n",
       "       color: #1d3b84;\n",
       "    }\n",
       "    a:hover{\n",
       "       font-weight: bold;\n",
       "       color: #1d3b84;\n",
       "    }\n",
       "    a:focus{\n",
       "       font-weight: bold;\n",
       "       color:#447adb;\n",
       "    }\n",
       "    a:active{\n",
       "       font-weight: bold;\n",
       "       color:#447adb;\n",
       "    }\n",
       "    .rendered_html :link {\n",
       "       text-decoration: underline; \n",
       "    }\n",
       "    .rendered_html :hover {\n",
       "       text-decoration: none; \n",
       "    }\n",
       "    .rendered_html :visited {\n",
       "      text-decoration: none;\n",
       "    }\n",
       "    .rendered_html :focus {\n",
       "      text-decoration: none;\n",
       "    }\n",
       "    .rendered_html :active {\n",
       "      text-decoration: none;\n",
       "    }\n",
       "    .warning{\n",
       "        color: rgb( 240, 20, 20 )\n",
       "    } \n",
       "    hr {\n",
       "      color: #f3f3f3;\n",
       "      background-color: #f3f3f3;\n",
       "      height: 1px;\n",
       "    }\n",
       "    blockquote{\n",
       "      display:block;\n",
       "      background: #fcfcfc;\n",
       "      border-left: 5px solid #c76c0c;\n",
       "      font-family: 'Open sans',verdana,arial,sans-serif;\n",
       "      width:680px;\n",
       "      padding: 10px 10px 10px 10px;\n",
       "      text-align:justify;\n",
       "      text-justify:inter-word;\n",
       "      }\n",
       "      blockquote p {\n",
       "        margin-bottom: 0;\n",
       "        line-height: 125%;\n",
       "        font-size: 100%;\n",
       "      }\n",
       "</style>\n",
       "<script>\n",
       "    MathJax.Hub.Config({\n",
       "                        TeX: {\n",
       "                           extensions: [\"AMSmath.js\"]\n",
       "                           },\n",
       "                tex2jax: {\n",
       "                    inlineMath: [ ['$','$'], [\"\\\\(\",\"\\\\)\"] ],\n",
       "                    displayMath: [ ['$$','$$'], [\"\\\\[\",\"\\\\]\"] ]\n",
       "                },\n",
       "                displayAlign: 'center', // Change this to 'center' to center equations.\n",
       "                \"HTML-CSS\": {\n",
       "                    scale:100,\n",
       "                    availableFonts: [\"Neo-Euler\"],\n",
       "                    preferredFont: \"Neo-Euler\",\n",
       "                    webFont: \"Neo-Euler\",\n",
       "                    styles: {'.MathJax_Display': {\"margin\": 4}}\n",
       "                }\n",
       "        });\n",
       "</script>\n"
      ],
      "text/plain": [
       "<IPython.core.display.HTML object>"
      ]
     },
     "execution_count": 1,
     "metadata": {},
     "output_type": "execute_result"
    }
   ],
   "source": [
    "#format the book\n",
    "%matplotlib inline\n",
    "%load_ext autoreload\n",
    "%autoreload 2\n",
    "from __future__ import division, print_function\n",
    "from book_format import load_style, figsize\n",
    "load_style()"
   ]
  },
  {
   "cell_type": "markdown",
   "metadata": {},
   "source": [
    "## Introduction"
   ]
  },
  {
   "cell_type": "markdown",
   "metadata": {},
   "source": [
    "In this chapter we will work through the design of several Kalman filters to gain experience and confidence with the various equations and techniques.\n",
    "\n",
    "\n",
    "For our first multidimensional problem we will track a robot in a 2D space, such as a field. We will start with a simple noisy sensor that outputs noisy $(x,y)$ coordinates which we will need to filter to generate a 2D track. Once we have mastered this concept, we will extend the problem significantly with more sensors and then adding control inputs. \n",
    "blah blah"
   ]
  },
  {
   "cell_type": "markdown",
   "metadata": {},
   "source": [
    "## Tracking a Robot"
   ]
  },
  {
   "cell_type": "markdown",
   "metadata": {},
   "source": [
    "This first attempt at tracking a robot will closely resemble the 1-D dog tracking problem of previous chapters. This will allow us to 'get our feet wet' with Kalman filtering. So, instead of a sensor that outputs position in a hallway, we now have a sensor that supplies a noisy measurement of position in a 2-D space, such as an open field. That is, at each time $T$ it will provide an $(x,y)$ coordinate pair specifying the measurement of the sensor's position in the field.\n",
    "\n",
    "Implementation of code to interact with real sensors is beyond the scope of this book, so as before we will program simple simulations in Python to represent the sensors. We will develop several of these sensors as we go, each with more complications, so as I program them I will just append a number to the function name. `pos_sensor1()` is the first sensor we write, and so on.\n",
    "\n",
    "So let's start with a very simple sensor, one that travels in a straight line. It takes as input the last position, velocity, and how much noise we want, and returns the new position. "
   ]
  },
  {
   "cell_type": "code",
   "execution_count": 2,
   "metadata": {
    "collapsed": false
   },
   "outputs": [],
   "source": [
    "import numpy.random as random\n",
    "import copy\n",
    "class PosSensor1(object):\n",
    "    def __init__(self, pos=[0, 0], vel=(0, 0), noise_scale=1.):\n",
    "        self.vel = vel\n",
    "        self.noise_scale = noise_scale\n",
    "        self.pos = copy.deepcopy(pos)\n",
    "        \n",
    "    def read(self):\n",
    "        self.pos[0] += self.vel[0]\n",
    "        self.pos[1] += self.vel[1]\n",
    "        \n",
    "        return [self.pos[0] + random.randn() * self.noise_scale,\n",
    "                self.pos[1] + random.randn() * self.noise_scale]"
   ]
  },
  {
   "cell_type": "markdown",
   "metadata": {},
   "source": [
    "A quick test to verify that it works as we expect."
   ]
  },
  {
   "cell_type": "code",
   "execution_count": 3,
   "metadata": {
    "collapsed": false,
    "scrolled": true
   },
   "outputs": [
    {
     "data": {
      "image/png": "[encoded data removed]",
      "text/plain": [
       "<matplotlib.figure.Figure at 0x550dc88>"
      ]
     },
     "metadata": {},
     "output_type": "display_data"
    }
   ],
   "source": [
    "import matplotlib.pyplot as plt\n",
    "import numpy as np\n",
    "import book_plots as bp\n",
    "\n",
    "pos = [4, 3]\n",
    "sensor = PosSensor1(pos, (2, 1), 1)\n",
    "\n",
    "ps = []\n",
    "for i in range(50):\n",
    "    ps.append(sensor.read())\n",
    "ps = np.asarray(ps)\n",
    "bp.plot_measurements(ps[:, 0], ps[:, 1])\n",
    "\n",
    "plt.show()"
   ]
  },
  {
   "cell_type": "markdown",
   "metadata": {},
   "source": [
    "That looks correct. The slope is 1/2, as we would expect with a velocity of (2, 1), and the data seems to start at near (6, 4)."
   ]
  },
  {
   "cell_type": "markdown",
   "metadata": {},
   "source": [
    "### Step 1: Choose the State Variables"
   ]
  },
  {
   "cell_type": "markdown",
   "metadata": {},
   "source": [
    "As always, the first step is to choose our state variables. We are tracking in two dimensions and have a sensor that gives us a reading in each of those two dimensions, so we  know that we have the two *observed variables* $x$ and $y$. If we created our Kalman filter using only those two variables the performance would not be very good because we would be ignoring the information velocity can provide to us. We will want to incorporate velocity into our equations as well. I will represent this as\n",
    "\n",
    "$$\\mathbf{x} = \n",
    "\\begin{bmatrix}x\\\\v_x\\\\y\\\\v_y\\end{bmatrix}$$\n",
    "\n",
    "There is nothing special about this organization. I could have listed the (xy) coordinates first followed by the velocities. I just need to be consistent in the rest of the matrices.\n",
    "\n",
    "It might be a good time to pause and address how you identify the unobserved variables. This particular example is somewhat obvious because we already worked through the 1D case in the previous chapters. Would it be so obvious if we were filtering market data, population data from a biology experiment, and so on? Probably not. There is no easy answer to this question. The first thing to ask yourself is what is the interpretation of the first and second derivatives of the data from the sensors. We do that because obtaining the first and second derivatives is mathematically trivial if you are reading from the sensors using a fixed time step. The first derivative is just the difference between two successive readings. In our tracking case the first derivative has an obvious physical interpretation: the difference between two successive positions is velocity. \n",
    "\n",
    "Beyond this you can start looking at how you might combine the data from two or more different sensors to produce more information. This opens up the field of *sensor fusion*, and we will be covering examples of this in later sections. For now, recognize that choosing the appropriate state variables is paramount to getting the best possible performance from your filter."
   ]
  },
  {
   "cell_type": "markdown",
   "metadata": {},
   "source": [
    "### **Step 2:** Design State Transition Function"
   ]
  },
  {
   "cell_type": "markdown",
   "metadata": {},
   "source": [
    "Our next step is to design the state transition function. Recall that the state transition function is implemented as a matrix $\\mathbf{F}$ that we multiply with the previous state of our system to get the next state, like so. \n",
    "\n",
    "$$\\mathbf{x}^- = \\mathbf{Fx}$$\n",
    "\n",
    "I will not belabor this as it is very similar to the 1-D case we did in the previous chapter. Our state equations for position and velocity would be:\n",
    "\n",
    "$$\n",
    "\\begin{aligned}\n",
    "x^- &= (1*x) + (\\Delta t * v_x) + (0*y) + (0 * v_y) \\\\\n",
    "v_x &= (0*x) +  (1*v_x) + (0*y) + (0 * v_y) \\\\\n",
    "y^- &= (0*x) + (0* v_x)         + (1*y) + (\\Delta t * v_y) \\\\\n",
    "v_y &= (0*x) +  (0*v_x) + (0*y) + (1 * v_y)\n",
    "\\end{aligned}\n",
    "$$"
   ]
  },
  {
   "cell_type": "markdown",
   "metadata": {},
   "source": [
    "Laying it out that way shows us both the values and row-column organization required for $\\small\\mathbf{F}$. In linear algebra, we would write this as:\n",
    "\n",
    "$$\n",
    "\\begin{bmatrix}x\\\\v_x\\\\y\\\\v_y\\end{bmatrix}^- = \\begin{bmatrix}1& \\Delta t& 0& 0\\\\0& 1& 0& 0\\\\0& 0& 1& \\Delta t\\\\ 0& 0& 0& 1\\end{bmatrix}\\begin{bmatrix}x\\\\v_x\\\\y\\\\v_y\\end{bmatrix}$$\n",
    "\n",
    "So, let's do this in Python. It is very simple; the only thing new here is setting `dim_z` to 2. We will see why it is set to 2 in step 4."
   ]
  },
  {
   "cell_type": "code",
   "execution_count": 4,
   "metadata": {
    "collapsed": false
   },
   "outputs": [],
   "source": [
    "from filterpy.kalman import KalmanFilter\n",
    "\n",
    "tracker = KalmanFilter(dim_x=4, dim_z=2)\n",
    "dt = 1.   # time step\n",
    "\n",
    "tracker.F = np.array([[1, dt, 0,  0],\n",
    "                      [0,  1, 0,  0],\n",
    "                      [0,  0, 1, dt],\n",
    "                      [0,  0, 0,  1]])"
   ]
  },
  {
   "cell_type": "markdown",
   "metadata": {},
   "source": [
    "### **Step 3**: Design the Motion Function"
   ]
  },
  {
   "cell_type": "markdown",
   "metadata": {},
   "source": [
    "We have no control inputs to our robot (yet!), so there is nothing to be done for this step. The `KalmanFilter` class assumes there is no control input unless you provide one, so there is no code to write."
   ]
  },
  {
   "cell_type": "markdown",
   "metadata": {},
   "source": [
    "### **Step 4**: Design the Measurement Function"
   ]
  },
  {
   "cell_type": "markdown",
   "metadata": {},
   "source": [
    "The measurement function defines how we go from the state variables to the measurements using the equation $\\mathbf{z} = \\mathbf{Hx}$. At first this is a bit counterintuitive, after all, we use the Kalman filter to go from measurements to state. But the update step needs to compute the residual between the current measurement and the measurement represented by the prediction step. Therefore $\\textbf{H}$ is multiplied by the state $\\textbf{x}$ to produce a measurement $\\textbf{z}$. \n",
    "\n",
    "In this case we have measurements for (x,y), so $\\textbf{z}$ must be of dimension $2\\times 1$. Our state variable is size $4\\times 1$. We can deduce the required size for $\\textbf{H}$ by recalling that multiplying a matrix of size $m\\times n$ by $n\\times p$ yields a matrix of size $m\\times p$. Thus,\n",
    "\n",
    "$$ \n",
    "\\begin{aligned}\n",
    "(2\\times 1) &= (a\\times b)(4 \\times 1) \\\\\n",
    "&= (a\\times 4)(4\\times 1) \\\\\n",
    "&= (2\\times 4)(4\\times 1)\n",
    "\\end{aligned}$$\n",
    "\n",
    "So, $\\textbf{H}$ is of size $2\\times 4$.\n",
    "\n",
    "Filling in the values for $\\textbf{H}$ is easy in this case because the measurement is the position of the robot, which is the $x$ and $y$ variables of the state $\\textbf{x}$. Let's make this just slightly more interesting by deciding we want to change units. So we will assume that the measurements are returned in feet, and that we desire to work in meters. Converting from feet to meters is a simple as multiplying by 0.3048. However, we are converting from state (meters) to measurements (feet) so we need to divide by 0.3048. So\n",
    "\n",
    "$$\\mathbf{H} =\n",
    "\\begin{bmatrix} \n",
    "\\frac{1}{0.3048} & 0 & 0 & 0 \\\\\n",
    "0 & 0 & \\frac{1}{0.3048} & 0\n",
    "\\end{bmatrix}\n",
    "$$"
   ]
  },
  {
   "cell_type": "markdown",
   "metadata": {},
   "source": [
    "which corresponds to these linear equations\n",
    "\n",
    "$$\n",
    "\\begin{aligned}\n",
    "z_x &= (\\frac{x}{0.3048}) + (0* v_x) + (0*y) + (0 * v_y) = \\frac{x}{0.3048}\\\\\n",
    "z_y &= (0*x) + (0* v_x) + (\\frac{y}{0.3048}) + (0 * v_y) = \\frac{y}{0.3048}\n",
    "\\end{aligned}\n",
    "$$\n",
    "\n",
    "To be clear about my intentions here, this is a pretty simple problem, and we could have easily found the equations directly without going through the dimensional analysis that I did above. In fact, an earlier draft did just that. But it is useful to remember that the equations of the Kalman filter imply a specific dimensionality for all of the matrices, and when I start to get lost as to how to design something it is often extremely useful to look at the matrix dimensions.\n",
    "\n",
    "Here is the Python that implements this:"
   ]
  },
  {
   "cell_type": "code",
   "execution_count": 5,
   "metadata": {
    "collapsed": false
   },
   "outputs": [
    {
     "name": "stdout",
     "output_type": "stream",
     "text": [
      "[[ 3.2808399  0.         0.         0.       ]\n",
      " [ 0.         0.         3.2808399  0.       ]]\n"
     ]
    }
   ],
   "source": [
    "tracker.H = np.array([[1/0.3048, 0, 0, 0],\n",
    "                      [0, 0, 1/0.3048, 0]])\n",
    "print(tracker.H)"
   ]
  },
  {
   "cell_type": "markdown",
   "metadata": {},
   "source": [
    "### **Step 5**: Design the Measurement Noise Matrix"
   ]
  },
  {
   "cell_type": "markdown",
   "metadata": {},
   "source": [
    "In this step we need to mathematically model the noise in our sensor. For now we will make the simple assumption that the $x$ and $y$ variables are independent Gaussian processes. That is, the noise in x is not in any way dependent on the noise in y, and the noise is normally distributed about the mean. For now let's set the variance for $x$ and $y$ to be 5 for each. They are independent, so there is no covariance, and our off diagonals will be 0. This gives us:\n",
    "\n",
    "$$\\mathbf{R} = \\begin{bmatrix}5&0\\\\0&5\\end{bmatrix}$$\n",
    "\n",
    "It is a $2{\\times}2$ matrix because we have 2 sensor inputs, and covariance matrices are always of size $n{\\times}n$ for $n$ variables. In Python we write:"
   ]
  },
  {
   "cell_type": "code",
   "execution_count": 6,
   "metadata": {
    "collapsed": false
   },
   "outputs": [
    {
     "name": "stdout",
     "output_type": "stream",
     "text": [
      "[[5 0]\n",
      " [0 5]]\n"
     ]
    }
   ],
   "source": [
    "tracker.R = np.array([[5, 0],\n",
    "                      [0, 5]])\n",
    "print(tracker.R)"
   ]
  },
  {
   "cell_type": "markdown",
   "metadata": {},
   "source": [
    "### Step 6: Design the Process Noise Matrix"
   ]
  },
  {
   "cell_type": "markdown",
   "metadata": {},
   "source": [
    "We will use FilterPy's functions to compute the $\\mathbf{Q}$ matrix for us. For simplicity I will assume the noise is a discrete time Wiener process - that it is constant for each time period. This assumption allows me to use a variance to specify how much I think the model changes between steps. Revisit the Kalman Filter Math chapter if this is not clear.\n",
    "\n",
    "Finally, we design the process noise. We don't yet have a good way to model process noise, so for now we will assume there is a small amount of process noise, say 0.1 for each state variable. Later we will tackle this admittedly difficult topic in more detail. We have 4 state variables, so we need a $4{\\times}4$ covariance matrix:\n",
    "\n",
    "$$\\mathbf{Q} = \\begin{bmatrix}0.1&0&0&0\\\\0&0.1&0&0\\\\0&0&0.1&0\\\\0&0&0&0.1\\end{bmatrix}$$\n",
    "\n",
    "In Python I will use the numpy eye helper function to create an identity matrix for us, and multiply it by 0.1 to get the desired result."
   ]
  },
  {
   "cell_type": "code",
   "execution_count": 7,
   "metadata": {
    "collapsed": false
   },
   "outputs": [
    {
     "name": "stdout",
     "output_type": "stream",
     "text": [
      "[[ 0.0125  0.025   0.      0.    ]\n",
      " [ 0.025   0.05    0.      0.    ]\n",
      " [ 0.      0.      0.0125  0.025 ]\n",
      " [ 0.      0.      0.025   0.05  ]]\n"
     ]
    }
   ],
   "source": [
    "from scipy.linalg import block_diag\n",
    "from filterpy.common import Q_discrete_white_noise\n",
    "\n",
    "q = Q_discrete_white_noise(dim=2, dt=dt, var=0.05)\n",
    "tracker.Q = block_diag(q, q)\n",
    "print(tracker.Q)"
   ]
  },
  {
   "cell_type": "markdown",
   "metadata": {},
   "source": [
    "### **Step 7**: Design Initial Conditions"
   ]
  },
  {
   "cell_type": "markdown",
   "metadata": {},
   "source": [
    "For our simple problem we will set the initial position at (0,0) with a velocity of (0,0). Since that is a pure guess, we will set the covariance matrix $\\small\\mathbf{P}$ to a large value.\n",
    "\n",
    "$$ \\mathbf{x} = \\begin{bmatrix}0\\\\0\\\\0\\\\0\\end{bmatrix}\\\\\n",
    "\\mathbf{P} = \\begin{bmatrix}500&0&0&0\\\\0&500&0&0\\\\0&0&500&0\\\\0&0&0&500\\end{bmatrix}$$\n",
    "\n",
    "In Python we implement that with"
   ]
  },
  {
   "cell_type": "code",
   "execution_count": 8,
   "metadata": {
    "collapsed": false
   },
   "outputs": [
    {
     "name": "stdout",
     "output_type": "stream",
     "text": [
      "[[ 0.]\n",
      " [ 0.]\n",
      " [ 0.]\n",
      " [ 0.]]\n",
      "\n",
      "[[ 500.    0.    0.    0.]\n",
      " [   0.  500.    0.    0.]\n",
      " [   0.    0.  500.    0.]\n",
      " [   0.    0.    0.  500.]]\n"
     ]
    }
   ],
   "source": [
    "tracker.x = np.array([[0, 0, 0, 0]]).T\n",
    "tracker.P = np.eye(4) * 500.\n",
    "print(tracker.x)\n",
    "print()\n",
    "print(tracker.P)"
   ]
  },
  {
   "cell_type": "markdown",
   "metadata": {},
   "source": [
    "## Implement the Filter Code"
   ]
  },
  {
   "cell_type": "markdown",
   "metadata": {},
   "source": [
    "Design is complete, now we just have to write the Python code to run our filter, and output the data in the format of our choice. To keep the code clear, let's just print a plot of the track. We will run the code for 30 iterations."
   ]
  },
  {
   "cell_type": "code",
   "execution_count": 9,
   "metadata": {
    "collapsed": false
   },
   "outputs": [
    {
     "data": {
      "image/png": "[encoded data removed]",
      "text/plain": [
       "<matplotlib.figure.Figure at 0x73d9d30>"
      ]
     },
     "metadata": {},
     "output_type": "display_data"
    }
   ],
   "source": [
    "tracker = KalmanFilter(dim_x=4, dim_z=2)\n",
    "dt = 1.0   # time step\n",
    "\n",
    "tracker.F = np.array([[1, dt, 0,  0],\n",
    "                      [0,  1, 0,  0],\n",
    "                      [0,  0, 1, dt],\n",
    "                      [0,  0, 0,  1]])\n",
    "tracker.u = 0.\n",
    "tracker.H = np.array([[1/0.3048, 0, 0, 0],\n",
    "                      [0, 0, 1/0.3048, 0]])\n",
    "\n",
    "tracker.R = np.eye(2) * 5\n",
    "q = Q_discrete_white_noise(dim=2, dt=dt, var=0.05)\n",
    "tracker.Q = block_diag(q, q)\n",
    "\n",
    "tracker.x = np.array([[0, 0, 0, 0]]).T\n",
    "tracker.P = np.eye(4) * 500.\n",
    "\n",
    "# initialize storage and other variables for the run\n",
    "count = 30\n",
    "xs, ys = [], []\n",
    "pxs, pys = [], []\n",
    "\n",
    "sensor = PosSensor1 ([0, 0], (2, 1), 1.)\n",
    "\n",
    "for i in range(count):\n",
    "    pos = sensor.read()\n",
    "    z = np.array([[pos[0]], [pos[1]]])\n",
    "\n",
    "    tracker.predict()\n",
    "    tracker.update(z)\n",
    "\n",
    "    xs.append(tracker.x[0, 0])\n",
    "    ys.append(tracker.x[2, 0])\n",
    "    pxs.append(pos[0] * .3048)\n",
    "    pys.append(pos[1] * .3048)\n",
    "\n",
    "bp.plot_filter(xs, ys)\n",
    "bp.plot_measurements(pxs, pys)\n",
    "plt.legend(loc=2)\n",
    "plt.xlim((0, 20))\n",
    "plt.show()"
   ]
  },
  {
   "cell_type": "markdown",
   "metadata": {},
   "source": [
    "I encourage you to play with this, setting $\\mathbf{Q}$ and $\\mathbf{R}$ to various values.  However, we did a fair amount of that sort of thing in the last chapters, and we have a lot of material to cover, so I will move on to more complicated cases where we will also have a chance to experience changing these values.\n",
    "\n",
    "Now I will run the same Kalman filter with the same settings, but also plot the covariance ellipse for $x$ and $y$. First, the code without explanation, so we can see the output. I print the last covariance to see what it looks like. But before you scroll down to look at the results, what do you think it will look like? You have enough information to figure this out but this is still new to you, so don't be discouraged if you get it wrong."
   ]
  },
  {
   "cell_type": "code",
   "execution_count": 10,
   "metadata": {
    "collapsed": false
   },
   "outputs": [
    {
     "ename": "ImportError",
     "evalue": "No module named 'stats'",
     "output_type": "error",
     "traceback": [
      "\u001b[1;31m---------------------------------------------------------------------------\u001b[0m",
      "\u001b[1;31mImportError\u001b[0m                               Traceback (most recent call last)",
      "\u001b[1;32m<ipython-input-10-fa215b17242f>\u001b[0m in \u001b[0;36m<module>\u001b[1;34m()\u001b[0m\n\u001b[1;32m----> 1\u001b[1;33m \u001b[1;32mimport\u001b[0m \u001b[0mstats\u001b[0m\u001b[1;33m\u001b[0m\u001b[0m\n\u001b[0m\u001b[0;32m      2\u001b[0m \u001b[1;33m\u001b[0m\u001b[0m\n\u001b[0;32m      3\u001b[0m \u001b[0mtracker\u001b[0m \u001b[1;33m=\u001b[0m \u001b[0mKalmanFilter\u001b[0m\u001b[1;33m(\u001b[0m\u001b[0mdim_x\u001b[0m\u001b[1;33m=\u001b[0m\u001b[1;36m4\u001b[0m\u001b[1;33m,\u001b[0m \u001b[0mdim_z\u001b[0m\u001b[1;33m=\u001b[0m\u001b[1;36m2\u001b[0m\u001b[1;33m)\u001b[0m\u001b[1;33m\u001b[0m\u001b[0m\n\u001b[0;32m      4\u001b[0m \u001b[0mdt\u001b[0m \u001b[1;33m=\u001b[0m \u001b[1;36m1.0\u001b[0m   \u001b[1;31m# time step\u001b[0m\u001b[1;33m\u001b[0m\u001b[0m\n\u001b[0;32m      5\u001b[0m \u001b[1;33m\u001b[0m\u001b[0m\n",
      "\u001b[1;31mImportError\u001b[0m: No module named 'stats'"
     ]
    }
   ],
   "source": [
    "import stats\n",
    "\n",
    "tracker = KalmanFilter(dim_x=4, dim_z=2)\n",
    "dt = 1.0   # time step\n",
    "\n",
    "tracker.F = np.array([[1, dt, 0,  0],\n",
    "                      [0,  1, 0,  0],\n",
    "                      [0,  0, 1, dt],\n",
    "                      [0,  0, 0,  1]])\n",
    "tracker.u = 0.\n",
    "tracker.H = np.array([[1/0.3048, 0, 0, 0],\n",
    "                      [0, 0, 1/0.3048, 0]])\n",
    "\n",
    "tracker.R = np.eye(2) * 5\n",
    "tracker.Q = np.eye(4) * .1\n",
    "\n",
    "tracker.x = np.array([[0, 0, 0, 0]]).T\n",
    "tracker.P = np.eye(4) * 500.\n",
    "\n",
    "# initialize storage and other variables for the run\n",
    "count = 30\n",
    "xs, ys = [], []\n",
    "pxs, pys = [], []\n",
    "\n",
    "sensor = PosSensor1([0, 0], (2, 1), 1.)\n",
    "\n",
    "for i in range(count):\n",
    "    pos = sensor.read()\n",
    "    z = np.array([[pos[0]], [pos[1]]])\n",
    "\n",
    "    tracker.predict()\n",
    "    tracker.update(z)\n",
    "\n",
    "    xs.append(tracker.x[0, 0])\n",
    "    ys.append(tracker.x[2, 0])\n",
    "    pxs.append(pos[0] * .3048)\n",
    "    pys.append(pos[1] * .3048)\n",
    "\n",
    "    # plot covariance of x and y\n",
    "    cov = np.array([[tracker.P[0, 0], tracker.P[2, 0]], \n",
    "                    [tracker.P[0, 2], tracker.P[2, 2]]])\n",
    " \n",
    "    stats.plot_covariance_ellipse(\n",
    "        (tracker.x[0, 0], tracker.x[2, 0]), cov=cov,\n",
    "         facecolor='g', alpha=0.15)\n",
    "\n",
    "        \n",
    "bp.plot_filter(xs, ys)\n",
    "bp.plot_measurements(pxs, pys)\n",
    "plt.legend(loc=2)\n",
    "plt.show()\n",
    "print(\"final P is:\")\n",
    "print(tracker.P)"
   ]
  },
  {
   "cell_type": "markdown",
   "metadata": {},
   "source": [
    "Did you correctly predict what the covariance matrix and plots would look like? Perhaps you were expecting a tilted ellipse, as in the last chapters. If so, recall that in those chapters we were not plotting $x$ against $y$, but $x$ against $\\dot{x}$. $x$ *is correlated* to $\\dot{x}$, but $x$ is not correlated or dependent on $y$. Therefore our ellipses are not tilted. Furthermore, the noise for both $x$ and $y$ are modeled to have the same value, 5, in $\\mathbf{R}$. If we were to set R to, for example,\n",
    "\n",
    "$$\\mathbf{R} = \\begin{bmatrix}10&0\\\\0&5\\end{bmatrix}$$\n",
    "\n",
    "we would be telling the Kalman filter that there is more noise in $x$ than $y$, and our ellipses would be longer than they are tall.\n"
   ]
  },
  {
   "cell_type": "markdown",
   "metadata": {},
   "source": [
    "The final P tells us everything we need to know about the correlation between the state variables. If we look at the diagonal alone we see the variance for each variable. In other words $\\mathbf{P}_{0,0}$ is the variance for x, $\\mathbf{P}_{1,1}$ is the variance for $\\dot{x}$, $\\mathbf{P}_{2,2}$ is the variance for y, and $\\mathbf{P}_{3,3}$ is the variance for $\\dot{y}$. We can extract the diagonal of a matrix using `numpy.diag()`."
   ]
  },
  {
   "cell_type": "code",
   "execution_count": null,
   "metadata": {
    "collapsed": false
   },
   "outputs": [],
   "source": [
    "print(np.diag(tracker.P))"
   ]
  },
  {
   "cell_type": "markdown",
   "metadata": {},
   "source": [
    "The covariance matrix contains four $2{\\times}2$ matrices that you should be able to easily pick out. This is due to the correlation of $x$ to $\\dot{x}$, and of $y$ to $\\dot{y}$. The upper left hand side shows the covariance of $x$ to $\\dot{x}$. Let's extract and print, and plot it."
   ]
  },
  {
   "cell_type": "code",
   "execution_count": null,
   "metadata": {
    "collapsed": false
   },
   "outputs": [],
   "source": [
    "c = tracker.P[0:2, 0:2]\n",
    "print(c)\n",
    "stats.plot_covariance_ellipse((0, 0), cov=c, facecolor='g', alpha=0.2)"
   ]
  },
  {
   "cell_type": "markdown",
   "metadata": {},
   "source": [
    "The covariance contains the data for $x$ and $\\dot{x}$ in the upper left because of how it is organized. Recall that entries $\\mathbf{P}_{i,j}$ and $\\mathbf{P}_{j,i}$ contain $p\\sigma_1\\sigma_2$.\n",
    "\n",
    "Finally, let's look at the lower left side of $\\mathbf{P}$, which is all 0s. Why 0s? Consider $\\mathbf{P}_{3,0}$. That stores the term $p\\sigma_3\\sigma_0$, which is the covariance between $\\dot{y}$ and $x$. These are independent, so the term will be 0. The rest of the terms are for similarly independent variables."
   ]
  },
  {
   "cell_type": "markdown",
   "metadata": {},
   "source": [
    "## The Effect of Order"
   ]
  },
  {
   "cell_type": "markdown",
   "metadata": {},
   "source": [
    "So far in this book we have only really considered tracking position and velocity. That has worked well, but only because I have been carefully selecting problems for which this was an appropriate choice. You know have enough experience with the Kalman filter to consider this in more general terms.\n",
    "\n",
    "What do I mean by \"order\"? In the context of these system models it is the number of derivatives required to accurately model a system. Consider a system that does not change, such as the height of a building. There is no change, so there is no need for a derivative, and the order of the system is zero. We could express this in an equation as\n",
    "\n",
    "$$x = 312.5$$\n",
    "\n",
    "A first order system has a first derivative. For example, change of position is velocity, and we can write this as\n",
    "\n",
    "$$ v = \\frac{dx}{dt}$$\n",
    "\n",
    "which we integrate into the Newton equation\n",
    "\n",
    "$$ x = vt + x_0.$$\n",
    "\n",
    "This is also called a *constant velocity* model, because of the assumption of a constant velocity.\n",
    "\n",
    "So a second order has a second derivative. The second derivative of position is acceleration, with the equation\n",
    "\n",
    "$$a = \\frac{d^2x}{dt^2}$$\n",
    "\n",
    "which we integrate into \n",
    "\n",
    "$$ x = \\frac{1}{2}at^2 +v_0t + x_0.$$\n",
    "\n",
    "This is also known as a *constant acceleration* model.\n"
   ]
  },
  {
   "cell_type": "markdown",
   "metadata": {},
   "source": [
    "Another, equivalent way of looking at this is to consider the order of the polynomial. The constant acceleration model has a second derivative, so it is second order. Likewise, the polynomial $x = \\frac{1}{2}at^2 +v_0t + x_0$ is second order.\n",
    "\n",
    "When we design the state variables and process model we must choose the order of the system we want to model. Let's say we are tracking something with a constant velocity. No real world process is perfect, and so there will be slight variations in the velocity over short time period. You might reason that the best approach is to use a second order filter, allowing the acceleration term to deal with the slight variations in velocity. \n",
    "\n",
    "That doesn't work as nicely as you might think. To thoroughly understand this issue lets see the effects of using a  process model that does not match the order of the system being filtered. "
   ]
  },
  {
   "cell_type": "markdown",
   "metadata": {},
   "source": [
    "First we need a system to filter. I'll write a class to simulate on object with a constant velocity. Essentially no physical system has a truly constant velocity, so on each update we alter the velocity by a small amount. I also write a sensor to simulate Gaussian noise in a sensor. The code is below, and a plot an example run to verify that it is working correctly. "
   ]
  },
  {
   "cell_type": "code",
   "execution_count": null,
   "metadata": {
    "collapsed": false
   },
   "outputs": [],
   "source": [
    "from numpy.random import randn\n",
    "import numpy as np\n",
    "import matplotlib.pyplot as plt\n",
    "from book_plots import plot_track\n",
    "\n",
    "np.random.seed(124)\n",
    "class ConstantVelocityObject(object):\n",
    "    def __init__(self, x0=0, vel=1., noise_scale=0.06):\n",
    "        self.x = x0\n",
    "        self.vel = vel\n",
    "        self.noise_scale = noise_scale\n",
    "\n",
    "\n",
    "    def update(self):\n",
    "        self.vel += randn() * self.noise_scale\n",
    "        self.x += self.vel\n",
    "        return (self.x, self.vel)\n",
    "\n",
    "\n",
    "def sense(x, noise_scale=1.):\n",
    "    return x[0] + randn()*noise_scale\n",
    "\n",
    "\n",
    "obj = ConstantVelocityObject()\n",
    "\n",
    "xs = []\n",
    "zs = []\n",
    "for i in range(50):\n",
    "    x = obj.update()\n",
    "    z = sense(x)\n",
    "    xs.append(x)\n",
    "    zs.append(z)\n",
    "\n",
    "\n",
    "xs = np.asarray(xs)\n",
    "bp.plot_track(xs[:, 0])\n",
    "bp.plot_measurements(range(50), zs)\n",
    "plt.legend(loc='best')\n",
    "plt.show()"
   ]
  },
  {
   "cell_type": "markdown",
   "metadata": {},
   "source": [
    "I am satisfied with this plot. The track is not perfectly straight due to the noise that we added to the system - this could be the track of a person walking down the street, or perhaps of an aircraft being buffeted by variable winds. There is no *intentional* acceleration here, so we call it a constant velocity system. Again, you may be asking yourself that since there is in fact a tiny bit of acceleration going on why would we not use a second order Kalman filter to account for those changes? Let's find out.\n",
    "\n",
    "How does one design a zero order, first order, or second order Kalman filter? We have been doing it all along, but just not using those terms. It might be slightly tedious, but I will elaborate fully on each - if the concept is clear to you feel free to skim a bit. However, I think that reading carefully will really cement the idea of filter order in your mind."
   ]
  },
  {
   "cell_type": "markdown",
   "metadata": {},
   "source": [
    "### Zero Order Kalman Filter"
   ]
  },
  {
   "cell_type": "markdown",
   "metadata": {},
   "source": [
    "A zero order Kalman filter is just a filter that tracks with no derivatives. We are tracking position, so that means we only have a state variable for position (no velocity or acceleration), and the state transition function also only accounts for position. Using the matrix formulation we would say that the state variable is\n",
    "\n",
    "$$\\mathbf{x} = \\begin{bmatrix}x\\end{bmatrix}$$\n",
    "\n",
    "The state transition function is very simple. There is no change in position, so we need to model $x=x$; in other words, *x* at time t+1 is the same as it was at time t. In matrix form, our state transition function is\n",
    "\n",
    "$$\\mathbf{F} = \\begin{bmatrix}1\\end{bmatrix}$$\n",
    "\n",
    "The measurement function is very easy. Recall that we need to define how to convert the state variable $\\mathbf{x}$ *into* a measurement. We will assume that our measurements are positions. The state variable only contains a position, so we get\n",
    "\n",
    "$$\\mathbf{H} = \\begin{bmatrix}1\\end{bmatrix}$$\n",
    "\n",
    "That is pretty much it. Let's write a function that constructs and returns a zero order Kalman filter to us."
   ]
  },
  {
   "cell_type": "code",
   "execution_count": null,
   "metadata": {
    "collapsed": false
   },
   "outputs": [],
   "source": [
    "def ZeroOrderKF(R, Q):\n",
    "    \"\"\" Create zero order Kalman filter. Specify R and Q as floats.\"\"\"\n",
    "    kf = KalmanFilter(dim_x=1, dim_z=1)\n",
    "    kf.x = np.array([0.])\n",
    "    kf.R *= R\n",
    "    kf.Q *= Q\n",
    "    kf.P *= 20\n",
    "    kf.F = np.array([[1.]])\n",
    "    kf.H = np.array([[1.]])\n",
    "    return kf"
   ]
  },
  {
   "cell_type": "markdown",
   "metadata": {},
   "source": [
    "### First Order Kalman Filter"
   ]
  },
  {
   "cell_type": "markdown",
   "metadata": {},
   "source": [
    "A first order Kalman filter tracks a first order system, such as position and velocity. We already did this for the dog tracking problem above, so this should be very clear. But let's do it again.\n",
    "\n",
    "A first order system has position and velocity, so the state variable needs both of these. The matrix formulation could be\n",
    "\n",
    "$$ \\mathbf{x} = \\begin{bmatrix}x\\\\\\dot{x}\\end{bmatrix}$$\n",
    "\n",
    "As an aside, there is nothing stopping us from choosing \n",
    "\n",
    "$$ \\mathbf{x} = \\begin{bmatrix}\\dot{x}\\\\x\\end{bmatrix}$$\n",
    "\n",
    "but all texts and software that I know of choose the first form as more natural. You would just have to design the rest of the matrices to take this ordering into account. \n",
    "\n",
    "So now we have to design our state transition. The Newtonian equations for a time step are:\n",
    "\n",
    "$$\\begin{aligned} x_t &= x_{t-1} + v\\Delta t \\\\\n",
    " v_t &= v_{t-1}\\end{aligned}$$\n",
    " \n",
    "Recall that we need to convert this into the linear equation\n",
    "\n",
    "$$\\begin{bmatrix}x\\\\\\dot{x}\\end{bmatrix} = \\mathbf{F}\\begin{bmatrix}x\\\\\\dot{x}\\end{bmatrix}$$\n",
    "\n",
    "Setting\n",
    "\n",
    "$$\\mathbf{F} = \\begin{bmatrix}1 &\\Delta t\\\\ 0 & 1\\end{bmatrix}$$\n",
    "\n",
    "gives us the equations above. If this is not clear, work out the matrix multiplication:\n",
    "\n",
    "$$ x = 1x + dt \\dot{x} \\\\\n",
    "\\dot{x} = 0x + 1\\dot{x}$$\n",
    "\n",
    "Finally, we design the measurement function. The measurement function needs to implement\n",
    "\n",
    "$$z = \\mathbf{Hx}$$\n",
    "\n",
    "Our sensor still only reads position, so it should take the position from the state, and 0 out the velocity, like so:\n",
    "\n",
    "$$\\mathbf{H} = \\begin{bmatrix}1 & 0 \\end{bmatrix}$$\n",
    "\n",
    "As in the previous section we will define a function that constructs and returns a Kalman filter that implements these equations."
   ]
  },
  {
   "cell_type": "code",
   "execution_count": null,
   "metadata": {
    "collapsed": false
   },
   "outputs": [],
   "source": [
    "from filterpy.common import Q_discrete_white_noise\n",
    "\n",
    "def FirstOrderKF(R, Q, dt):\n",
    "    \"\"\" Create zero order Kalman filter. Specify R and Q as floats.\"\"\"\n",
    "    kf = KalmanFilter(dim_x=2, dim_z=1)\n",
    "    kf.x = np.zeros(2)\n",
    "    kf.P *= np.array([[100, 0], [0, 1]])\n",
    "    kf.R *= R\n",
    "    kf.Q = Q_discrete_white_noise(2, dt, Q)\n",
    "    kf.F = np.array([[1., dt],\n",
    "                     [0., 1]])\n",
    "    kf.H = np.array([[1., 0]])\n",
    "    return kf"
   ]
  },
  {
   "cell_type": "markdown",
   "metadata": {},
   "source": [
    "### Second Order Kalman Filter"
   ]
  },
  {
   "cell_type": "markdown",
   "metadata": {},
   "source": [
    "A second order Kalman filter tracks a second order system, such as position, velocity and acceleration. The state variables will need to contain all three. The matrix formulation could be\n",
    "\n",
    "$$ \\mathbf{x} = \\begin{bmatrix}x\\\\\\dot{x}\\\\\\ddot{x}\\end{bmatrix}$$\n",
    "\n",
    "So now we have to design our state transition. The Newtonian equations for a time step are:\n",
    "\n",
    "$$\\begin{aligned} x_t &= x_{t-1} + v_{t-1}\\Delta t + 0.5a_{t-1} \\Delta t^2 \\\\\n",
    " v_t &= v_{t-1} \\Delta t + a_{t-1} \\\\\n",
    " a_t &= a_{t-1}\\end{aligned}$$\n",
    " \n",
    "Recall that we need to convert this into the linear equation\n",
    "\n",
    "$$\\begin{bmatrix}x\\\\\\dot{x}\\\\\\ddot{x}\\end{bmatrix} = \\mathbf{F}\\begin{bmatrix}x\\\\\\dot{x}\\\\\\ddot{x}\\end{bmatrix}$$\n",
    "\n",
    "Setting\n",
    "\n",
    "$$\\mathbf{F} = \\begin{bmatrix}1 & \\Delta t &.5\\Delta t^2\\\\ \n",
    "0 & 1 & \\Delta t \\\\\n",
    "0 & 0 & 1\\end{bmatrix}$$\n",
    "\n",
    "gives us the equations above. \n",
    "\n",
    "Finally, we design the measurement function. The measurement function needs to implement\n",
    "\n",
    "$$z = \\mathbf{Hx}$$\n",
    "\n",
    "Our sensor still only reads position, so it should take the position from the state, and 0 out the velocity, like so:\n",
    "\n",
    "$$\\mathbf{H} = \\begin{bmatrix}1 & 0 & 0\\end{bmatrix}$$\n",
    "\n",
    "As in the previous section we will define a function that constructs and returns a Kalman filter that implements these equations."
   ]
  },
  {
   "cell_type": "code",
   "execution_count": null,
   "metadata": {
    "collapsed": false
   },
   "outputs": [],
   "source": [
    "def SecondOrderKF(R_std, Q, dt):\n",
    "    \"\"\" Create zero order Kalman filter. Specify R and Q as floats.\"\"\"\n",
    "    kf = KalmanFilter(dim_x=3, dim_z=1)\n",
    "    kf.x = np.zeros(3)\n",
    "    kf.P[0, 0] = 100\n",
    "    kf.P[1, 1] = 1\n",
    "    kf.P[2, 2] = 1\n",
    "    kf.R *= R_std**2\n",
    "    kf.Q = Q_discrete_white_noise(3, dt, Q)\n",
    "    kf.F = np.array([[1., dt, .5*dt*dt],\n",
    "                     [0., 1.,       dt],\n",
    "                     [0., 0.,       1.]])\n",
    "    kf.H = np.array([[1., 0., 0.]])\n",
    "    return kf"
   ]
  },
  {
   "cell_type": "markdown",
   "metadata": {},
   "source": [
    "### Evaluating the Performance"
   ]
  },
  {
   "cell_type": "markdown",
   "metadata": {},
   "source": [
    "We have implemented the Kalman filters and the simulated first order system, so now we can run each Kalman filter against the simulation and evaluate the results. \n",
    "\n",
    "How do we evaluate the results? We can do this qualitatively by plotting the track and the Kalman filter output and eyeballing the results. However, we can do this far more rigorously with mathematics. Recall that system covariance matrix $\\mathbf{P}$ contains the computed variance and covariances for each of the state variables. The diagonal contains the variance. If you think back to the Gaussian chapter you'll remember that roughly 99% of all measurements fall within three standard deviations if the noise is Gaussian, and, of course, the standard deviation can be computed as the square root of the variance. If this is not clear please review the Gaussian chapter before continuing, as this is an important point. \n",
    "\n",
    "So we can evaluate the filter by looking at the residuals between the estimated state and actual state and comparing them to the standard deviations which we derive from $\\mathbf{P}$. If the filter is performing correctly 99% of the residuals will fall within the third standard deviation. This is true for all the state variables, not just for the position. \n",
    "\n",
    "So let's run the first order Kalman filter against our first order system and access it's performance. You can probably guess that it will do well, but let's look at it using the standard deviations.\n",
    "\n",
    "First, let's write a routine to generate the noisy measurements for us."
   ]
  },
  {
   "cell_type": "code",
   "execution_count": null,
   "metadata": {
    "collapsed": false
   },
   "outputs": [],
   "source": [
    "def simulate_system(Q, count):\n",
    "    obj = ConstantVelocityObject(x0=.0, vel=0.5, noise_scale=Q)\n",
    "    zs = []\n",
    "    xs = []\n",
    "    for i in range(count):\n",
    "        x = obj.update()\n",
    "        z = sense(x)\n",
    "        xs.append(x)\n",
    "        zs.append(z)\n",
    "    return np.asarray(xs), zs"
   ]
  },
  {
   "cell_type": "markdown",
   "metadata": {},
   "source": [
    "And now a routine to perform the filtering."
   ]
  },
  {
   "cell_type": "code",
   "execution_count": null,
   "metadata": {
    "collapsed": false
   },
   "outputs": [],
   "source": [
    "def filter_data(kf, zs):\n",
    "    # save output for plotting\n",
    "    fxs = []\n",
    "    ps = []\n",
    "\n",
    "    for z in zs:\n",
    "        kf.predict()\n",
    "        kf.update(z)\n",
    "\n",
    "        fxs.append(kf.x)\n",
    "        ps.append(kf.P.diagonal())\n",
    "\n",
    "    fxs = np.asarray(fxs)\n",
    "    ps = np.asarray(ps)\n",
    "    \n",
    "    return fxs, ps"
   ]
  },
  {
   "cell_type": "markdown",
   "metadata": {},
   "source": [
    "And to plot the track results."
   ]
  },
  {
   "cell_type": "code",
   "execution_count": null,
   "metadata": {
    "collapsed": false
   },
   "outputs": [],
   "source": [
    "def plot_kf_output(xs, filter_xs, zs, title=None):\n",
    "    bp.plot_filter(filter_xs[:, 0])\n",
    "    bp.plot_track(xs[:, 0])\n",
    "    \n",
    "    if zs is not None:\n",
    "        bp.plot_measurements(zs)\n",
    "    bp.show_legend()\n",
    "    plt.ylabel('meters')\n",
    "    plt.xlabel('time (sec)')\n",
    "    if title is not None:\n",
    "        plt.title(title)\n",
    "    plt.xlim((-1, len(xs)))\n",
    "    #plt.ylim((-1, len(xs)))\n",
    "    #plt.axis('equal')\n",
    "    plt.show()"
   ]
  },
  {
   "cell_type": "markdown",
   "metadata": {},
   "source": [
    "Now we are prepared to run the filter and look at the results."
   ]
  },
  {
   "cell_type": "code",
   "execution_count": null,
   "metadata": {
    "collapsed": false
   },
   "outputs": [],
   "source": [
    "R = 1\n",
    "Q = 0.03\n",
    "\n",
    "xs, zs = simulate_system(Q=Q, count=50)\n",
    "\n",
    "kf = FirstOrderKF(R, Q, dt=1)\n",
    "fxs1, ps1 = filter_data(kf, zs)\n",
    "\n",
    "plt.figure()\n",
    "plot_kf_output(xs, fxs1, zs)"
   ]
  },
  {
   "cell_type": "markdown",
   "metadata": {},
   "source": [
    "It looks like the filter is performing well, but it is hard to tell exactly how well. Let's look at the residuals and see if they help. You may have noticed that in the code above I saved the covariance at each step. I did that to use in the following plot. The ConstantVelocityObject class returns a tuple of (position, velocity) for the real object, and this is stored in the array `xs`, and the filter's estimates are in `fxs`."
   ]
  },
  {
   "cell_type": "code",
   "execution_count": null,
   "metadata": {
    "collapsed": false
   },
   "outputs": [],
   "source": [
    "def plot_residuals(xs, filter_xs, Ps, title, y_label):\n",
    "    res = xs - filter_xs\n",
    "    plt.plot(res)\n",
    "    bp.plot_residual_limits(Ps)\n",
    "    plt.title(title)\n",
    "    plt.ylabel(y_label)\n",
    "    plt.xlabel('time (sec)')\n",
    "    \n",
    "    plt.show()"
   ]
  },
  {
   "cell_type": "code",
   "execution_count": null,
   "metadata": {
    "collapsed": false
   },
   "outputs": [],
   "source": [
    "plot_residuals(xs[:, 0], fxs1[:, 0], ps1[:, 0], \n",
    "               'First Order Position Residuals',\n",
    "               'meters')   "
   ]
  },
  {
   "cell_type": "markdown",
   "metadata": {},
   "source": [
    "How do we interpret this plot? The residual is drawn as the jagged line - the difference between the measurement and the actual position. If there was no measurement noise and the Kalman filter prediction was always perfect the residual would always be zero. So the ideal output would be a horizontal line at 0. We can see that the residual is centered around 0, so this gives us confidence that the noise is Gaussian (because the errors fall equally above and below 0). The yellow area between dotted lines show the theoretical performance of the filter for 1 standard deviations. In other words, approximately 68% of the errors should fall within the dotted lines. The residual falls within this range, so we see that the filter is performing well, and that it is not diverging.\n",
    "\n",
    "But that is just for position. Let's look at the residuals for velocity. "
   ]
  },
  {
   "cell_type": "code",
   "execution_count": null,
   "metadata": {
    "collapsed": false
   },
   "outputs": [],
   "source": [
    "plot_residuals(xs[:, 1], fxs1[:, 1], ps1[:, 1], \n",
    "               'First Order Velocity Residuals',\n",
    "               'meters/sec')   "
   ]
  },
  {
   "cell_type": "markdown",
   "metadata": {},
   "source": [
    "Again, as expected, the residual falls within the theoretical performance of the filter, so we feel confident that the filter is well designed for this system.\n",
    "\n",
    "\n",
    "Now let's do the same thing using the zero order Kalman filter. All of the code and math is largely the same, so let's just look at the results without discussing the implementation much."
   ]
  },
  {
   "cell_type": "code",
   "execution_count": null,
   "metadata": {
    "collapsed": false
   },
   "outputs": [],
   "source": [
    "kf0 = ZeroOrderKF(R, Q)\n",
    "fxs0, ps0 = filter_data(kf0, zs)\n",
    "\n",
    "plot_kf_output(xs, fxs0, zs)"
   ]
  },
  {
   "cell_type": "markdown",
   "metadata": {},
   "source": [
    "As we would expect, the filter has problems. Think back to the g-h filter, where we incorporated acceleration into the system. The g-h filter always lagged the input because there were not enough terms to allow the filter to adjust quickly enough to the changes in velocity. The same thing is happening here, just one order lower. On every `predict()` step the Kalman filter assumes that there is no change in position - if the current position is 4.3 it will predict that the position at the next time period is 4.3. Of course, the actual position is closer to 5.3. The measurement, with noise, might be 5.4, so the filter chooses an estimate part way between 4.3 and 5.4, causing it to lag the actual value of 5.3 by a significant amount. This same thing happens in the next step, the next one, and so on. The filter never catches up.\n",
    "\n",
    "Now let's look at the residuals. We are not tracking velocity, so we can only look at the residual for position."
   ]
  },
  {
   "cell_type": "code",
   "execution_count": null,
   "metadata": {
    "collapsed": false
   },
   "outputs": [],
   "source": [
    "plot_residuals(xs[:, 0], fxs0[:, 0], ps0[:, 0], \n",
    "               'Zero Order Position Residuals',\n",
    "               'meters')"
   ]
  },
  {
   "cell_type": "markdown",
   "metadata": {},
   "source": [
    "We can see that the filter diverges almost immediately. After the first second the residual exceeds the bounds of three standard deviations. It is important to understand that the covariance matrix $\\mathbf{P}$ is only reporting the *theoretical* performance of the filter *assuming* all of the inputs are correct. In other words, this Kalman filter is diverging, but $\\mathbf{P}$ implies that the Kalman filter's estimates are getting better and better with time because the variance is getting smaller. The filter has no way to know that you are lying to it about the system.\n",
    "\n",
    "In this system the divergence is immediate and striking. In many systems it will only be gradual, and/or slight. It is important to look at charts like these for your systems to ensure that the performance of the filter is within the bounds of its theoretical performance."
   ]
  },
  {
   "cell_type": "markdown",
   "metadata": {},
   "source": [
    "Now let's try a second order system. This might strike you as a good thing to do. After all, we know there is a bit of noise in the movement of the simulated object, which implies there is some acceleration. Why not model the acceleration with a second order model? If there is no acceleration, the acceleration should just be estimated to be 0, right?. But is that what happens? Think about it before going on."
   ]
  },
  {
   "cell_type": "code",
   "execution_count": null,
   "metadata": {
    "collapsed": false
   },
   "outputs": [],
   "source": [
    "kf2 = SecondOrderKF(R, Q, dt=1)\n",
    "fxs2, ps2 = filter_data(kf2, zs)\n",
    "\n",
    "plot_kf_output(xs, fxs2, zs)"
   ]
  },
  {
   "cell_type": "markdown",
   "metadata": {},
   "source": [
    "Did this perform as you expected? We can see that even though the system does have a slight amount of acceleration in it the second order filter performs poorly compared to the first order filter. Why does this? The system believes that there is acceleration in the system, and so the large changes in the measurement gets interpreted as acceleration instead of noise. Thus you can see that the filter tracks the noise in the system quite closely. Not only that, but it *overshoots* the noise in places if the noise is consistently above or below the track because the filter incorrectly assumes an acceleration that does not exist, and so it's prediction goes further and further away from the track on each measurement. This is not a good state of affairs.\n",
    "\n",
    "Still, the track doesn't look *horrible*. Let's see the story that the residuals tell. I will add a wrinkle here. The residuals for the second order system do not look terrible in that they do not diverge or exceed three standard deviations. However, it is very telling to look at the residuals for the first order vs the second order filter, so I have plotted both on the same graph."
   ]
  },
  {
   "cell_type": "code",
   "execution_count": null,
   "metadata": {
    "collapsed": false
   },
   "outputs": [],
   "source": [
    "res = xs[:, 0] - fxs2[:, 0]\n",
    "res1 = xs[:, 0] - fxs1[:, 0]\n",
    "\n",
    "plt.plot(res1, ls=\"--\", label='order 1')\n",
    "plt.plot(res, label='order 2')\n",
    "bp.plot_residual_limits(ps2[:, 0])\n",
    "plt.title('Second Order Position Residuals')\n",
    "plt.legend()\n",
    "plt.ylabel('meters')\n",
    "plt.xlabel('time (sec)')\n",
    "plt.show()"
   ]
  },
  {
   "cell_type": "markdown",
   "metadata": {},
   "source": [
    "We can see that the residuals for the second order filter fall nicely within the theoretical limits of the filter. When we compare them against the first order residuals we may conclude that the second order is slight worse, but the difference is not large. There is nothing very alarming here.\n",
    "\n",
    "Now let's look at the residuals for the velocity."
   ]
  },
  {
   "cell_type": "code",
   "execution_count": null,
   "metadata": {
    "collapsed": false
   },
   "outputs": [],
   "source": [
    "res = xs[:, 1] - fxs2[:, 1]\n",
    "res1 = xs[:, 1] - fxs1[:, 1]\n",
    "plt.plot(res, label='order 2')\n",
    "plt.plot(res1, ls='--', label='order 1')\n",
    "bp.plot_residual_limits(ps2[:, 1])\n",
    "plt.title('Second Order Velocity Residuals')\n",
    "plt.legend()\n",
    "plt.ylabel('meters/sec')\n",
    "plt.xlabel('time (sec)')\n",
    "plt.show()"
   ]
  },
  {
   "cell_type": "markdown",
   "metadata": {},
   "source": [
    "Here the story is very different. While the residuals of the second order system fall within the theoretical bounds of the filter's performance, we can see that the residuals are *far* worse than for the first order filter. This is the usual result for this scenario. The filter is assuming that there is acceleration that does not exist. It mistakes noise in the measurement as acceleration and this gets added into the velocity estimate on every predict cycle. Of course the acceleration is not actually there and so the residual for the velocity is much larger than is optimum."
   ]
  },
  {
   "cell_type": "markdown",
   "metadata": {},
   "source": [
    "I have one more trick up my sleeve. We have a first order system; i.e. the velocity is more-or-less constant. Real world systems are never perfect, so of course the velocity is never exactly the same between time periods. When we use a first order filter we account for that slight variation in velocity with the *process noise*. The matrix $\\mathbf{Q}$ is computed to account for this slight variation. If we move to a second order filter we are now accounting for the changes in velocity. Perhaps now we have no process noise, and we can set $\\mathbf{Q}$ to zero! "
   ]
  },
  {
   "cell_type": "code",
   "execution_count": 11,
   "metadata": {
    "collapsed": false
   },
   "outputs": [
    {
     "ename": "NameError",
     "evalue": "name 'SecondOrderKF' is not defined",
     "output_type": "error",
     "traceback": [
      "\u001b[1;31m---------------------------------------------------------------------------\u001b[0m",
      "\u001b[1;31mNameError\u001b[0m                                 Traceback (most recent call last)",
      "\u001b[1;32m<ipython-input-11-b196ce1b0d17>\u001b[0m in \u001b[0;36m<module>\u001b[1;34m()\u001b[0m\n\u001b[1;32m----> 1\u001b[1;33m \u001b[0mkf2\u001b[0m \u001b[1;33m=\u001b[0m \u001b[0mSecondOrderKF\u001b[0m\u001b[1;33m(\u001b[0m\u001b[0mR\u001b[0m\u001b[1;33m,\u001b[0m \u001b[1;36m0\u001b[0m\u001b[1;33m,\u001b[0m \u001b[0mdt\u001b[0m\u001b[1;33m=\u001b[0m\u001b[1;36m1\u001b[0m\u001b[1;33m)\u001b[0m\u001b[1;33m\u001b[0m\u001b[0m\n\u001b[0m\u001b[0;32m      2\u001b[0m \u001b[0mfxs2\u001b[0m\u001b[1;33m,\u001b[0m \u001b[0mps2\u001b[0m \u001b[1;33m=\u001b[0m \u001b[0mfilter_data\u001b[0m\u001b[1;33m(\u001b[0m\u001b[0mkf2\u001b[0m\u001b[1;33m,\u001b[0m \u001b[0mzs\u001b[0m\u001b[1;33m)\u001b[0m\u001b[1;33m\u001b[0m\u001b[0m\n\u001b[0;32m      3\u001b[0m \u001b[1;33m\u001b[0m\u001b[0m\n\u001b[0;32m      4\u001b[0m \u001b[0mplot_kf_output\u001b[0m\u001b[1;33m(\u001b[0m\u001b[0mxs\u001b[0m\u001b[1;33m,\u001b[0m \u001b[0mfxs2\u001b[0m\u001b[1;33m,\u001b[0m \u001b[0mzs\u001b[0m\u001b[1;33m)\u001b[0m\u001b[1;33m\u001b[0m\u001b[0m\n",
      "\u001b[1;31mNameError\u001b[0m: name 'SecondOrderKF' is not defined"
     ]
    }
   ],
   "source": [
    "kf2 = SecondOrderKF(R, 0, dt=1)\n",
    "fxs2, ps2 = filter_data(kf2, zs)\n",
    "\n",
    "plot_kf_output(xs, fxs2, zs)"
   ]
  },
  {
   "cell_type": "markdown",
   "metadata": {},
   "source": [
    "To my eye that looks quite good! The filter quickly converges to the actual track. Success!\n",
    "\n",
    "Or, maybe not. Setting the process noise to 0 tells the filter that the process model is perfect. I've yet to hear of a perfect physical system. Let's look at the performance of the filter over a longer period of time.\n"
   ]
  },
  {
   "cell_type": "code",
   "execution_count": 12,
   "metadata": {
    "collapsed": false
   },
   "outputs": [
    {
     "ename": "NameError",
     "evalue": "name 'simulate_system' is not defined",
     "output_type": "error",
     "traceback": [
      "\u001b[1;31m---------------------------------------------------------------------------\u001b[0m",
      "\u001b[1;31mNameError\u001b[0m                                 Traceback (most recent call last)",
      "\u001b[1;32m<ipython-input-12-8ebd3e13f70f>\u001b[0m in \u001b[0;36m<module>\u001b[1;34m()\u001b[0m\n\u001b[0;32m      1\u001b[0m \u001b[0mnp\u001b[0m\u001b[1;33m.\u001b[0m\u001b[0mrandom\u001b[0m\u001b[1;33m.\u001b[0m\u001b[0mseed\u001b[0m\u001b[1;33m(\u001b[0m\u001b[1;36m25944\u001b[0m\u001b[1;33m)\u001b[0m\u001b[1;33m\u001b[0m\u001b[0m\n\u001b[1;32m----> 2\u001b[1;33m \u001b[0mxs500\u001b[0m\u001b[1;33m,\u001b[0m \u001b[0mzs500\u001b[0m \u001b[1;33m=\u001b[0m \u001b[0msimulate_system\u001b[0m\u001b[1;33m(\u001b[0m\u001b[0mQ\u001b[0m\u001b[1;33m=\u001b[0m\u001b[0mQ\u001b[0m\u001b[1;33m,\u001b[0m \u001b[0mcount\u001b[0m\u001b[1;33m=\u001b[0m\u001b[1;36m500\u001b[0m\u001b[1;33m)\u001b[0m\u001b[1;33m\u001b[0m\u001b[0m\n\u001b[0m\u001b[0;32m      3\u001b[0m \u001b[1;33m\u001b[0m\u001b[0m\n\u001b[0;32m      4\u001b[0m \u001b[0mkf2\u001b[0m \u001b[1;33m=\u001b[0m \u001b[0mSecondOrderKF\u001b[0m\u001b[1;33m(\u001b[0m\u001b[0mR\u001b[0m\u001b[1;33m,\u001b[0m \u001b[1;36m0\u001b[0m\u001b[1;33m,\u001b[0m \u001b[0mdt\u001b[0m\u001b[1;33m=\u001b[0m\u001b[1;36m1\u001b[0m\u001b[1;33m)\u001b[0m\u001b[1;33m\u001b[0m\u001b[0m\n\u001b[0;32m      5\u001b[0m \u001b[0mfxs2\u001b[0m\u001b[1;33m,\u001b[0m \u001b[0mps2\u001b[0m \u001b[1;33m=\u001b[0m \u001b[0mfilter_data\u001b[0m\u001b[1;33m(\u001b[0m\u001b[0mkf2\u001b[0m\u001b[1;33m,\u001b[0m \u001b[0mzs500\u001b[0m\u001b[1;33m)\u001b[0m\u001b[1;33m\u001b[0m\u001b[0m\n",
      "\u001b[1;31mNameError\u001b[0m: name 'simulate_system' is not defined"
     ]
    }
   ],
   "source": [
    "np.random.seed(25944)\n",
    "xs500, zs500 = simulate_system(Q=Q, count=500)\n",
    "\n",
    "kf2 = SecondOrderKF(R, 0, dt=1)\n",
    "fxs2, ps2 = filter_data(kf2, zs500)\n",
    "\n",
    "plot_kf_output(xs500, fxs2, zs500)\n",
    "plot_residuals(xs500[:, 0], fxs2[:, 0], ps2[:, 0], \n",
    "               'Zero Order Position Residuals',\n",
    "               'meters') "
   ]
  },
  {
   "cell_type": "markdown",
   "metadata": {},
   "source": [
    "We can see that the performance of the filter is abysmal. We can see that in the track plot where the filter diverges from the track for an extended period of time. The divergence may or may not seem large to you. The residual plot makes the problem more apparent. Just before the 100th update the filter diverges sharply from the theoretical performance. It *might* be converging at the end, but I doubt it.\n",
    "\n",
    "Why is this happening? Recall that if we set the process noise to zero we are telling the filter to use only the process model. The measurements end up getting ignored. The physical system is *not* perfect, and so the filter is unable to adapt to this imperfect behavior. \n",
    "\n",
    "Maybe just a really low process noise? Let's try that."
   ]
  },
  {
   "cell_type": "code",
   "execution_count": 13,
   "metadata": {
    "collapsed": false
   },
   "outputs": [
    {
     "ename": "NameError",
     "evalue": "name 'simulate_system' is not defined",
     "output_type": "error",
     "traceback": [
      "\u001b[1;31m---------------------------------------------------------------------------\u001b[0m",
      "\u001b[1;31mNameError\u001b[0m                                 Traceback (most recent call last)",
      "\u001b[1;32m<ipython-input-13-36969d85690d>\u001b[0m in \u001b[0;36m<module>\u001b[1;34m()\u001b[0m\n\u001b[0;32m      1\u001b[0m \u001b[0mnp\u001b[0m\u001b[1;33m.\u001b[0m\u001b[0mrandom\u001b[0m\u001b[1;33m.\u001b[0m\u001b[0mseed\u001b[0m\u001b[1;33m(\u001b[0m\u001b[1;36m32594\u001b[0m\u001b[1;33m)\u001b[0m\u001b[1;33m\u001b[0m\u001b[0m\n\u001b[1;32m----> 2\u001b[1;33m \u001b[0mxs2000\u001b[0m\u001b[1;33m,\u001b[0m \u001b[0mzs2000\u001b[0m \u001b[1;33m=\u001b[0m \u001b[0msimulate_system\u001b[0m\u001b[1;33m(\u001b[0m\u001b[0mQ\u001b[0m\u001b[1;33m=\u001b[0m\u001b[1;36m0.0001\u001b[0m\u001b[1;33m,\u001b[0m \u001b[0mcount\u001b[0m\u001b[1;33m=\u001b[0m\u001b[1;36m2000\u001b[0m\u001b[1;33m)\u001b[0m\u001b[1;33m\u001b[0m\u001b[0m\n\u001b[0m\u001b[0;32m      3\u001b[0m \u001b[1;33m\u001b[0m\u001b[0m\n\u001b[0;32m      4\u001b[0m \u001b[0mkf2\u001b[0m \u001b[1;33m=\u001b[0m \u001b[0mSecondOrderKF\u001b[0m\u001b[1;33m(\u001b[0m\u001b[0mR\u001b[0m\u001b[1;33m,\u001b[0m \u001b[1;36m0\u001b[0m\u001b[1;33m,\u001b[0m \u001b[0mdt\u001b[0m\u001b[1;33m=\u001b[0m\u001b[1;36m1\u001b[0m\u001b[1;33m)\u001b[0m\u001b[1;33m\u001b[0m\u001b[0m\n\u001b[0;32m      5\u001b[0m \u001b[0mfxs2\u001b[0m\u001b[1;33m,\u001b[0m \u001b[0mps2\u001b[0m \u001b[1;33m=\u001b[0m \u001b[0mfilter_data\u001b[0m\u001b[1;33m(\u001b[0m\u001b[0mkf2\u001b[0m\u001b[1;33m,\u001b[0m \u001b[0mzs2000\u001b[0m\u001b[1;33m)\u001b[0m\u001b[1;33m\u001b[0m\u001b[0m\n",
      "\u001b[1;31mNameError\u001b[0m: name 'simulate_system' is not defined"
     ]
    }
   ],
   "source": [
    "np.random.seed(32594)\n",
    "xs2000, zs2000 = simulate_system(Q=0.0001, count=2000)\n",
    "\n",
    "kf2 = SecondOrderKF(R, 0, dt=1)\n",
    "fxs2, ps2 = filter_data(kf2, zs2000)\n",
    "\n",
    "plot_kf_output(xs2000, fxs2, zs2000)\n",
    "plot_residuals(xs2000[:, 0], fxs2[:, 0], ps2[:, 0], \n",
    "               'Seceond Order Position Residuals',\n",
    "               'meters') "
   ]
  },
  {
   "cell_type": "markdown",
   "metadata": {},
   "source": [
    "Again, the residual plot tells the story. The track looks very good, but the residual plot shows that the filter is diverging for significant periods of time.\n",
    "\n",
    "How should you think about all of this? You might argue that the last plot is 'good enough' for your application, and perhaps it is. I warn you however that a diverging filter doesn't always converge. With a different data set, or a physical system that performs differently you can end up with a filter that never converges. \n",
    "\n",
    "Also, let's think about this in a data fitting sense. Suppose I give you two points, and tell you to fit a straight line to the points. "
   ]
  },
  {
   "cell_type": "code",
   "execution_count": 14,
   "metadata": {
    "collapsed": false
   },
   "outputs": [
    {
     "data": {
      "image/png": "[encoded data removed]",
      "text/plain": [
       "<matplotlib.figure.Figure at 0x7cc6860>"
      ]
     },
     "metadata": {},
     "output_type": "display_data"
    }
   ],
   "source": [
    "plt.scatter([1, 2], [1, 1], s=100, c='r')\n",
    "plt.plot([0, 3], [1, 1])\n",
    "plt.show()"
   ]
  },
  {
   "cell_type": "markdown",
   "metadata": {},
   "source": [
    "There is only one possible answer, to draw a line between the two points. Furthermore, the answer is optimal. If I gave you more points you could use a least squares fit to find the best line, and the answer would still be optimal (in a least squares sense).\n",
    "\n",
    "But suppose I told you to fit a higher order polynomial to those two points. There is now an infinite number of answers to the problem. For example, for a second order system any parabola that passes through those two points would 'fit' the data, and there are an infinite number of parabolas that do that. When the Kalman filter is of higher order than your physical process it also has an infinite number of solutions to choose from. The answer is not just non-optimal, it often diverges and never reacquires the signal. "
   ]
  },
  {
   "cell_type": "markdown",
   "metadata": {},
   "source": [
    "So this is the story of Goldilocks. You don't want a filter too big, or too small, but one that is just right. In many cases that will be easy to do - if you are designing a Kalman filter to read the thermometer of a freezer it seems clear that a zero order filter is the right choice. But what order should we use if we are tracking a car? Order one will work well while the car is moving in a straight line at a constant speed, but cars turn, speed up, and slow down, in which case a second order filter will perform better. That is the problem addressed in the Adaptive Filters chapter. There we will learn how to design a filter that *adapts* to changing order in the tracked object's behavior.\n",
    "\n",
    "With that said, a lower order filter can track a higher order process so long as you add enough process noise. The results will not be optimal, but they can still be very good, and I always reach for this tool first before trying an adaptive filter. Let's look at an example with acceleration. First, the simulation."
   ]
  },
  {
   "cell_type": "code",
   "execution_count": 15,
   "metadata": {
    "collapsed": false
   },
   "outputs": [
    {
     "ename": "NameError",
     "evalue": "name 'randn' is not defined",
     "output_type": "error",
     "traceback": [
      "\u001b[1;31m---------------------------------------------------------------------------\u001b[0m",
      "\u001b[1;31mNameError\u001b[0m                                 Traceback (most recent call last)",
      "\u001b[1;32m<ipython-input-15-0459a6316c68>\u001b[0m in \u001b[0;36m<module>\u001b[1;34m()\u001b[0m\n\u001b[0;32m     26\u001b[0m \u001b[1;33m\u001b[0m\u001b[0m\n\u001b[0;32m     27\u001b[0m \u001b[0mnp\u001b[0m\u001b[1;33m.\u001b[0m\u001b[0mrandom\u001b[0m\u001b[1;33m.\u001b[0m\u001b[0mseed\u001b[0m\u001b[1;33m(\u001b[0m\u001b[1;36m124\u001b[0m\u001b[1;33m)\u001b[0m\u001b[1;33m\u001b[0m\u001b[0m\n\u001b[1;32m---> 28\u001b[1;33m \u001b[0mxs\u001b[0m\u001b[1;33m,\u001b[0m \u001b[0mzs\u001b[0m \u001b[1;33m=\u001b[0m \u001b[0msimulate_acc_system\u001b[0m\u001b[1;33m(\u001b[0m\u001b[0mR\u001b[0m\u001b[1;33m=\u001b[0m\u001b[0mR\u001b[0m\u001b[1;33m,\u001b[0m \u001b[0mQ\u001b[0m\u001b[1;33m=\u001b[0m\u001b[0mQ\u001b[0m\u001b[1;33m,\u001b[0m \u001b[0mcount\u001b[0m\u001b[1;33m=\u001b[0m\u001b[1;36m80\u001b[0m\u001b[1;33m)\u001b[0m\u001b[1;33m\u001b[0m\u001b[0m\n\u001b[0m\u001b[0;32m     29\u001b[0m \u001b[0mplt\u001b[0m\u001b[1;33m.\u001b[0m\u001b[0mplot\u001b[0m\u001b[1;33m(\u001b[0m\u001b[0mxs\u001b[0m\u001b[1;33m[\u001b[0m\u001b[1;33m:\u001b[0m\u001b[1;33m,\u001b[0m \u001b[1;36m0\u001b[0m\u001b[1;33m]\u001b[0m\u001b[1;33m)\u001b[0m\u001b[1;33m\u001b[0m\u001b[0m\n\u001b[0;32m     30\u001b[0m \u001b[0mplt\u001b[0m\u001b[1;33m.\u001b[0m\u001b[0mshow\u001b[0m\u001b[1;33m(\u001b[0m\u001b[1;33m)\u001b[0m\u001b[1;33m\u001b[0m\u001b[0m\n",
      "\u001b[1;32m<ipython-input-15-0459a6316c68>\u001b[0m in \u001b[0;36msimulate_acc_system\u001b[1;34m(R, Q, count)\u001b[0m\n\u001b[0;32m     19\u001b[0m     \u001b[0mxs\u001b[0m \u001b[1;33m=\u001b[0m \u001b[1;33m[\u001b[0m\u001b[1;33m]\u001b[0m\u001b[1;33m\u001b[0m\u001b[0m\n\u001b[0;32m     20\u001b[0m     \u001b[1;32mfor\u001b[0m \u001b[0mi\u001b[0m \u001b[1;32min\u001b[0m \u001b[0mrange\u001b[0m\u001b[1;33m(\u001b[0m\u001b[0mcount\u001b[0m\u001b[1;33m)\u001b[0m\u001b[1;33m:\u001b[0m\u001b[1;33m\u001b[0m\u001b[0m\n\u001b[1;32m---> 21\u001b[1;33m         \u001b[0mx\u001b[0m \u001b[1;33m=\u001b[0m \u001b[0mobj\u001b[0m\u001b[1;33m.\u001b[0m\u001b[0mupdate\u001b[0m\u001b[1;33m(\u001b[0m\u001b[1;33m)\u001b[0m\u001b[1;33m\u001b[0m\u001b[0m\n\u001b[0m\u001b[0;32m     22\u001b[0m         \u001b[0mz\u001b[0m \u001b[1;33m=\u001b[0m \u001b[0msense\u001b[0m\u001b[1;33m(\u001b[0m\u001b[0mx\u001b[0m\u001b[1;33m,\u001b[0m \u001b[0mR\u001b[0m\u001b[1;33m)\u001b[0m\u001b[1;33m\u001b[0m\u001b[0m\n\u001b[0;32m     23\u001b[0m         \u001b[0mxs\u001b[0m\u001b[1;33m.\u001b[0m\u001b[0mappend\u001b[0m\u001b[1;33m(\u001b[0m\u001b[0mx\u001b[0m\u001b[1;33m)\u001b[0m\u001b[1;33m\u001b[0m\u001b[0m\n",
      "\u001b[1;32m<ipython-input-15-0459a6316c68>\u001b[0m in \u001b[0;36mupdate\u001b[1;34m(self)\u001b[0m\n\u001b[0;32m      7\u001b[0m \u001b[1;33m\u001b[0m\u001b[0m\n\u001b[0;32m      8\u001b[0m     \u001b[1;32mdef\u001b[0m \u001b[0mupdate\u001b[0m\u001b[1;33m(\u001b[0m\u001b[0mself\u001b[0m\u001b[1;33m)\u001b[0m\u001b[1;33m:\u001b[0m\u001b[1;33m\u001b[0m\u001b[0m\n\u001b[1;32m----> 9\u001b[1;33m         \u001b[0mself\u001b[0m\u001b[1;33m.\u001b[0m\u001b[0macc\u001b[0m \u001b[1;33m+=\u001b[0m \u001b[0mrandn\u001b[0m\u001b[1;33m(\u001b[0m\u001b[1;33m)\u001b[0m \u001b[1;33m*\u001b[0m \u001b[0mself\u001b[0m\u001b[1;33m.\u001b[0m\u001b[0macc_noise_scale\u001b[0m\u001b[1;33m\u001b[0m\u001b[0m\n\u001b[0m\u001b[0;32m     10\u001b[0m         \u001b[0mself\u001b[0m\u001b[1;33m.\u001b[0m\u001b[0mvel\u001b[0m \u001b[1;33m+=\u001b[0m \u001b[0mself\u001b[0m\u001b[1;33m.\u001b[0m\u001b[0macc\u001b[0m\u001b[1;33m\u001b[0m\u001b[0m\n\u001b[0;32m     11\u001b[0m         \u001b[0mself\u001b[0m\u001b[1;33m.\u001b[0m\u001b[0mx\u001b[0m \u001b[1;33m+=\u001b[0m \u001b[0mself\u001b[0m\u001b[1;33m.\u001b[0m\u001b[0mvel\u001b[0m\u001b[1;33m\u001b[0m\u001b[0m\n",
      "\u001b[1;31mNameError\u001b[0m: name 'randn' is not defined"
     ]
    }
   ],
   "source": [
    "class ConstantAccelerationObject(object):\n",
    "    def __init__(self, x0=0, vel=1., acc=0.1, acc_noise_scale=.1):\n",
    "        self.x = x0\n",
    "        self.vel = vel\n",
    "        self.acc = acc\n",
    "        self.acc_noise_scale = acc_noise_scale\n",
    "    \n",
    "    def update(self):\n",
    "        self.acc += randn() * self.acc_noise_scale       \n",
    "        self.vel += self.acc\n",
    "        self.x += self.vel\n",
    "        return (self.x, self.vel, self.acc)\n",
    "  \n",
    "R = 6.\n",
    "Q = 0.02\n",
    "def simulate_acc_system(R, Q, count):\n",
    "    obj = ConstantAccelerationObject(acc_noise_scale=Q)\n",
    "    zs = []\n",
    "    xs = []\n",
    "    for i in range(count):\n",
    "        x = obj.update()\n",
    "        z = sense(x, R)\n",
    "        xs.append(x)\n",
    "        zs.append(z)\n",
    "    return np.asarray(xs), zs\n",
    "\n",
    "np.random.seed(124)\n",
    "xs, zs = simulate_acc_system(R=R, Q=Q, count=80)\n",
    "plt.plot(xs[:, 0])\n",
    "plt.show()"
   ]
  },
  {
   "cell_type": "markdown",
   "metadata": {},
   "source": [
    "Now we will filter the data using a second order filter. "
   ]
  },
  {
   "cell_type": "code",
   "execution_count": null,
   "metadata": {
    "collapsed": false
   },
   "outputs": [],
   "source": [
    "kf2 = SecondOrderKF(R, Q, dt=1)\n",
    "fxs2, ps2 = filter_data(kf2, zs)\n",
    "\n",
    "plot_kf_output(xs, fxs2, zs)\n",
    "plot_residuals(xs[:, 0], fxs2[:, 0], ps2[:, 0], \n",
    "               'Second Order Position Residuals',\n",
    "               'meters') "
   ]
  },
  {
   "cell_type": "markdown",
   "metadata": {},
   "source": [
    "We can see that the filter is performing within the theoretical limits of the filter. \n",
    "\n",
    "Now let's use a lower order filter. As already demonstrated the lower order filter will lag the signal because it is not modeling the acceleration. However, we can account for that (to an extent) by increasing the size of the process noise. The filter will treat the acceleration as noise in the process model. The result will be suboptimal, but if designed well it will not diverge. Choosing the amount of extra process noise is not an exact science. You will have to experiment with representative data. Here, I've multiplied it by 10, and am getting good results."
   ]
  },
  {
   "cell_type": "code",
   "execution_count": null,
   "metadata": {
    "collapsed": false
   },
   "outputs": [],
   "source": [
    "kf2 = FirstOrderKF(R, Q * 10, dt=1)\n",
    "fxs2, ps2 = filter_data(kf2, zs)\n",
    "\n",
    "plot_kf_output(xs, fxs2, zs)\n",
    "plot_residuals(xs[:, 0], fxs2[:, 0], ps2[:, 0], \n",
    "               'Second Order Position Residuals',\n",
    "               'meters') "
   ]
  },
  {
   "cell_type": "markdown",
   "metadata": {},
   "source": [
    "Think about what will happen if you make the process noise many times larger than it needs to be. A large process noise tells the filter to favor the measurements, so we would expect the filter to closely mimic the noise in the measurements. Let's find out."
   ]
  },
  {
   "cell_type": "code",
   "execution_count": null,
   "metadata": {
    "collapsed": false
   },
   "outputs": [],
   "source": [
    "kf2 = FirstOrderKF(R, Q * 10000, dt=1)\n",
    "fxs2, ps2 = filter_data(kf2, zs)\n",
    "\n",
    "plot_kf_output(xs, fxs2, zs)\n",
    "plot_residuals(xs[:, 0], fxs2[:, 0], ps2[:, 0], \n",
    "               'Second Order Position Residuals',\n",
    "               'meters') "
   ]
  },
  {
   "cell_type": "markdown",
   "metadata": {},
   "source": [
    "## Sensor Fusion"
   ]
  },
  {
   "cell_type": "markdown",
   "metadata": {},
   "source": [
    "Early in the g-h filter chapter we discussed designing a filter for two scales, one that was accurate and one that was very inaccurate. We determined that we should always include the information from the inaccurate filter - we should never discard any information that is available to us. If you do not recall this discussion, consider this edge case. You have two scales, one accurate to 1 lb, the second to 10 lbs. You way yourself on each scale, and the first reads 170 lbs, and the second reads 181. If we only used the data from the first scale we would only know that our weight is in the range of 169 to 171 lbs. However, when we incorporate the measurement from the second scale we can decide that the correct weight can only be 171 lbs, since 171 lbs is exactly at the outside range of the second measurement, which would be 171 to 191 lbs. Of course most measurements don't offer such a exact answer, but the principle applies to any measurement.\n",
    "\n",
    "So consider a situation where we have two sensors measuring the same value at each time. How shall we incorporate that into our Kalman filter? \n",
    "\n",
    "Suppose we have a train or cart on a railway. It has a sensor attached to the wheels counting revolutions, which can be converted to a distance along the track. Then, suppose we have a GPS-like sensor which I'll call a 'PS' mounted to the train which reports position. I'll explain why I don't just use a GPS in the next section. Thus, we have two measurements, both reporting position along the track. Suppose further that the accuracy of the wheel sensor is 1m, and the accuracy of the PS is 10m. How do we combine these two measurements into one filter? This may seem quite contrived, but aircraft use sensor fusion to fuse the measurements from sensors such as a GPS, INS, Doppler radar, VOR, the airspeed indicator, and more.\n",
    "\n",
    "Kalman filters for inertial filters are very difficult, but fusing data from two or more sensors providing measurements of the same state variable (such as position) is actually quite easy. The relevant matrix is the measurement matrix $\\mathbf{H}$. Recall that this matrix tells us how to convert from the Kalman filter's state $\\mathbf{X}$ to a measurement $z$. Suppose that we decide that our Kalman filter state should contain the position and velocity of the train, so that\n",
    "\n",
    "$$ \\mathbf{X} = \\begin{bmatrix}x \\\\ \\dot{x}\\end{bmatrix}$$\n",
    "\n",
    "We have two measurements for position, so we will define the measurement vector to be a vector of the measurements from the wheel and the PS.\n",
    "\n",
    "$$ \\mathbf{Z} = \\begin{bmatrix}x_{wheel} \\\\ x_{ps}\\end{bmatrix}$$\n",
    "\n",
    "So we have to design the matrix $\\mathbf{H}$ to convert $\\mathbf{X}$ to $\\mathbf{Z}$ . They are both positions, so the conversion is nothing more than multiplying by one:\n",
    "\n",
    "$$ \\begin{bmatrix}x_{wheel} \\\\ x_{ps}\\end{bmatrix} = \\begin{bmatrix}1 &0 \\\\ 1& 0\\end{bmatrix} \\begin{bmatrix}x \\\\ \\dot{x}\\end{bmatrix}$$\n",
    "\n",
    "To make it clearer, suppose that the wheel reports not position but the number of rotations of the wheels, where 1 revolution yields 2m of travel. In that case we would write\n",
    "\n",
    "$$ \\begin{bmatrix}x_{wheel} \\\\ x_{ps}\\end{bmatrix} = \\begin{bmatrix}0.5 &0 \\\\ 1& 0\\end{bmatrix} \\begin{bmatrix}x \\\\ \\dot{x}\\end{bmatrix}$$\n",
    "\n",
    "Now we have to design the measurement noise matrix $\\mathbf{R}$. Suppose that the measurement variance for the PS is twice the variance of the wheel, and the standard deviation of the wheel is 1.5m. That gives us\n",
    "\n",
    "$$\n",
    "\\begin{aligned}\n",
    "\\sigma_{wheel} &=  1.5\\\\\n",
    "\\sigma^2_{wheel} &= 2.25 \\\\ \n",
    "\\sigma_{ps} &= 1.5*2 = 3 \\\\\n",
    "\\sigma^2_{ps} &= 9.\n",
    "\\end{aligned}\n",
    "$$\n",
    "\n",
    "That is pretty much our Kalman filter design. We need to design for Q, but that is invariant to whether we are doing sensor fusion or not, so I will just choose some arbitrary value for Q.\n",
    "\n",
    "So let's run a simulation of this design. I will assume a velocity of 10m/s with an update rate of 0.1 seconds."
   ]
  },
  {
   "cell_type": "code",
   "execution_count": null,
   "metadata": {
    "collapsed": false
   },
   "outputs": [],
   "source": [
    "import numpy.random as random\n",
    "from numpy.random import randn\n",
    "import numpy as np\n",
    "import matplotlib.pyplot as plt\n",
    "from filterpy.kalman import KalmanFilter\n",
    "from numpy import array, asarray\n",
    "\n",
    "def fusion_test(wheel_sigma, ps_sigma, do_plot=True):\n",
    "    dt = 0.1\n",
    "    kf = KalmanFilter(dim_x=2, dim_z=2)\n",
    "\n",
    "    kf.F = array([[1., dt], [0., 1.]])\n",
    "    kf.H = array([[1., 0.], [1., 0.]])\n",
    "    kf.x = array([[0.], [1.]])\n",
    "    kf.Q *= array([[(dt**3)/3, (dt**2)/2],\n",
    "                   [(dt**2)/2,  dt      ]]) * 0.02\n",
    "    kf.P *= 100\n",
    "    kf.R[0, 0] = wheel_sigma**2\n",
    "    kf.R[1, 1] = ps_sigma**2 \n",
    "\n",
    "    random.seed(1123)\n",
    "    xs = []\n",
    "    zs = []\n",
    "    nom = []\n",
    "    for i in range(1, 100):\n",
    "        m0 = i + randn()*wheel_sigma\n",
    "        m1 = i + randn()*ps_sigma\n",
    "        z = array([[m0], [m1]])\n",
    "\n",
    "        kf.predict()\n",
    "        kf.update(z)\n",
    "\n",
    "        xs.append(kf.x.T[0])\n",
    "        zs.append(z.T[0])\n",
    "        nom.append(i)\n",
    "\n",
    "    xs = asarray(xs)\n",
    "    zs = asarray(zs)\n",
    "    nom = asarray(nom)\n",
    "\n",
    "\n",
    "    res = nom - xs[:, 0]\n",
    "    print('fusion std: {:.3f}'.format(np.std(res)))\n",
    "    if do_plot:\n",
    "        bp.plot_measurements(zs[:, 0], label='Wheel')\n",
    "        plt.plot(zs[:, 1], linestyle='--', label='Pos Sensor')\n",
    "        bp.plot_filter(xs[:, 0], label='Kalman filter')\n",
    "        plt.legend(loc=4)\n",
    "        plt.ylim(0, 100)\n",
    "        plt.show()\n",
    "\n",
    "fusion_test(1.5, 3.0)"
   ]
  },
  {
   "cell_type": "markdown",
   "metadata": {},
   "source": [
    "We can see the result of the Kalman filter in blue.\n",
    "\n",
    "It may be somewhat difficult to understand the previous example at an intuitive level. Let's look at a different problem. Suppose we are tracking an object in 2D space, and have two radar systems at different positions. Each radar system gives us a range and bearing to the target. How do the readings from each data affect the results?\n",
    "\n",
    "This is a nonlinear problem because we need to use a trigonometry  to compute coordinates from a range and bearing, and we have not yet learned how to solve nonlinear problems with Kalman filters. So for this problem ignore the code that I used and just concentrate on the charts that the code outputs. We will revisit this problem in subsequent chapters and learn how to write this code.\n",
    "\n",
    "I will position the target at (100, 100). The first radar will be at (50, 50), and the second radar at (150, 50). This will cause the first radar to measure a bearing of 45 degrees, and the second will report 135 degrees.\n",
    "\n",
    "I will create the Kalman filter first, and then plot its initial covariance matrix. I am using what is called an Unscented Kalman filter, which is the subject of a later chapter."
   ]
  },
  {
   "cell_type": "code",
   "execution_count": null,
   "metadata": {
    "collapsed": false
   },
   "outputs": [],
   "source": [
    "from filterpy.kalman import UnscentedKalmanFilter as UKF\n",
    "from filterpy.kalman import JulierSigmaPoints\n",
    "\n",
    "def hx(x):\n",
    "    \"\"\" compute measurements corresponding to state x\"\"\"\n",
    "    dx = x[0] - hx.radar_pos[0]\n",
    "    dy = x[1] - hx.radar_pos[1]    \n",
    "    return np.array([atan2(dy,dx), (dx**2 + dy**2)**.5])\n",
    "    \n",
    "def fx(x,dt):\n",
    "    \"\"\" predict state x at 'dt' time in the future\"\"\"\n",
    "    return x\n",
    "\n",
    "# create unscented Kalman filter with large initial uncertainty\n",
    "points = JulierSigmaPoints(2, kappa=2)\n",
    "kf = UKF(2, 2, dt=0.1, hx=hx, fx=fx, points=points)\n",
    "kf.x = np.array([100, 100.])\n",
    "kf.P *= 40\n",
    "\n",
    "x0 = kf.x.copy()\n",
    "p0 = kf.P.copy()\n",
    "\n",
    "stats.plot_covariance_ellipse(x0, cov=p0,\n",
    "                              facecolor='y', edgecolor=None, alpha=0.6)"
   ]
  },
  {
   "cell_type": "markdown",
   "metadata": {},
   "source": [
    "We are equally uncertain about the position in x and y, so the covariance is circular.\n",
    "\n",
    "Now we will update the Kalman filter with a reading from the first radar. I will set the standard deviation of the bearing error at 0.5$^\\circ$, and the standard deviation of the distance error at 3."
   ]
  },
  {
   "cell_type": "code",
   "execution_count": 16,
   "metadata": {
    "collapsed": false
   },
   "outputs": [
    {
     "ename": "NameError",
     "evalue": "name 'kf' is not defined",
     "output_type": "error",
     "traceback": [
      "\u001b[1;31m---------------------------------------------------------------------------\u001b[0m",
      "\u001b[1;31mNameError\u001b[0m                                 Traceback (most recent call last)",
      "\u001b[1;32m<ipython-input-16-e1473bd150ff>\u001b[0m in \u001b[0;36m<module>\u001b[1;34m()\u001b[0m\n\u001b[0;32m      2\u001b[0m \u001b[1;33m\u001b[0m\u001b[0m\n\u001b[0;32m      3\u001b[0m \u001b[1;31m# set the error of the radar's bearing and distance\u001b[0m\u001b[1;33m\u001b[0m\u001b[1;33m\u001b[0m\u001b[0m\n\u001b[1;32m----> 4\u001b[1;33m \u001b[0mkf\u001b[0m\u001b[1;33m.\u001b[0m\u001b[0mR\u001b[0m\u001b[1;33m[\u001b[0m\u001b[1;36m0\u001b[0m\u001b[1;33m,\u001b[0m \u001b[1;36m0\u001b[0m\u001b[1;33m]\u001b[0m \u001b[1;33m=\u001b[0m \u001b[0mradians\u001b[0m \u001b[1;33m(\u001b[0m\u001b[1;36m.5\u001b[0m\u001b[1;33m)\u001b[0m\u001b[1;33m**\u001b[0m\u001b[1;36m2\u001b[0m\u001b[1;33m\u001b[0m\u001b[0m\n\u001b[0m\u001b[0;32m      5\u001b[0m \u001b[0mkf\u001b[0m\u001b[1;33m.\u001b[0m\u001b[0mR\u001b[0m\u001b[1;33m[\u001b[0m\u001b[1;36m1\u001b[0m\u001b[1;33m,\u001b[0m \u001b[1;36m1\u001b[0m\u001b[1;33m]\u001b[0m \u001b[1;33m=\u001b[0m \u001b[1;36m3.\u001b[0m\u001b[1;33m**\u001b[0m\u001b[1;36m2\u001b[0m\u001b[1;33m\u001b[0m\u001b[0m\n\u001b[0;32m      6\u001b[0m \u001b[1;33m\u001b[0m\u001b[0m\n",
      "\u001b[1;31mNameError\u001b[0m: name 'kf' is not defined"
     ]
    }
   ],
   "source": [
    "from math import radians, atan2\n",
    "\n",
    "# set the error of the radar's bearing and distance\n",
    "kf.R[0, 0] = radians (.5)**2\n",
    "kf.R[1, 1] = 3.**2\n",
    "\n",
    "# compute position and covariance from first radar station\n",
    "hx.radar_pos = (50, 50)\n",
    "dist = (50**2 + 50**2) ** 0.5\n",
    "kf.predict()\n",
    "kf.update([radians(45), dist])\n",
    "\n",
    "\n",
    "# plot the results\n",
    "x1 = kf.x.copy()\n",
    "p1 = kf.P.copy()\n",
    "\n",
    "stats.plot_covariance_ellipse(\n",
    "       x0, cov=p0,\n",
    "       facecolor='y', edgecolor=None, alpha=0.6)\n",
    "\n",
    "stats.plot_covariance_ellipse(\n",
    "       x1, cov=p1,\n",
    "       facecolor='g', edgecolor='k', alpha=0.6)\n",
    "\n",
    "plt.scatter([100], [100], c='y', label='Initial')\n",
    "plt.scatter([100], [100], c='g', label='1st station')\n",
    "plt.legend(scatterpoints=1, markerscale=3)\n",
    "plt.plot([92, 100], [92, 100], c='g', lw=2, ls='--')\n",
    "plt.show()"
   ]
  },
  {
   "cell_type": "markdown",
   "metadata": {},
   "source": [
    "We can see the effect of the errors on the geometry of the problem. The radar station is to the lower left of the target. The bearing measurement is extremely accurate at $\\sigma=0.5^\\circ$, but the distance error is inaccurate at $\\sigma=3$. I've shown the radar reading with the dotted green line. We can easily see the effect of the accurate bearing and inaccurate distance in the shape of the covariance ellipse. \n",
    "\n",
    "Now we can incorporate the second radar station's measurement. The second radar is at (150,50), which is below and to the right of the target. Before you go on, think about how you think the covariance will change when we incorporate this new reading."
   ]
  },
  {
   "cell_type": "code",
   "execution_count": 17,
   "metadata": {
    "collapsed": false
   },
   "outputs": [
    {
     "ename": "NameError",
     "evalue": "name 'hx' is not defined",
     "output_type": "error",
     "traceback": [
      "\u001b[1;31m---------------------------------------------------------------------------\u001b[0m",
      "\u001b[1;31mNameError\u001b[0m                                 Traceback (most recent call last)",
      "\u001b[1;32m<ipython-input-17-fd4112e3c8e1>\u001b[0m in \u001b[0;36m<module>\u001b[1;34m()\u001b[0m\n\u001b[0;32m      1\u001b[0m \u001b[1;31m# compute position and covariance from first radar station\u001b[0m\u001b[1;33m\u001b[0m\u001b[1;33m\u001b[0m\u001b[0m\n\u001b[1;32m----> 2\u001b[1;33m \u001b[0mhx\u001b[0m\u001b[1;33m.\u001b[0m\u001b[0mradar_pos\u001b[0m \u001b[1;33m=\u001b[0m \u001b[1;33m(\u001b[0m\u001b[1;36m150\u001b[0m\u001b[1;33m,\u001b[0m \u001b[1;36m50\u001b[0m\u001b[1;33m)\u001b[0m\u001b[1;33m\u001b[0m\u001b[0m\n\u001b[0m\u001b[0;32m      3\u001b[0m \u001b[0mkf\u001b[0m\u001b[1;33m.\u001b[0m\u001b[0mpredict\u001b[0m\u001b[1;33m(\u001b[0m\u001b[1;33m)\u001b[0m\u001b[1;33m\u001b[0m\u001b[0m\n\u001b[0;32m      4\u001b[0m \u001b[0mkf\u001b[0m\u001b[1;33m.\u001b[0m\u001b[0mupdate\u001b[0m\u001b[1;33m(\u001b[0m\u001b[1;33m[\u001b[0m\u001b[0mradians\u001b[0m\u001b[1;33m(\u001b[0m\u001b[1;36m135\u001b[0m\u001b[1;33m)\u001b[0m\u001b[1;33m,\u001b[0m \u001b[0mdist\u001b[0m\u001b[1;33m]\u001b[0m\u001b[1;33m)\u001b[0m\u001b[1;33m\u001b[0m\u001b[0m\n\u001b[0;32m      5\u001b[0m \u001b[1;33m\u001b[0m\u001b[0m\n",
      "\u001b[1;31mNameError\u001b[0m: name 'hx' is not defined"
     ]
    }
   ],
   "source": [
    "# compute position and covariance from first radar station\n",
    "hx.radar_pos = (150, 50)\n",
    "kf.predict()\n",
    "kf.update([radians(135), dist])\n",
    "\n",
    "stats.plot_covariance_ellipse(\n",
    "       x0, cov=p0,\n",
    "       facecolor='y', edgecolor='k', alpha=0.6)\n",
    "\n",
    "stats.plot_covariance_ellipse(\n",
    "       x1, cov=p1,\n",
    "       facecolor='g', edgecolor='k', alpha=0.6)\n",
    "\n",
    "stats.plot_covariance_ellipse(\n",
    "       kf.x, cov=kf.P,\n",
    "       facecolor='b', edgecolor='k', alpha=0.6)\n",
    "\n",
    "plt.scatter([100], [100], c='y', label='Initial')\n",
    "plt.scatter([100], [100], c='g', label='1st station')\n",
    "plt.scatter([100], [100], c='b', label='2nd station')\n",
    "plt.legend(scatterpoints=1, markerscale=3)\n",
    "plt.plot([92, 100], [92, 100], c='g', lw=2, ls='--')\n",
    "plt.plot([108, 100], [92, 100], c='b', lw=2, ls='--')\n",
    "plt.show()"
   ]
  },
  {
   "cell_type": "markdown",
   "metadata": {},
   "source": [
    "We can see how the second radar measurement altered the covariance. The angle to the target is orthogonal to the first radar station, so the effects of the error in the bearing and range are swapped. So the angle of the covariance matrix switches to match the direction to the second station. It is important to note that the direction did not merely change; the size of the covariance matrix became much smaller as well.\n",
    "\n",
    "The covariance will always incorporate all of the information available, including the effects of the geometry of the problem. This formulation makes it particularly easy to see what is happening, but the same thing occurs if one sensor gives you position and a second sensor gives you velocity, or if two sensors provide measurements of position.\n",
    "\n",
    "One final thing before we move on: sensor fusion is a vast topic, and my coverage is simplistic to the point of being misleading. For example, the Kalman Filter Math chapter talks about using iterated least squares to determine the position from a set of pseudorange readings from the satellites without using a Kalman filter. That is the usual but not exclusive way this computation is done in GPS receivers. If you are a hobbiest my coverage may get you started. A commercial grade filter requires very careful design of the fusion process. That is the topic of several books, and you will have to further your education by finding one that covers your domain. "
   ]
  },
  {
   "cell_type": "markdown",
   "metadata": {},
   "source": [
    "### Exercise: Can you Kalman Filter GPS outputs?"
   ]
  },
  {
   "cell_type": "markdown",
   "metadata": {},
   "source": [
    "In the section above I have you apply a Kalman filter to 'GPS-like' sensor. Can you apply a Kalman filter to the output of a commercial Kalman filter? In other words, will the output of your filter be better than, worse than, or equal to the GPS's output?"
   ]
  },
  {
   "cell_type": "code",
   "execution_count": 18,
   "metadata": {
    "collapsed": false
   },
   "outputs": [],
   "source": [
    "# Think your answer here"
   ]
  },
  {
   "cell_type": "markdown",
   "metadata": {},
   "source": [
    "#### Solution"
   ]
  },
  {
   "cell_type": "markdown",
   "metadata": {},
   "source": [
    "Commercial GPS's have a Kalman filter built into them, and their output is the filtered estimate created by that filter. So, suppose you have a steady stream of output from the GPS consisting of a position and position error. Can you not pass those two pieces of data into your own filter?\n",
    "\n",
    "Well, what are the characteristics of that data stream, and more importantly, what are the fundamental requirements of the input to the Kalman filter?\n",
    "\n",
    "Inputs to the Kalman filter must be *Gaussian* and *time independent*. The output of the GPS is *time dependent* because the filter bases it's current estimate on the recursive estimates of all previous measurements. Hence, the signal is not white, it is not time independent, and if you pass that data into a Kalman filter you have violated the mathematical requirements of the filter. So, the answer is no, you cannot get better estimates by running a KF on the output of a commercial GPS. \n",
    "\n",
    "Another way to think of it is that Kalman filters are optimal in a least squares sense. There is no way to take an optimal solution, pass it through a filter, any filter, and get a 'more optimal' answer because it is a logical impossibility. At best the signal will be unchanged, in which case it will still be optimal, or it will be changed, and hence no longer optimal.\n",
    "\n",
    "This is a difficult problem that hobbyists face when trying to integrate GPS, IMU's and other off the shelf sensors. It is too early in the book to try to address this problem, hence the 'PS' in the this section.\n",
    "\n",
    "But let's look at the effect. A commercial GPS reports position, and an estimated error range. The estimated error just comes from the Kalman filter's $\\mathbf{P}$ matrix. So let's filter some noisy data, take the filtered output as the new noisy input to the filter, and see what the result is. In other words, $\\mathbf{x}$ will supply the  $\\mathbf{z}$ input, and  $\\mathbf{P}$ will supply the measurement covariance $\\mathbf{R}$. To exaggerate the effects somewhat to make them more obvious I will plot the effects of doing this one, and then a second time. The second iteration doesn't make any 'sense' (no one would try that), it just helps me illustrate a point. First, the code and plots."
   ]
  },
  {
   "cell_type": "code",
   "execution_count": 19,
   "metadata": {
    "collapsed": false
   },
   "outputs": [
    {
     "ename": "NameError",
     "evalue": "name 'randn' is not defined",
     "output_type": "error",
     "traceback": [
      "\u001b[1;31m---------------------------------------------------------------------------\u001b[0m",
      "\u001b[1;31mNameError\u001b[0m                                 Traceback (most recent call last)",
      "\u001b[1;32m<ipython-input-19-e56c8148c612>\u001b[0m in \u001b[0;36m<module>\u001b[1;34m()\u001b[0m\n\u001b[0;32m      1\u001b[0m \u001b[0mnp\u001b[0m\u001b[1;33m.\u001b[0m\u001b[0mrandom\u001b[0m\u001b[1;33m.\u001b[0m\u001b[0mseed\u001b[0m\u001b[1;33m(\u001b[0m\u001b[1;36m124\u001b[0m\u001b[1;33m)\u001b[0m\u001b[1;33m\u001b[0m\u001b[0m\n\u001b[1;32m----> 2\u001b[1;33m \u001b[0mxs\u001b[0m\u001b[1;33m,\u001b[0m \u001b[0mzs\u001b[0m \u001b[1;33m=\u001b[0m \u001b[0msimulate_acc_system\u001b[0m\u001b[1;33m(\u001b[0m\u001b[0mR\u001b[0m\u001b[1;33m=\u001b[0m\u001b[0mR\u001b[0m\u001b[1;33m,\u001b[0m \u001b[0mQ\u001b[0m\u001b[1;33m=\u001b[0m\u001b[0mQ\u001b[0m\u001b[1;33m,\u001b[0m \u001b[0mcount\u001b[0m\u001b[1;33m=\u001b[0m\u001b[1;36m80\u001b[0m\u001b[1;33m)\u001b[0m\u001b[1;33m\u001b[0m\u001b[0m\n\u001b[0m\u001b[0;32m      3\u001b[0m \u001b[1;33m\u001b[0m\u001b[0m\n\u001b[0;32m      4\u001b[0m \u001b[1;31m# Filter measurements\u001b[0m\u001b[1;33m\u001b[0m\u001b[1;33m\u001b[0m\u001b[0m\n\u001b[0;32m      5\u001b[0m \u001b[0mkf0\u001b[0m \u001b[1;33m=\u001b[0m \u001b[0mSecondOrderKF\u001b[0m\u001b[1;33m(\u001b[0m\u001b[0mR\u001b[0m\u001b[1;33m,\u001b[0m \u001b[0mQ\u001b[0m\u001b[1;33m,\u001b[0m \u001b[0mdt\u001b[0m\u001b[1;33m=\u001b[0m\u001b[1;36m1\u001b[0m\u001b[1;33m)\u001b[0m\u001b[1;33m\u001b[0m\u001b[0m\n",
      "\u001b[1;32m<ipython-input-15-0459a6316c68>\u001b[0m in \u001b[0;36msimulate_acc_system\u001b[1;34m(R, Q, count)\u001b[0m\n\u001b[0;32m     19\u001b[0m     \u001b[0mxs\u001b[0m \u001b[1;33m=\u001b[0m \u001b[1;33m[\u001b[0m\u001b[1;33m]\u001b[0m\u001b[1;33m\u001b[0m\u001b[0m\n\u001b[0;32m     20\u001b[0m     \u001b[1;32mfor\u001b[0m \u001b[0mi\u001b[0m \u001b[1;32min\u001b[0m \u001b[0mrange\u001b[0m\u001b[1;33m(\u001b[0m\u001b[0mcount\u001b[0m\u001b[1;33m)\u001b[0m\u001b[1;33m:\u001b[0m\u001b[1;33m\u001b[0m\u001b[0m\n\u001b[1;32m---> 21\u001b[1;33m         \u001b[0mx\u001b[0m \u001b[1;33m=\u001b[0m \u001b[0mobj\u001b[0m\u001b[1;33m.\u001b[0m\u001b[0mupdate\u001b[0m\u001b[1;33m(\u001b[0m\u001b[1;33m)\u001b[0m\u001b[1;33m\u001b[0m\u001b[0m\n\u001b[0m\u001b[0;32m     22\u001b[0m         \u001b[0mz\u001b[0m \u001b[1;33m=\u001b[0m \u001b[0msense\u001b[0m\u001b[1;33m(\u001b[0m\u001b[0mx\u001b[0m\u001b[1;33m,\u001b[0m \u001b[0mR\u001b[0m\u001b[1;33m)\u001b[0m\u001b[1;33m\u001b[0m\u001b[0m\n\u001b[0;32m     23\u001b[0m         \u001b[0mxs\u001b[0m\u001b[1;33m.\u001b[0m\u001b[0mappend\u001b[0m\u001b[1;33m(\u001b[0m\u001b[0mx\u001b[0m\u001b[1;33m)\u001b[0m\u001b[1;33m\u001b[0m\u001b[0m\n",
      "\u001b[1;32m<ipython-input-15-0459a6316c68>\u001b[0m in \u001b[0;36mupdate\u001b[1;34m(self)\u001b[0m\n\u001b[0;32m      7\u001b[0m \u001b[1;33m\u001b[0m\u001b[0m\n\u001b[0;32m      8\u001b[0m     \u001b[1;32mdef\u001b[0m \u001b[0mupdate\u001b[0m\u001b[1;33m(\u001b[0m\u001b[0mself\u001b[0m\u001b[1;33m)\u001b[0m\u001b[1;33m:\u001b[0m\u001b[1;33m\u001b[0m\u001b[0m\n\u001b[1;32m----> 9\u001b[1;33m         \u001b[0mself\u001b[0m\u001b[1;33m.\u001b[0m\u001b[0macc\u001b[0m \u001b[1;33m+=\u001b[0m \u001b[0mrandn\u001b[0m\u001b[1;33m(\u001b[0m\u001b[1;33m)\u001b[0m \u001b[1;33m*\u001b[0m \u001b[0mself\u001b[0m\u001b[1;33m.\u001b[0m\u001b[0macc_noise_scale\u001b[0m\u001b[1;33m\u001b[0m\u001b[0m\n\u001b[0m\u001b[0;32m     10\u001b[0m         \u001b[0mself\u001b[0m\u001b[1;33m.\u001b[0m\u001b[0mvel\u001b[0m \u001b[1;33m+=\u001b[0m \u001b[0mself\u001b[0m\u001b[1;33m.\u001b[0m\u001b[0macc\u001b[0m\u001b[1;33m\u001b[0m\u001b[0m\n\u001b[0;32m     11\u001b[0m         \u001b[0mself\u001b[0m\u001b[1;33m.\u001b[0m\u001b[0mx\u001b[0m \u001b[1;33m+=\u001b[0m \u001b[0mself\u001b[0m\u001b[1;33m.\u001b[0m\u001b[0mvel\u001b[0m\u001b[1;33m\u001b[0m\u001b[0m\n",
      "\u001b[1;31mNameError\u001b[0m: name 'randn' is not defined"
     ]
    }
   ],
   "source": [
    "np.random.seed(124)\n",
    "xs, zs = simulate_acc_system(R=R, Q=Q, count=80)\n",
    "\n",
    "# Filter measurements\n",
    "kf0 = SecondOrderKF(R, Q, dt=1)\n",
    "fxs0, ps0 = filter_data(kf0, zs)\n",
    "\n",
    "\n",
    "# filter again, using P as error\n",
    "kf1 = SecondOrderKF(R, Q, dt=1)\n",
    "fxs1 = []\n",
    "ps1 = []\n",
    "\n",
    "for z, p in zip(fxs0[:, 0], ps0):\n",
    "    kf1.predict()\n",
    "    kf1.update(z, R=p[0])\n",
    "    fxs1.append(kf1.x)\n",
    "    ps1.append(kf1.P)\n",
    "    \n",
    "# one more time to exagerrate the effect\n",
    "fxs1 = np.asarray(fxs1)\n",
    "ps1 = np.asarray(ps1)\n",
    "\n",
    "kf2 = SecondOrderKF(R, Q, dt=1)\n",
    "fxs2 = []\n",
    "for z, p in zip(fxs1[:, 0], ps1):\n",
    "    kf2.predict()\n",
    "    kf2.update(z, R=p[0, 0])\n",
    "    fxs2.append(kf2.x)\n",
    "    \n",
    "fxs2 = np.asarray(fxs2)\n",
    "\n",
    "plot_kf_output(xs[0:30], fxs0[0:30], zs[0:30], title='KF')\n",
    "plot_kf_output(xs[0:30], fxs1[0:30], zs[0:30], title='1 iteration')\n",
    "plot_kf_output(xs[0:30], fxs2[0:30], zs[0:30], title='2 iterations')"
   ]
  },
  {
   "cell_type": "markdown",
   "metadata": {},
   "source": [
    "We see that the filtered output of the reprocessed signal is smoother, but it also diverges from the track. What is happening? Recall that the Kalman filter requires that the signal not be time correlated. However the output of the Kalman filter *is* time correlated because it incorporates all previous measurements into its estimate for this time period. So look at the last graph, for 2 iterations. The measurements start with several peaks that are larger than the track. This is 'remembered' (that is vague terminology, but I am trying to avoid the math) by the filter, and it has started to compute that the object is above the track. Later, at around 13 seconds we have a period where the measurements all happen to be below the track. This also gets incorporated into the memory of the filter, and the iterated output diverges far below the track. \n",
    "\n",
    "Now let's look at this in a different way. The iterated output is *not* using $\\mathbf{z}$ as the measurement, but the output of the previous Kalman filter estimate. So I will plot the output of the filter against the previous filter's output."
   ]
  },
  {
   "cell_type": "code",
   "execution_count": null,
   "metadata": {
    "collapsed": false
   },
   "outputs": [],
   "source": [
    "plot_kf_output(xs[0:30], fxs0[0:30], zs[0:30], title='KF')\n",
    "plot_kf_output(xs[0:30], fxs1[0:30], fxs0[0:30:, 0], title='1 iteration')\n",
    "plot_kf_output(xs[0:30], fxs2[0:30], fxs1[0:30:, 0], title='2 iterations')"
   ]
  },
  {
   "cell_type": "markdown",
   "metadata": {},
   "source": [
    "I hope the problem with this approach is now apparent. In the bottom graph we can see that the KF is tracking the imperfect estimates of the previous filter, and incorporating delay into the signal as well due to the memory of the previous measurements being incorporated into the signal."
   ]
  },
  {
   "cell_type": "markdown",
   "metadata": {},
   "source": [
    "### Excercise: Prove that the PS improves the filter"
   ]
  },
  {
   "cell_type": "markdown",
   "metadata": {},
   "source": [
    "Devise a way to prove that fusing the PS and wheel measurements yields a better result than using the wheel alone."
   ]
  },
  {
   "cell_type": "markdown",
   "metadata": {},
   "source": [
    "#### Solution 1"
   ]
  },
  {
   "cell_type": "markdown",
   "metadata": {},
   "source": [
    "Force the Kalman filter to disregard the PS measurement by setting the measurement noise for the PS to a near infinite value. Re-run the filter and observe the standard deviation of the residual."
   ]
  },
  {
   "cell_type": "code",
   "execution_count": 20,
   "metadata": {
    "collapsed": false
   },
   "outputs": [
    {
     "ename": "NameError",
     "evalue": "name 'fusion_test' is not defined",
     "output_type": "error",
     "traceback": [
      "\u001b[1;31m---------------------------------------------------------------------------\u001b[0m",
      "\u001b[1;31mNameError\u001b[0m                                 Traceback (most recent call last)",
      "\u001b[1;32m<ipython-input-20-6ce146d2abc4>\u001b[0m in \u001b[0;36m<module>\u001b[1;34m()\u001b[0m\n\u001b[1;32m----> 1\u001b[1;33m \u001b[0mfusion_test\u001b[0m\u001b[1;33m(\u001b[0m\u001b[1;36m1.5\u001b[0m\u001b[1;33m,\u001b[0m \u001b[1;36m3.0\u001b[0m\u001b[1;33m,\u001b[0m \u001b[0mdo_plot\u001b[0m\u001b[1;33m=\u001b[0m\u001b[1;32mFalse\u001b[0m\u001b[1;33m)\u001b[0m\u001b[1;33m\u001b[0m\u001b[0m\n\u001b[0m\u001b[0;32m      2\u001b[0m \u001b[0mfusion_test\u001b[0m\u001b[1;33m(\u001b[0m\u001b[1;36m1.5\u001b[0m\u001b[1;33m,\u001b[0m \u001b[1;36m1e80\u001b[0m\u001b[1;33m,\u001b[0m \u001b[0mdo_plot\u001b[0m\u001b[1;33m=\u001b[0m\u001b[1;32mFalse\u001b[0m\u001b[1;33m)\u001b[0m\u001b[1;33m\u001b[0m\u001b[0m\n",
      "\u001b[1;31mNameError\u001b[0m: name 'fusion_test' is not defined"
     ]
    }
   ],
   "source": [
    "fusion_test(1.5, 3.0, do_plot=False)\n",
    "fusion_test(1.5, 1e80, do_plot=False)"
   ]
  },
  {
   "cell_type": "markdown",
   "metadata": {},
   "source": [
    "Here we can see the error in the filter where the PS measurement is almost entirely ignored is greater than that where it is used."
   ]
  },
  {
   "cell_type": "markdown",
   "metadata": {},
   "source": [
    "#### Solution 2"
   ]
  },
  {
   "cell_type": "markdown",
   "metadata": {},
   "source": [
    "This is more work, but we can write a Kalman filter that only takes one measurement."
   ]
  },
  {
   "cell_type": "code",
   "execution_count": 21,
   "metadata": {
    "collapsed": false
   },
   "outputs": [
    {
     "name": "stdout",
     "output_type": "stream",
     "text": [
      "std: 0.523\n"
     ]
    },
    {
     "data": {
      "image/png": "[encoded data removed]",
      "text/plain": [
       "<matplotlib.figure.Figure at 0x7d6ac88>"
      ]
     },
     "metadata": {},
     "output_type": "display_data"
    }
   ],
   "source": [
    "import numpy.random as random\n",
    "from numpy.random import randn\n",
    "import numpy as np\n",
    "import matplotlib.pyplot as plt\n",
    "from filterpy.kalman import KalmanFilter\n",
    "from numpy import array, asarray\n",
    "\n",
    "dt = 0.1\n",
    "wheel_sigma = 1.5\n",
    "kf = KalmanFilter(dim_x=2, dim_z=1)\n",
    "\n",
    "kf.F = array([[1., dt], [0., 1.]])\n",
    "kf.H = array([[1., 0.]])\n",
    "kf.x = array([[0.], [1.]])\n",
    "kf.Q *= 0.01\n",
    "kf.P *= 100\n",
    "kf.R[0, 0] = wheel_sigma**2\n",
    "\n",
    "random.seed(1123)\n",
    "xs = []\n",
    "zs = []\n",
    "nom = []\n",
    "for i in range(1, 100):\n",
    "    m0 = i + randn()*wheel_sigma\n",
    "    z = array([[m0]])\n",
    "\n",
    "    kf.predict()\n",
    "    kf.update(z)\n",
    "\n",
    "    xs.append(kf.x.T[0])\n",
    "    zs.append(z.T[0])\n",
    "    nom.append(i)\n",
    "\n",
    "xs = asarray(xs)\n",
    "zs = asarray(zs)\n",
    "nom = asarray(nom)\n",
    "\n",
    "\n",
    "res = nom - xs[:, 0]\n",
    "print('std: {:.3f}'.format(np.std(res)))\n",
    "\n",
    "bp.plot_filter(xs[:, 0], label='Kalman filter')\n",
    "bp.plot_measurements(zs[:, 0], label='Wheel')\n",
    "plt.legend(loc=4)\n",
    "plt.xlim((-1, 100))\n",
    "plt.show()"
   ]
  },
  {
   "cell_type": "markdown",
   "metadata": {},
   "source": [
    "On this run I got a standard deviation of 0.523 vs the value of 0.391 for the fused measurements. "
   ]
  },
  {
   "cell_type": "markdown",
   "metadata": {},
   "source": [
    "### Exercise: Different Data Rates"
   ]
  },
  {
   "cell_type": "markdown",
   "metadata": {},
   "source": [
    "It is rare that two different sensor classes output data at the same rate. Assume that the PS produces an update at 1 Hz, and the wheel updates at 4 Hz. Design a filter that incorporates all of these measurements.\n",
    "\n",
    "**hint**: This is a difficult problem in that I have not explained how to do this. Think about which matrices incorporate time, and which incorporate knowledge about the number and kind of measurements. All of these will have to be designed to work with this problem. If you can correctly enumerate those matrices you are most of the way to a solution."
   ]
  },
  {
   "cell_type": "code",
   "execution_count": 22,
   "metadata": {
    "collapsed": false
   },
   "outputs": [],
   "source": [
    "#your solution here!"
   ]
  },
  {
   "cell_type": "markdown",
   "metadata": {},
   "source": [
    "#### Solution"
   ]
  },
  {
   "cell_type": "markdown",
   "metadata": {},
   "source": [
    "We can do this by setting the data rate to 0.25 seconds, which is 4 Hz. As we loop, on every iteration we call `update()` with only the wheel measurement. Then, every fourth time we will call `update()` with both the wheel and PS measurements. \n",
    "\n",
    "This means that we vary the amount of data in the z parameter. The matrices associated with the measurement are $\\mathbf{H}$ and $\\mathbf{R}$. In the code above we designed H to be \n",
    "\n",
    "$$\\mathbf{H} = \\begin{bmatrix}1 &0 \\\\ 1& 0\\end{bmatrix}$$\n",
    "\n",
    "to account for the two measurements of position. When only the wheel reading is available, we must set\n",
    "\n",
    "$$\\mathbf{H} = \\begin{bmatrix}1 &0\\end{bmatrix}.$$\n",
    "\n",
    "The matrix $\\mathbf{R}$ specifies the noise in each measurement. In the code above we set\n",
    "\n",
    "$$\\mathbf{R} = \\begin{bmatrix}\\sigma_{wheel}^2 &0 \\\\ 0 & \\sigma_{PS}^2\\end{bmatrix}$$\n",
    "\n",
    "When only the wheel measurement is available, we must set\n",
    "\n",
    "$$\\mathbf{R} = \\begin{bmatrix}\\sigma_{wheel}^2\\end{bmatrix}$$\n",
    "\n",
    "The two matrices that incorporate time are $\\mathbf{F}$ and $\\mathbf{Q}$. For example,\n",
    "\n",
    "$$\\mathbf{F} = \\begin{bmatrix}1 & \\Delta t \\\\ 0& 1\\end{bmatrix}.$$\n",
    "\n",
    "Since the wheel and PS reading coincide once every 4 readings we can just set $\\delta t =0.25$ and not modify it while filtering. If the readings did not coincide in each iteration you would have to calculate how much time has passed since the last predict, compute a new $\\mathbf{F}$ and $\\mathbf{Q}$, and then call `predict()` so the filter could make a correct prediction based on the time step required.\n",
    "\n",
    "So here is the code. "
   ]
  },
  {
   "cell_type": "code",
   "execution_count": 23,
   "metadata": {
    "collapsed": false
   },
   "outputs": [
    {
     "name": "stdout",
     "output_type": "stream",
     "text": [
      "fusion std: 0.452\n"
     ]
    },
    {
     "data": {
      "image/png": "[encoded data removed]",
      "text/plain": [
       "<matplotlib.figure.Figure at 0x7dbbcc0>"
      ]
     },
     "metadata": {},
     "output_type": "display_data"
    }
   ],
   "source": [
    "import numpy.random as random\n",
    "from numpy.random import randn\n",
    "import numpy as np\n",
    "import matplotlib.pyplot as plt\n",
    "from filterpy.kalman import KalmanFilter\n",
    "from numpy import array, asarray\n",
    "\n",
    "def fusion_test(wheel_sigma, ps_sigma, do_plot=True):\n",
    "    dt = 0.25\n",
    "    kf = KalmanFilter(dim_x=2, dim_z=2)\n",
    "\n",
    "    kf.F = array([[1., dt], [0., 1.]])\n",
    "    kf.H = array([[1., 0.], [1., 0.]])\n",
    "    kf.x = array([[0.], [1.]])\n",
    "    kf.Q *= array([[(dt**3)/3, (dt**2)/2],\n",
    "                   [(dt**2)/2,  dt      ]]) * 0.02\n",
    "    kf.P *= 100\n",
    "    kf.R[0, 0] = wheel_sigma**2\n",
    "    kf.R[1, 1] = ps_sigma**2 \n",
    "\n",
    "    random.seed(1123)\n",
    "    xs = []\n",
    "    zs_wheel = []\n",
    "    zs_ps = []\n",
    "    nom = []\n",
    "    for i in range(1, 101):\n",
    "        \n",
    "        if i % 4 == 0:\n",
    "            m0 = i + randn()*wheel_sigma\n",
    "            m1 = i + randn()*ps_sigma\n",
    "            z = array([[m0], [m1]])\n",
    "            kf.H = array([[1., 0.], [1., 0.]])\n",
    "            R = np.eye(2)\n",
    "            R[0, 0] = wheel_sigma**2\n",
    "            R[1, 1] = ps_sigma**2      \n",
    "            \n",
    "            zs_wheel.append(m0)\n",
    "            zs_ps.append((i, m1))\n",
    "        else:  \n",
    "            m0 = i + randn()*wheel_sigma\n",
    "            z = array([m0])\n",
    "            kf.H = array([[1., 0.]])\n",
    "            R = np.eye(1) * wheel_sigma**2\n",
    "            zs_wheel.append(m0)\n",
    "\n",
    "        kf.predict()\n",
    "        kf.update(z, R)\n",
    "\n",
    "        xs.append(kf.x.T[0])\n",
    "        nom.append(i)\n",
    "\n",
    "    xs = asarray(xs)\n",
    "    nom = asarray(nom)\n",
    "\n",
    "    res = nom - xs[:, 0]\n",
    "    print('fusion std: {:.3f}'.format(np.std(res)))\n",
    "    if do_plot:\n",
    "        bp.plot_measurements(zs_wheel,  label='Wheel')\n",
    "        plt.plot(*zip(*zs_ps), linestyle='--', label='Pos Sensor')\n",
    "        bp.plot_filter(xs[:, 0], label='Kalman filter')\n",
    "        plt.legend(loc=4)\n",
    "        plt.ylim(0, 100)\n",
    "        plt.show()\n",
    "\n",
    "fusion_test(1.5, 3.0)"
   ]
  },
  {
   "cell_type": "markdown",
   "metadata": {},
   "source": [
    "We can see from the standard deviation that the performance is a bit worse than when the PS and wheel were measured in every update, but better than the wheel alone.\n",
    "\n",
    "The code is fairly straightforward. The `update()` function optionally takes R as an argument, and I chose to do that rather than alter `KalmanFilter.R`, mostly to show that it is possible. Either way is fine. I modified `KalmanFilter.H` on each update depending on whether there are 1 or 2 measurements available. The only other difficulty was storing the wheel and PS measurements in two different arrays because there are a different number of measurements for each. "
   ]
  },
  {
   "cell_type": "markdown",
   "metadata": {},
   "source": [
    "## Tracking a Ball"
   ]
  },
  {
   "cell_type": "markdown",
   "metadata": {},
   "source": [
    "Now let's turn our attention to a situation where the physics of the object that we are tracking is constrained. A ball thrown in a vacuum must obey Newtonian laws. In a constant gravitational field it will travel in a parabola. I will assume you are familiar with the derivation of the formula:\n",
    "\n",
    "$$\n",
    "\\begin{aligned}\n",
    "y &= \\frac{g}{2}t^2 + v_{y0} t + y_0 \\\\\n",
    "x &= v_{x0} t + x_0\n",
    "\\end{aligned}\n",
    "$$\n",
    "\n",
    "where $g$ is the gravitational constant, $t$ is time, $v_{x0}$ and $v_{y0}$ are the initial velocities in the x and y plane. If the ball is thrown with an initial velocity of $v$ at angle $\\theta$ above the horizon, we can compute $v_{x0}$ and $v_{y0}$ as\n",
    "\n",
    "$$\n",
    "\\begin{aligned}\n",
    "v_{x0} = v \\cos{\\theta} \\\\\n",
    "v_{y0} = v \\sin{\\theta}\n",
    "\\end{aligned}\n",
    "$$"
   ]
  },
  {
   "cell_type": "markdown",
   "metadata": {},
   "source": [
    "Because we don't have real data we will start by writing a simulator for a ball. As always, we add a noise term independent of time so we can simulate noise sensors."
   ]
  },
  {
   "cell_type": "code",
   "execution_count": 24,
   "metadata": {
    "collapsed": false
   },
   "outputs": [],
   "source": [
    "from math import radians, sin, cos\n",
    "import math\n",
    "\n",
    "def rk4(y, x, dx, f):\n",
    "    \"\"\"computes 4th order Runge-Kutta for dy/dx.\n",
    "    y is the initial value for y\n",
    "    x is the initial value for x\n",
    "    dx is the difference in x (e.g. the time step)\n",
    "    f is a callable function (y, x) that you supply to \n",
    "      compute dy/dx for the specified values.\n",
    "    \"\"\"\n",
    "    \n",
    "    k1 = dx * f(y, x)\n",
    "    k2 = dx * f(y + 0.5*k1, x + 0.5*dx)\n",
    "    k3 = dx * f(y + 0.5*k2, x + 0.5*dx)\n",
    "    k4 = dx * f(y + k3, x + dx)\n",
    "    \n",
    "    return y + (k1 + 2*k2 + 2*k3 + k4) / 6.\n",
    "\n",
    "def fx(x,t):\n",
    "    return fx.vel\n",
    "    \n",
    "def fy(y,t):\n",
    "    return fy.vel - 9.8*t\n",
    "\n",
    "\n",
    "class BallTrajectory2D(object):\n",
    "    def __init__(self, x0, y0, velocity, \n",
    "                 theta_deg=0., \n",
    "                 g=9.8, \n",
    "                 noise=[0.0, 0.0]):\n",
    "        self.x = x0\n",
    "        self.y = y0\n",
    "        self.t = 0\n",
    "        \n",
    "        theta = math.radians(theta_deg)\n",
    "\n",
    "        fx.vel = math.cos(theta) * velocity\n",
    "        fy.vel = math.sin(theta) * velocity\n",
    "        \n",
    "        self.g = g\n",
    "        self.noise = noise\n",
    "        \n",
    "        \n",
    "    def step(self, dt):\n",
    "        self.x = rk4(self.x, self.t, dt, fx)\n",
    "        self.y = rk4(self.y, self.t, dt, fy)\n",
    "        self.t += dt \n",
    "        return (self.x + random.randn()*self.noise[0], \n",
    "                self.y + random.randn()*self.noise[1])"
   ]
  },
  {
   "cell_type": "markdown",
   "metadata": {},
   "source": [
    "So to create a trajectory starting at (0, 15) with a velocity of $100 \\frac{m}{s}$ and an angle of $60^\\circ$ we would write:\n",
    "\n",
    "    traj = BallTrajectory2D(x0=0, y0=15, velocity=100, theta_deg=60)\n",
    "    \n",
    "and then call `traj.position(t)` for each time step. Let's test this "
   ]
  },
  {
   "cell_type": "code",
   "execution_count": 25,
   "metadata": {
    "collapsed": false
   },
   "outputs": [
    {
     "data": {
      "image/png": "[encoded data removed]",
      "text/plain": [
       "<matplotlib.figure.Figure at 0x7d53e80>"
      ]
     },
     "metadata": {},
     "output_type": "display_data"
    }
   ],
   "source": [
    "def test_ball_vacuum(noise):\n",
    "    y = 15\n",
    "    x = 0\n",
    "    ball = BallTrajectory2D(x0=x, y0=y, \n",
    "                            theta_deg=60., velocity=100., \n",
    "                            noise=noise)\n",
    "    t = 0\n",
    "    dt = 0.25\n",
    "    while y >= 0:\n",
    "        x, y = ball.step(dt)\n",
    "        t += dt\n",
    "        if y >= 0:\n",
    "            plt.scatter(x, y)\n",
    "         \n",
    "    plt.axis('equal')\n",
    "    plt.show()\n",
    "    \n",
    "#test_ball_vacuum([0, 0]) # plot ideal ball position\n",
    "test_ball_vacuum([1, 1]) # plot with noise "
   ]
  },
  {
   "cell_type": "markdown",
   "metadata": {},
   "source": [
    "This looks reasonable, so let's continue (exercise for the reader: validate this simulation more robustly)."
   ]
  },
  {
   "cell_type": "markdown",
   "metadata": {},
   "source": [
    "### Step 1: Choose the State Variables"
   ]
  },
  {
   "cell_type": "markdown",
   "metadata": {},
   "source": [
    "We might think to use the same state variables as used for tracking the dog. However, this will not work. Recall that the Kalman filter state transition must be written as $\\mathbf{x}^- = \\mathbf{Fx} + \\mathbf{Bu}$, which means we must calculate the current state from the previous state. Our assumption is that the ball is traveling in a vacuum, so the velocity in x is a constant, and the acceleration in y is solely due to the gravitational constant $g$. We can discretize the Newtonian equations using the well known Euler method in terms of $\\Delta t$ are:\n",
    "\n",
    "$$\\begin{aligned}\n",
    "x_t &=  x_{t-1} + v_{x(t-1)} {\\Delta t} \\\\\n",
    "v_{xt} &= vx_{t-1}\n",
    "\\\\\n",
    "y_t &= y_{t-1} + v_{y(t-1)} {\\Delta t}\\\\\n",
    "v_{yt} &= -g {\\Delta t} + v_{y(t-1)} \\\\\n",
    "\\end{aligned}\n",
    "$$\n",
    "\n",
    "> **sidebar**: *Euler's method integrates a differential equation stepwise by assuming the slope (derivative) is constant at time $t$. In this case the derivative of the position is velocity. At each time step $\\Delta t$ we assume a constant velocity, compute the new position, and then update the velocity for the next time step. There are more accurate methods, such as Runge-Kutta available to us, but because we are updating the state with a measurement in each step Euler's method is very accurate.* If you need to use Runge-Kutta you will have to write your own `predict()` function which computes the state transition for $\\mathbf{x}$, and then uses the normal Kalman filter equation $\\mathbf{P}=\\mathbf{FPF}^\\mathsf{T} + \\mathbf{Q}$ to update the covariance matrix.\n",
    "\n",
    "This implies that we need to incorporate acceleration for $y$ into the Kalman filter, but not for $x$. This suggests the following state variables.\n",
    "\n",
    "$$\n",
    "\\mathbf{x} = \n",
    "\\begin{bmatrix}\n",
    "x \\\\\n",
    "\\dot{x} \\\\\n",
    "y \\\\\n",
    "\\dot{y} \\\\\n",
    "\\ddot{y}\n",
    "\\end{bmatrix}\n",
    "$$\n",
    "\n",
    "However, the acceleration is due to gravity, which is a constant. Instead of asking the Kalman filter to track a constant we can treat gravity as what it really is - a control input. In other words, gravity is a force that alters the behavior of the system in a known way, and it is applied throughout the flight of the ball. \n",
    "\n",
    "The equation for the state prediction is $\\mathbf{x^-} = \\mathbf{Fx} + \\mathbf{Bu}$. $\\mathbf{Fx}$ is the familiar state transition function which we will use to model the position and velocity of the ball. The vector $\\mathbf{u}$ lets you specify a control input into the filter. For a car the control input will be things such as the amount the accelerator and brake are pressed, the position of the steering wheel, and so on. For our ball the control input will be gravity. The matrix $\\mathbf{B}$ models how the control inputs affect the behavior of the system. Again, for a car $\\mathbf{B}$ will convert the inputs of the brake and accelerator into changes of velocity, and the input of the steering wheel into a different position and heading. For our ball tracking problem it will compute the velocity change due to gravity. We will go into the details of that in step 3. For now, we design the state variable to be\n",
    "\n",
    "$$\n",
    "\\mathbf{x} = \n",
    "\\begin{bmatrix}\n",
    "x \\\\\n",
    "\\dot{x} \\\\\n",
    "y \\\\\n",
    "\\dot{y} \n",
    "\\end{bmatrix}\n",
    "$$"
   ]
  },
  {
   "cell_type": "markdown",
   "metadata": {},
   "source": [
    "### **Step 2:**  Design State Transition Function"
   ]
  },
  {
   "cell_type": "markdown",
   "metadata": {},
   "source": [
    "Our next step is to design the state transition function. Recall that the state transistion function is implemented as a matrix $\\mathbf{F}$ that we multiply with the previous state of our system to get the next state$\\mathbf{x}' = \\mathbf{Fx}$.\n",
    "\n",
    "I will not belabor this as it is very similar to the 1-D case we did in the previous chapter. Our state equations for position and velocity would be:\n",
    "\n",
    "$$\n",
    "\\begin{aligned}\n",
    "x' &= (1*x) + (\\Delta t * v_x) + (0*y) + (0 * v_y) \\\\\n",
    "v_x &= (0*x) +  (1*v_x) + (0*y) + (0 * v_y) \\\\\n",
    "y' &= (0*x) + (0* v_x)         + (1*y) + (\\Delta t * v_y)   \\\\\n",
    "v_y &= (0*x) +  (0*v_x) + (0*y) + (1*v_y) \n",
    "\\end{aligned}\n",
    "$$\n",
    "\n",
    "Note that none of the terms include $g$, the gravitational constant. As I explained in the previous function we will account for gravity using the control input of the Kalman filter.\n",
    "In matrix form we write this as:\n",
    "\n",
    "$$\n",
    "\\mathbf{F} = \\begin{bmatrix}\n",
    "1 & \\Delta t & 0 & 0 \\\\\n",
    "0 & 1 & 0 & 0 \\\\\n",
    "0 & 0 & 1 & \\Delta t \\\\\n",
    "0 & 0 & 0 & 1\n",
    "\\end{bmatrix}\n",
    "$$"
   ]
  },
  {
   "cell_type": "markdown",
   "metadata": {},
   "source": [
    "### **Step 3**: Design the Control Input Function"
   ]
  },
  {
   "cell_type": "markdown",
   "metadata": {},
   "source": [
    "We will use the control input to account for the force of gravity. The term $\\mathbf{Bu}$ is added to $\\mathbf{x^-}$ to account for how much $\\mathbf{x^-}$ changes due to gravity. We can say that  $\\mathbf{Bu}$ contains $\\begin{bmatrix}\\Delta x_g & \\Delta \\dot{x_g} & \\Delta y_g & \\Delta \\dot{y_g}\\end{bmatrix}^\\mathsf{T}$.\n",
    "\n",
    "If we look at the discretized equations we see that gravity only affect the velocity for $y$.\n",
    "\n",
    "$$\\begin{aligned}\n",
    "x_t &=  x_{t-1} + v_{x(t-1)} {\\Delta t} \\\\\n",
    "v_{xt} &= vx_{t-1}\n",
    "\\\\\n",
    "y_t &= y_{t-1} + v_{y(t-1)} {\\Delta t}\\\\\n",
    "v_{yt} &= -g {\\Delta t} + v_{y(t-1)} \\\\\n",
    "\\end{aligned}\n",
    "$$\n",
    "\n",
    "Therefore we want the product $\\mathbf{Bu}$ to equal $\\begin{bmatrix}0 & 0 & 0 & -g \\Delta t \\end{bmatrix}^\\mathsf{T}$. In some sense it is arbitrary how we define $\\mathbf{B}$ and $\\mathbf{u}$ so long as multiplying them together yields this result. For example, we could define $\\mathbf{B}=1$ and $\\mathbf{u} = \\begin{bmatrix}0 & 0 & 0 & -g \\Delta t \\end{bmatrix}^\\mathsf{T}$. But this doesn't really fit with our definitions for $\\mathbf{B}$ and $\\mathbf{u}$, where $\\mathbf{u}$ is the control input, and $\\mathbf{B}$ is the control function. The control input is $-g$ for the velocity of y. So this is one possible definition.\n",
    "\n",
    "$$\\mathbf{B} = \\begin{bmatrix}0&0&0&0 \\\\ 0&0&0&0 \\\\0&0&0&0 \\\\0&0&0&\\Delta t\\end{bmatrix}, \\mathbf{u} = \\begin{bmatrix}0\\\\0\\\\0\\\\-g\\end{bmatrix}$$\n",
    "\n",
    "To me this seems a bit excessive; I would suggest we might want $\\mathbf{u}$ to contain the control input for the two dimensions $x$ and $y$, which suggests\n",
    "\n",
    "$$\\mathbf{B} = \\begin{bmatrix}0&0 \\\\ 0&0 \\\\0&0 \\\\0&\\Delta t\\end{bmatrix}, \\mathbf{u} = \\begin{bmatrix}0\\\\-g\\end{bmatrix}$$.\n",
    "\n",
    "You might prefer to only provide control inputs that actually exist, and there is no control input for $x$, so we arrive at\n",
    "\n",
    "$$\\mathbf{B} = \\begin{bmatrix}0 \\\\ 0 \\\\0\\\\ \\Delta t\\end{bmatrix}, \\mathbf{u} = \\begin{bmatrix}-g\\end{bmatrix}$$.\n",
    "\n",
    "I've seen people use \n",
    "$$\\mathbf{B} = \\begin{bmatrix}0&0&0&0 \\\\ 0&0&0&0 \\\\0&0&0&0 \\\\0&0&0&1\\end{bmatrix}, \\mathbf{u} = \\begin{bmatrix}0\\\\0\\\\0\\\\-g \\Delta t\\end{bmatrix}$$\n",
    "\n",
    "While this does produce the correct result, I am resistant to putting time into $\\mathbf{u}$  as time is not a control input, it is what we use to convert the control input into a change in state, which is the job of $\\mathbf{B}$."
   ]
  },
  {
   "cell_type": "markdown",
   "metadata": {},
   "source": [
    "### **Step 4**: Design the Measurement Function"
   ]
  },
  {
   "cell_type": "markdown",
   "metadata": {},
   "source": [
    "The measurement function defines how we go from the state variables to the measurements using the equation $\\mathbf{z} = \\mathbf{Hx}$. We will assume that we have a sensor that provides us with the position of the ball in (x,y), but cannot measure velocities or accelerations. Therefore our function must be:\n",
    "\n",
    "$$\n",
    "\\begin{bmatrix}z_x \\\\ z_y \\end{bmatrix}= \n",
    "\\begin{bmatrix}\n",
    "1 & 0 & 0 & 0 \\\\\n",
    "0 & 0 & 1 & 0\n",
    "\\end{bmatrix} * \n",
    "\\begin{bmatrix}\n",
    "x \\\\\n",
    "\\dot{x} \\\\\n",
    "y \\\\\n",
    "\\dot{y} \\end{bmatrix}$$\n",
    "\n",
    "where\n",
    "\n",
    "$$\\mathbf{H} = \\begin{bmatrix}\n",
    "1 & 0 & 0 & 0 \\\\\n",
    "0 & 0 & 1 & 0\n",
    "\\end{bmatrix}$$"
   ]
  },
  {
   "cell_type": "markdown",
   "metadata": {},
   "source": [
    "### **Step 5**: Design the Measurement Noise Matrix"
   ]
  },
  {
   "cell_type": "markdown",
   "metadata": {},
   "source": [
    "As with the robot, we will assume that the error is independent in $x$ and $y$. In this case we will start by assuming that the measurement error in x and y are 0.5 meters. Hence,\n",
    "\n",
    "$$\\mathbf{R} = \\begin{bmatrix}0.5&0\\\\0&0.5\\end{bmatrix}$$"
   ]
  },
  {
   "cell_type": "markdown",
   "metadata": {},
   "source": [
    "### Step 6: Design the Process Noise Matrix"
   ]
  },
  {
   "cell_type": "markdown",
   "metadata": {},
   "source": [
    "We are assuming a ball moving in a vacuum, so there should be no process noise. We have 4 state variables, so we need a $4{\\times}4$ covariance matrix:\n",
    "\n",
    "$$\\mathbf{Q} = \\begin{bmatrix}0&0&0&0\\\\0&0&0&0\\\\0&0&0&0\\\\0&0&0&0\\end{bmatrix}$$"
   ]
  },
  {
   "cell_type": "markdown",
   "metadata": {},
   "source": [
    "### Step 7: Design the Initial Conditions"
   ]
  },
  {
   "cell_type": "markdown",
   "metadata": {},
   "source": [
    "We already performed this step when we tested the state transition function. Recall that we computed the initial velocity for $x$ and $y$ using trigonometry, and set the value of $\\mathbf{x}$ with:\n",
    "\n",
    "    omega = radians(omega)\n",
    "    vx = cos(omega) * v0\n",
    "    vy = sin(omega) * v0\n",
    "\n",
    "    f1.x = np.array([[x, vx, y, vy]]).T\n",
    "    \n",
    "    \n",
    "With all the steps done we are ready to implement our filter and test it. First, the implementation:"
   ]
  },
  {
   "cell_type": "code",
   "execution_count": 26,
   "metadata": {
    "collapsed": false
   },
   "outputs": [],
   "source": [
    "from math import sin,cos,radians\n",
    "\n",
    "\n",
    "def ball_kf(x, y, omega, v0, dt, r=0.5, q=0.):\n",
    "\n",
    "    kf = KalmanFilter(dim_x=4, dim_z=2, dim_u=1)\n",
    "\n",
    "    ay = .5*dt**2\n",
    "    kf.F = np.array([[1, dt,  0,  0],   # x   = x0 + dx*dt\n",
    "                     [0,  1,  0,  0],   # dx  = dx0\n",
    "                     [0,  0,  1, dt],   # y   = y0 + dy*dt\n",
    "                     [0,  0,  0,  1]])   # dy  = dy0\n",
    "\n",
    "    kf.H = np.array([[1, 0, 0, 0],\n",
    "                     [0, 0, 1, 0]])\n",
    "    \n",
    "    kf.B = np.array([[0,0,0,.1]]).T\n",
    "    \n",
    "    kf.R *= r\n",
    "    kf.Q *= q\n",
    "\n",
    "    omega = radians(omega)\n",
    "    vx = cos(omega) * v0\n",
    "    vy = sin(omega) * v0\n",
    "\n",
    "    kf.x = np.array([[x, vx, y, vy]]).T\n",
    "    \n",
    "    return kf"
   ]
  },
  {
   "cell_type": "markdown",
   "metadata": {},
   "source": [
    "Now we will test the filter by generating measurements for the ball using the ball simulation class."
   ]
  },
  {
   "cell_type": "code",
   "execution_count": 27,
   "metadata": {
    "collapsed": false
   },
   "outputs": [
    {
     "data": {
      "image/png": "[encoded data removed]",
      "text/plain": [
       "<matplotlib.figure.Figure at 0x7da3400>"
      ]
     },
     "metadata": {},
     "output_type": "display_data"
    }
   ],
   "source": [
    "y = 1.\n",
    "x = 0.\n",
    "theta = 35. # launch angle\n",
    "v0 = 80.\n",
    "dt = 1/10.   # time step\n",
    "g = 9.8 # gravitational constant\n",
    "\n",
    "ball = BallTrajectory2D(x0=x, y0=y, theta_deg=theta, velocity=v0, \n",
    "                        noise=[.2, .2])\n",
    "kf = ball_kf(x, y, theta, v0, dt)\n",
    "\n",
    "t = 0\n",
    "xs = []\n",
    "ys = []\n",
    "u = -g\n",
    "while kf.x[2, 0] > 0:\n",
    "    t += dt\n",
    "    x, y = ball.step(dt)\n",
    "    z = np.array([[x, y]]).T\n",
    "\n",
    "    kf.update(z)\n",
    "    xs.append(kf.x[0, 0])\n",
    "    ys.append(kf.x[2, 0])\n",
    "    \n",
    "    kf.predict(u=u) \n",
    "    \n",
    "    p1 = plt.scatter(x, y, color='r', marker='.', s=75, alpha=0.5)\n",
    "\n",
    "p2, = plt.plot(xs, ys, lw=2)\n",
    "plt.legend([p2, p1], ['Kalman filter', 'Measurements'], scatterpoints=1)\n",
    "plt.show()"
   ]
  },
  {
   "cell_type": "markdown",
   "metadata": {},
   "source": [
    "We see that the Kalman filter reasonably tracks the ball. However, as already explained, this is a trivial example because we have no process noise. We can predict trajectories in a vacuum with arbitrary precision; using a Kalman filter in this example is a needless complication. A least squares curve fit would give identical results."
   ]
  },
  {
   "cell_type": "markdown",
   "metadata": {},
   "source": [
    "## Tracking a Ball in Air"
   ]
  },
  {
   "cell_type": "markdown",
   "metadata": {},
   "source": [
    "**author's note - I originally had ball tracking code in 2 different places in the book. One has been copied here, so now we have 2 sections on ball tracking. I need to edit this into one section, obviously. Sorry for the duplication.**\n",
    "\n",
    "We are now ready to design a practical Kalman filter application. For this problem we assume that we are tracking a ball traveling through the Earth's atmosphere. The path of the ball is influenced by wind, drag, and the rotation of the ball. We will assume that our sensor is a camera; code that we will not implement will perform some type of image processing to detect the position of the ball. This is typically called *blob detection* in computer vision. However, image processing code is not perfect; in any given frame it is possible to either detect no blob or to detect spurious blobs that do not correspond to the ball. Finally, we will not assume that we know the starting position, angle, or rotation of the ball; the tracking code will have to initiate tracking based on the measurements that are provided. The main simplification that we are making here is a 2D world; we assume that the ball is always traveling orthogonal to the plane of the camera's sensor. We have to make that simplification at this point because we have not yet discussed how we might extract 3D information from a camera, which necessarily provides only 2D data. "
   ]
  },
  {
   "cell_type": "markdown",
   "metadata": {},
   "source": [
    "### Implementing Air Drag"
   ]
  },
  {
   "cell_type": "markdown",
   "metadata": {},
   "source": [
    "Our first step is to implement the math for a ball moving through air. There are several treatments available. A robust solution takes into account issues such as ball roughness (which affects drag non-linearly depending on velocity), the Magnus effect (spin causes one side of the ball to have higher velocity relative to the air vs the opposite side, so the coefficient of drag differs on opposite sides), the effect of lift, humidity, air density, and so on. I assume the reader is not interested in the details of ball physics, and so will restrict this treatment to the effect of air drag on a non-spinning baseball. I will use the math developed by Nicholas Giordano and Hisao Nakanishi in *Computational Physics*  [1997]. \n",
    "\n",
    "**Important**: Before I continue, let me point out that you will not have to understand this next piece of physics to proceed with the Kalman filter. My goal is to create a reasonably accurate behavior of a baseball in the real world, so that we can test how our Kalman filter performs with real-world behavior. In real world applications it is usually impossible to completely model the physics of a real world system, and we make do with a process model that incorporates the large scale behaviors. We then tune the measurement noise and process noise until the filter works well with our data. There is a real risk to this; it is easy to finely tune a Kalman filter so it works perfectly with your test data, but performs badly when presented with slightly different data. This is perhaps the hardest part of designing a Kalman filter, and why it gets referred to with terms such as 'black art'. \n",
    "\n",
    "I dislike books that implement things without explanation, so I will now develop the physics for a ball moving through air. Move on past the implementation of the simulation if you are not interested. \n",
    "\n",
    "A ball moving through air encounters wind resistance. This imparts a force on the wall, called *drag*, which alters the flight of the ball. In Giordano this is denoted as\n",
    "\n",
    "$$F_{drag} = -B_2v^2$$\n",
    "\n",
    "where $B_2$ is a coefficient derived experimentally, and $v$ is the velocity of the object. $F_{drag}$ can be factored into $x$ and $y$ components with\n",
    "\n",
    "$$F_{drag,x} = -B_2v v_x\\\\\n",
    "F_{drag,y} = -B_2v v_y\n",
    "$$\n",
    "\n",
    "If $m$ is the mass of the ball, we can use $F=ma$ to compute the acceleration as\n",
    "\n",
    "$$ a_x = -\\frac{B_2}{m}v v_x\\\\\n",
    "a_y = -\\frac{B_2}{m}v v_y$$\n",
    "\n",
    "Giordano provides the following function for $\\frac{B_2}{m}$, which takes air density, the cross section of a baseball, and its roughness into account. Understand that this is an approximation based on wind tunnel tests and several simplifying assumptions. It is in SI units: velocity is in meters/sec and time is in seconds.\n",
    "\n",
    "$$\\frac{B_2}{m} = 0.0039 + \\frac{0.0058}{1+\\exp{[(v-35)/5]}}$$\n",
    "\n",
    "Starting with this Euler discretization of the ball path in a vacuum:\n",
    "$$\\begin{aligned}\n",
    "x &= v_x \\Delta t \\\\\n",
    "y &= v_y \\Delta t \\\\\n",
    "v_x &= v_x \\\\\n",
    "v_y &= v_y - 9.8 \\Delta t\n",
    "\\end{aligned}\n",
    "$$\n",
    "\n",
    "We can incorporate this force (acceleration) into our equations by incorporating $accel * \\Delta t$ into the velocity update equations. We should subtract this component because drag will reduce the velocity. The code to do this is quite straightforward, we just need to break out the Force into $x$ and $y$ components. \n",
    "\n",
    "I will not belabor this issue further because the computational physics is beyond the scope of this book. Recognize that a higher fidelity simulation would require incorporating things like altitude, temperature, ball spin, and several other factors. My intent here is to impart some real-world behavior into our simulation to test how  our simpler prediction model used by the Kalman filter reacts to this behavior. Your process model will never exactly model what happens in the world, and a large factor in designing a good Kalman filter is carefully testing how it performs against real world data. \n",
    "\n",
    "The code below computes the behavior of a baseball in air, at sea level, in the presence of wind. I plot the same initial hit with no wind, and then with a tail wind at 10 mph. Baseball statistics are universally done in US units, and we will follow suit here (http://en.wikipedia.org/wiki/United_States_customary_units). Note that the velocity of 110 mph is a typical exit speed for a baseball for a home run hit."
   ]
  },
  {
   "cell_type": "code",
   "execution_count": 28,
   "metadata": {
    "collapsed": false
   },
   "outputs": [
    {
     "data": {
      "image/png": "[encoded data removed]",
      "text/plain": [
       "<matplotlib.figure.Figure at 0x7ef4ef0>"
      ]
     },
     "metadata": {},
     "output_type": "display_data"
    }
   ],
   "source": [
    "from math import sqrt, exp, cos, sin, radians\n",
    "\n",
    "def mph_to_mps(x):\n",
    "    return x * .447\n",
    "\n",
    "def drag_force(velocity):\n",
    "    \"\"\" Returns the force on a baseball due to air drag at\n",
    "    the specified velocity. Units are SI\"\"\"\n",
    "\n",
    "    return (0.0039 + 0.0058 / (1. + exp((velocity-35.)/5.))) * velocity\n",
    "\n",
    "v = mph_to_mps(110.)\n",
    "y = 1\n",
    "x = 0\n",
    "dt = .1\n",
    "theta = radians(35)\n",
    "\n",
    "def solve(x, y, vel, v_wind, launch_angle):\n",
    "    xs = []\n",
    "    ys = []\n",
    "    v_x = vel*cos(launch_angle)\n",
    "    v_y = vel*sin(launch_angle)\n",
    "    while y >= 0:\n",
    "        # Euler equations for x and y\n",
    "        x += v_x*dt\n",
    "        y += v_y*dt\n",
    "\n",
    "        # force due to air drag    \n",
    "        velocity = sqrt ((v_x-v_wind)**2 + v_y**2)    \n",
    "        F = drag_force(velocity)\n",
    "\n",
    "        # euler's equations for vx and vy\n",
    "        v_x = v_x - F*(v_x-v_wind)*dt\n",
    "        v_y = v_y - 9.8*dt - F*v_y*dt\n",
    "        \n",
    "        xs.append(x)\n",
    "        ys.append(y)\n",
    "    \n",
    "    return xs, ys\n",
    "        \n",
    "x, y = solve(x=0, y=1, vel=v, v_wind=0, launch_angle=theta)\n",
    "p1 = plt.scatter(x, y, color='blue', label='no wind')\n",
    "\n",
    "x, y = solve(x=0, y=1, vel=v, v_wind=mph_to_mps(10), launch_angle=theta)\n",
    "p2 = plt.scatter(x, y, color='green', marker=\"v\", label='10mph wind')\n",
    "plt.legend(scatterpoints=1)\n",
    "plt.show()"
   ]
  },
  {
   "cell_type": "markdown",
   "metadata": {},
   "source": [
    "We can easily see the difference between the trajectory in a vacuum and in the air. I used the same initial velocity and launch angle in the ball in a vacuum section above. We computed that the ball in a vacuum would travel over 240 meters (nearly 800 ft). In the air, the distance is just over 120 meters, or roughly 400 ft. 400ft is a realistic distance for a well hit home run ball, so we can be confident that our simulation is reasonably accurate.\n",
    "\n",
    "Without further ado we will create a ball simulation that uses the math above to create a more realistic ball trajectory. I will note that the nonlinear behavior of drag means that there is no analytic solution to the ball position at any point in time, so we need to compute the position step-wise. I use Euler's method to propagate the solution; use of a more accurate technique such as Runge-Kutta is left as an exercise for the reader. That modest complication is unnecessary for what we are doing because the accuracy difference between the techniques will be small for the time steps we will be using. "
   ]
  },
  {
   "cell_type": "code",
   "execution_count": 29,
   "metadata": {
    "collapsed": false
   },
   "outputs": [],
   "source": [
    "from math import radians, sin, cos, sqrt, exp\n",
    "\n",
    "class BaseballPath(object):\n",
    "    def __init__(self, x0, y0, launch_angle_deg, velocity_ms, \n",
    "                 noise=(1.0, 1.0)): \n",
    "        \"\"\" Create 2D baseball path object  \n",
    "           (x = distance from start point in ground plane, \n",
    "            y=height above ground)\n",
    "        \n",
    "        x0,y0            initial position\n",
    "        launch_angle_deg angle ball is travelling respective to \n",
    "                         ground plane\n",
    "        velocity_ms      speeed of ball in meters/second\n",
    "        noise            amount of noise to add to each position\n",
    "                         in (x, y)\n",
    "        \"\"\"\n",
    "        \n",
    "        omega = radians(launch_angle_deg)\n",
    "        self.v_x = velocity_ms * cos(omega)\n",
    "        self.v_y = velocity_ms * sin(omega)\n",
    "\n",
    "        self.x = x0\n",
    "        self.y = y0\n",
    "\n",
    "        self.noise = noise\n",
    "\n",
    "\n",
    "    def drag_force(self, velocity):\n",
    "        \"\"\" Returns the force on a baseball due to air drag at\n",
    "        the specified velocity. Units are SI\n",
    "        \"\"\"\n",
    "        B_m = 0.0039 + 0.0058 / (1. + exp((velocity-35.)/5.))\n",
    "        return B_m * velocity\n",
    "\n",
    "\n",
    "    def update(self, dt, vel_wind=0.):\n",
    "        \"\"\" compute the ball position based on the specified time \n",
    "        step and wind velocity. Returns (x, y) position tuple.\n",
    "        \"\"\"\n",
    "\n",
    "        # Euler equations for x and y\n",
    "        self.x += self.v_x*dt\n",
    "        self.y += self.v_y*dt\n",
    "\n",
    "        # force due to air drag\n",
    "        v_x_wind = self.v_x - vel_wind\n",
    "        v = sqrt(v_x_wind**2 + self.v_y**2)\n",
    "        F = self.drag_force(v)\n",
    "\n",
    "        # Euler's equations for velocity\n",
    "        self.v_x = self.v_x - F*v_x_wind*dt\n",
    "        self.v_y = self.v_y - 9.81*dt - F*self.v_y*dt\n",
    "\n",
    "        return (self.x + random.randn()*self.noise[0], \n",
    "                self.y + random.randn()*self.noise[1])"
   ]
  },
  {
   "cell_type": "markdown",
   "metadata": {},
   "source": [
    "Now we can test the Kalman filter against measurements created by this model."
   ]
  },
  {
   "cell_type": "code",
   "execution_count": 30,
   "metadata": {
    "collapsed": false
   },
   "outputs": [
    {
     "data": {
      "image/png": "[encoded data removed]",
      "text/plain": [
       "<matplotlib.figure.Figure at 0x7cf49b0>"
      ]
     },
     "metadata": {},
     "output_type": "display_data"
    }
   ],
   "source": [
    "y = 1.\n",
    "x = 0.\n",
    "theta = 35. # launch angle\n",
    "v0 = 50.\n",
    "dt = 1/10.   # time step\n",
    "\n",
    "ball = BaseballPath(x0=x, y0=y, launch_angle_deg=theta,\n",
    "                    velocity_ms=v0, noise=[.3,.3])\n",
    "f1 = ball_kf(x, y, theta, v0, dt, r=1.)\n",
    "f2 = ball_kf(x, y, theta, v0, dt, r=10.)\n",
    "t = 0\n",
    "xs = []\n",
    "ys = []\n",
    "xs2 = []\n",
    "ys2 = []\n",
    "\n",
    "while f1.x[2, 0] > 0:\n",
    "    t += dt\n",
    "    x, y = ball.update(dt)\n",
    "    z = np.array([[x, y]]).T\n",
    "\n",
    "    f1.update(z)\n",
    "    f2.update(z)\n",
    "    xs.append(f1.x[0, 0])\n",
    "    ys.append(f1.x[2, 0])\n",
    "    xs2.append(f2.x[0, 0])\n",
    "    ys2.append(f2.x[2, 0])    \n",
    "    f1.predict() \n",
    "    f2.predict()\n",
    "    \n",
    "    p1 = plt.scatter(x, y, color='r', marker='o', s=75, alpha=0.5)\n",
    "\n",
    "p2, = plt.plot(xs, ys, lw=2)\n",
    "p3, = plt.plot(xs2, ys2, lw=4)\n",
    "plt.legend([p1, p2, p3], \n",
    "           ['Measurements', 'Kalman filter(R=0.5)', 'Kalman filter(R=10)'],\n",
    "           loc='best', scatterpoints=1)\n",
    "plt.show()"
   ]
  },
  {
   "cell_type": "markdown",
   "metadata": {},
   "source": [
    "I have plotted the output of two different Kalman filter settings. The measurements are depicted as green circles, a Kalman filter with R=0.5 as a thin blue line, and a Kalman filter with R=10 as a thick red line. These R values are chosen merely to show the effect of measurement noise on the output, they are not intended to imply a correct design.\n",
    "\n",
    "We can see that neither filter does very well. At first both track the measurements well, but as time continues they both diverge. This happens because the state model for air drag is nonlinear and the Kalman filter assumes that it is linear. If you recall our discussion about nonlinearity in the g-h filter chapter we showed why a g-h filter will always lag behind the acceleration of the system. We see the same thing here - the acceleration is negative, so the Kalman filter consistently overshoots the ball position. There is no way for the filter to catch up so long as the acceleration continues, so the filter will continue to diverge.\n",
    "\n",
    "What can we do to improve this? The best approach is to perform the filtering with a nonlinear Kalman filter, and we will do this in subsequent chapters. However, there is also what I will call an 'engineering' solution to this problem as well. Our Kalman filter assumes that the ball is in a vacuum, and thus that there is no process noise. However, since the ball is in air the atmosphere imparts a force on the ball. We can think of this force as process noise. This is not a particularly rigorous thought; for one thing, this force is anything but Gaussian. Secondly, we can compute this force, so throwing our hands up and saying 'it's random' will not lead to an optimal solution. But let's see what happens if we follow this line of thought.\n",
    "\n",
    "The following code implements the same Kalman filter as before, but with a non-zero process noise. I plot two examples, one with `Q=.1`, and one with `Q=0.01`."
   ]
  },
  {
   "cell_type": "code",
   "execution_count": 31,
   "metadata": {
    "collapsed": false
   },
   "outputs": [
    {
     "data": {
      "image/png": "[encoded data removed]",
      "text/plain": [
       "<matplotlib.figure.Figure at 0x7eea828>"
      ]
     },
     "metadata": {},
     "output_type": "display_data"
    },
    {
     "data": {
      "image/png": "[encoded data removed]",
      "text/plain": [
       "<matplotlib.figure.Figure at 0x8181fd0>"
      ]
     },
     "metadata": {},
     "output_type": "display_data"
    }
   ],
   "source": [
    "def plot_ball_with_q(q, r=1., noise=0.3):\n",
    "    y = 1.\n",
    "    x = 0.\n",
    "    theta = 35. # launch angle\n",
    "    v0 = 50.\n",
    "    dt = 1/10.   # time step\n",
    "\n",
    "    ball = BaseballPath(x0=x, \n",
    "                        y0=y, \n",
    "                        launch_angle_deg=theta, \n",
    "                        velocity_ms=v0, \n",
    "                        noise=[noise,noise])\n",
    "    f1 = ball_kf(x, y, theta, v0, dt, r=r, q=q)\n",
    "    t = 0\n",
    "    xs = []\n",
    "    ys = []\n",
    "\n",
    "    while f1.x[2, 0] > 0:\n",
    "        t += dt\n",
    "        x, y = ball.update(dt)\n",
    "        z = np.array([[x, y]]).T\n",
    "\n",
    "        f1.update(z)\n",
    "        xs.append(f1.x[0, 0])\n",
    "        ys.append(f1.x[2, 0]) \n",
    "        f1.predict() \n",
    "\n",
    "        p1 = plt.scatter(x, y, color='r', marker='o', s=75, alpha=0.5)\n",
    "\n",
    "    p2, = plt.plot(xs, ys, lw=2)\n",
    "    plt.legend([p1, p2], ['Measurements', 'Kalman filter'], scatterpoints=1)\n",
    "    plt.show()\n",
    "    \n",
    "plot_ball_with_q(0.01)\n",
    "plot_ball_with_q(0.1)"
   ]
  },
  {
   "cell_type": "markdown",
   "metadata": {},
   "source": [
    "The second filter tracks the measurements fairly well. There appears to be a bit of lag, but very little.\n",
    "\n",
    "Is this a good technique? Usually not, but it depends. Here the nonlinearity of the force on the ball is fairly constant and regular. Assume we are trying to track an automobile - the accelerations will vary as the car changes speeds and turns. When we make the process noise higher than the actual noise in the system the filter will opt to weigh the measurements higher. If you don't have a lot of noise in your measurements this might work for you. However, consider this next plot where I have increased the noise in the measurements."
   ]
  },
  {
   "cell_type": "code",
   "execution_count": 32,
   "metadata": {
    "collapsed": false
   },
   "outputs": [
    {
     "data": {
      "image/png": "[encoded data removed]",
      "text/plain": [
       "<matplotlib.figure.Figure at 0x7ef8cf8>"
      ]
     },
     "metadata": {},
     "output_type": "display_data"
    },
    {
     "data": {
      "image/png": "[encoded data removed]",
      "text/plain": [
       "<matplotlib.figure.Figure at 0x7d74828>"
      ]
     },
     "metadata": {},
     "output_type": "display_data"
    }
   ],
   "source": [
    "plot_ball_with_q(0.01, r=3, noise=3.)\n",
    "plot_ball_with_q(0.1, r=3, noise=3.)"
   ]
  },
  {
   "cell_type": "markdown",
   "metadata": {},
   "source": [
    "This output is terrible. The filter has no choice but to give more weight to the measurements than the process (prediction step), but when the measurements are noisy the filter output will just track the noise. This inherent limitation of the linear Kalman filter is what lead to the development of nonlinear versions of the filter.\n",
    "\n",
    "With that said, it is certainly possible to use the process noise to deal with small nonlinearities in your system. This is part of the 'black art' of Kalman filters. Our model of the sensors and of the system are never perfect. Sensors are non-Gaussian and our process model is never perfect. You can mask some of this by setting the measurement errors and process errors higher than their theoretically correct values, but the trade off is a non-optimal solution. Certainly it is better to be non-optimal than to have your Kalman filter diverge. However, as we can see in the graphs above, it is easy for the output of the filter to be very bad. It is also very common to run many simulations and tests and to end up with a filter that performs very well under those conditions. Then, when you use the filter on real data the conditions are slightly different and the filter ends up performing terribly. \n",
    "\n",
    "For now we will set this problem aside, as we are clearly misapplying the Kalman filter in this example. We will revisit this problem in subsequent chapters to see the effect of using various nonlinear techniques. In some domains you will be able to get away with using a linear Kalman filter for a nonlinear problem, but usually you will have to use one or more of the techniques you will learn in the rest of this book."
   ]
  },
  {
   "cell_type": "markdown",
   "metadata": {},
   "source": [
    "## Tracking Noisy Data"
   ]
  },
  {
   "cell_type": "markdown",
   "metadata": {},
   "source": [
    "If we are applying a Kalman filter to a thermometer in an oven in a factory then our task is done once the Kalman filter is designed. The data from the thermometer may be noisy, but there is never doubt that the thermometer is reading the temperature of *some other* oven. Contrast this to our current situation, where we are using computer vision to detect ball blobs from a video camera. For any frame we may detect or may not detect the ball, and we may have one or more spurious blobs - blobs not associated with the ball at all. This can occur because of limitations of the computer vision code, or due to foreign objects in the scene, such as a bird flying through the frame. Also, in the general case we may have no idea where the ball starts from. A ball may be picked up, carried, and thrown from any position, for example. A ball may be launched within view of the camera, or the initial launch might be off screen and the ball merely travels through the scene. There is the possibility of bounces and deflections - the ball can hit the ground and bounce, it can bounce off a wall, a person, or any other object in the scene.\n",
    "\n",
    "Consider some of the problems that can occur. We could be waiting for a ball to appear, and a blob is detected. We initialize our Kalman filter with that blob, and look at the next frame to detect where the ball is going. Maybe there is no blob in the next frame. Can we conclude that the blob in the previous frame was noise? Or perhaps the blob was valid, but we did not detect the blob in this frame.\n",
    "\n",
    "**author's note: not sure if I want to cover this. If I do, not sure I want to cover this here.**"
   ]
  }
 ],
 "metadata": {
  "kernelspec": {
   "display_name": "Python 3",
   "language": "python",
   "name": "python3"
  },
  "language_info": {
   "codemirror_mode": {
    "name": "ipython",
    "version": 3
   },
   "file_extension": ".py",
   "mimetype": "text/x-python",
   "name": "python",
   "nbconvert_exporter": "python",
   "pygments_lexer": "ipython3",
   "version": "3.4.3"
  }
 },
 "nbformat": 4,
 "nbformat_minor": 0
}
