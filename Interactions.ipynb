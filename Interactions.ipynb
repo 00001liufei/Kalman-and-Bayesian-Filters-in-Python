{
 "cells": [
  {
   "cell_type": "markdown",
   "metadata": {},
   "source": [
    "# Interactions\n",
    "\n",
    "This is a collection of interactions, mostly from the book. If you have are reading a print version of the book, or are reading it online via Github or nbviewer you will be unable to run the interactions.\n",
    "\n",
    "So I have created this notebook. Here is how you run an interaction if you do not have IPython installed on your computer.\n",
    "\n",
    "1. Go to try.juptyer.org in your browser. It will launch a temporary notebook server for you.\n",
    "\n",
    "2. Click the **New** button and select `Python 3`. This will create a new notebook that will run Python 3 for you in your browser.\n",
    "\n",
    "3. Copy the entire contents of a cell from this notebook and paste it into a 'code' cell in the notebook on your browser. \n",
    "\n",
    "4. Press CTRL+ENTER to execute the cell.\n",
    "\n",
    "5. Have fun! Change code. Play. Experiment. Hack.\n",
    "\n",
    "Your server and notebook is not permanently saved. Once you close the session your data is lost. Yes, it says it is saving your file if you press save, and you can see it in the directory. But that is just happening in a Docker container that will be deleted as soon as you close the window. Copy and paste any changes you want to keep to an external file.\n",
    "\n",
    "Of course if you have IPython installed you can download this notebook and run it on your own computer. Type\n",
    "\n",
    "    ipython notebook\n",
    "    \n",
    "in a command prompt from the directory where you downloaded this file. Click on the name of this file to open it."
   ]
  },
  {
   "cell_type": "markdown",
   "metadata": {},
   "source": [
    "# Experimenting with FPF'\n",
    "\n",
    "\n",
    "The Kaman filter uses the equation $P^- = FPF^\\mathsf{T}$ to compute the prior of the covariance matrix during the prediction step, where P is the covariannce matrix and F is the system transistion function. For a Newtonian system $x = \\dot{x}\\Delta t + x_0$ F might look like\n",
    "\n",
    "$$F = \\begin{bmatrix}1 & \\Delta t\\\\0 1\\end{bmatrix}$$\n",
    "\n",
    "$FPF^\\mathsf{T}$ alters P by taking the correlation between the position ($x$) and velocity ($\\dot{x}). This interactive plot lets you see the effect of different designs of F has on this value. For example,\n",
    "\n",
    "* what if $x$ is not correlated to $\\dot{x}$? (set F01 to 0)\n",
    "\n",
    "* what if $x = 2\\dot{x}\\Delta t + x_0$? (set F01 to 2)\n",
    "\n",
    "*  what if $x = \\dot{x}\\Delta t + 2*x_0$? (set F00 to 2)\n",
    "\n",
    "* what if $x = \\dot{x}\\Delta t$?  (set F00 to 0)"
   ]
  },
  {
   "cell_type": "code",
   "execution_count": 2,
   "metadata": {
    "collapsed": false
   },
   "outputs": [
    {
     "data": {
      "image/png": "[encoded data removed]",
      "text/plain": [
       "<matplotlib.figure.Figure at 0x7e73630>"
      ]
     },
     "metadata": {},
     "output_type": "display_data"
    }
   ],
   "source": [
    "%matplotlib inline\n",
    "from IPython.html.widgets import interact, interactive, fixed\n",
    "import IPython.html.widgets as widgets\n",
    "import numpy as np\n",
    "import numpy.linalg as linalg\n",
    "import math\n",
    "import matplotlib.pyplot as plt\n",
    "from matplotlib.patches import Ellipse\n",
    "\n",
    "def plot_covariance_ellipse(x, P, edgecolor='k', ls='solid'):\n",
    "    U,s,v = linalg.svd(P)\n",
    "    angle = math.atan2(U[1,0],U[0,0])\n",
    "    width  = math.sqrt(s[0]) * 2\n",
    "    height = math.sqrt(s[1]) * 2\n",
    "\n",
    "    ax = plt.gca()\n",
    "    e = Ellipse(xy=(0, 0), width=width, height=height, angle=angle,\n",
    "                edgecolor=edgecolor, facecolor='none',\n",
    "                lw=2, ls=ls)\n",
    "    ax.add_patch(e)\n",
    "    \n",
    "    \n",
    "def plot_FPFT(F00, F01, F10, F11, covar):\n",
    "    \n",
    "    dt = 1.\n",
    "    x = np.array((0, 0.))\n",
    "    P = np.array(((1, covar), (covar, 2)))\n",
    "    F = np.array(((F00, F01), (F10, F11)))\n",
    "\n",
    "    plot_covariance_ellipse(x, P)\n",
    "    plot_covariance_ellipse(x, np.dot(F, P).dot(F.T), edgecolor='r')\n",
    "    plt.axis('equal')\n",
    "                 \n",
    "interact(plot_FPFT, \n",
    "         F00=widgets.IntSliderWidget(value=1, min=0, max=2.), \n",
    "         F01=widgets.FloatSliderWidget(value=1, min=0., max=2., description='F01(dt)'),\n",
    "         F10=widgets.FloatSliderWidget(value=0, min=0., max=2.),\n",
    "         F11=widgets.FloatSliderWidget(value=1, min=0., max=2.),\n",
    "         covar=widgets.FloatSliderWidget(value=0, min=0, max=1.));"
   ]
  }
 ],
 "metadata": {
  "kernelspec": {
   "display_name": "Python 3",
   "language": "python",
   "name": "python3"
  },
  "language_info": {
   "codemirror_mode": {
    "name": "ipython",
    "version": 3
   },
   "file_extension": ".py",
   "mimetype": "text/x-python",
   "name": "python",
   "nbconvert_exporter": "python",
   "pygments_lexer": "ipython3",
   "version": "3.4.3"
  }
 },
 "nbformat": 4,
 "nbformat_minor": 0
}
