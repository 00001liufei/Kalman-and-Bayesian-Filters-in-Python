{
 "metadata": {
  "name": ""
 },
 "nbformat": 3,
 "nbformat_minor": 0,
 "worksheets": [
  {
   "cells": [
    {
     "cell_type": "code",
     "collapsed": false,
     "input": [
      "def to_array(x):\n",
      "    try:\n",
      "        x.shape\n",
      "        try:\n",
      "            if type(x) != numpy.ndarray:\n",
      "               x=asarray(x)[0]\n",
      "            return x\n",
      "        except:\n",
      "            pass\n",
      "\n",
      "    except:\n",
      "        return  array(mat(x)).reshape(1)\n",
      "\n",
      "def to_cov(x,n):\n",
      "    try:\n",
      "        x.shape\n",
      "        return x\n",
      "    except:\n",
      "        return eye(n) * x\n",
      "    \n",
      "def multivariate_gaussian (x, mu, cov):\n",
      "    \"\"\" This is designed to work the same as scipy.stats.multivariate_normal\n",
      "    which is available before version 0.14. You may either pass in a \n",
      "    multivariate set of data:\n",
      "       multivariate_gaussian (array([1,1]), array([3,4]), eye(2)*1.4)\n",
      "    or unidimensional data:\n",
      "       multivariate_gaussian(1, 3, 1.4)\n",
      "    \n",
      "    In the multivariate case if cov is a scalar it is interpreted as eye(n)*cov\n",
      "    \"\"\"\n",
      "    \n",
      "    # force all to numpy.array type\n",
      "    x = to_array(x)\n",
      "    mu = to_array(mu)\n",
      "    n = mu.size\n",
      "    cov = to_cov (cov, n)\n",
      "\n",
      "    det = numpy.sqrt(numpy.prod(numpy.diag(cov)))\n",
      "    frac = (2*numpy.pi)**(-n/2.0) * (1.0/det)\n",
      "    fprime = x - mu\n",
      "    fprime **= 2\n",
      "    m = frac * numpy.exp(-0.5*numpy.dot(fprime, 1/numpy.diag(cov)))\n",
      "    return m\n",
      "\n"
     ],
     "language": "python",
     "metadata": {},
     "outputs": [],
     "prompt_number": 24
    },
    {
     "cell_type": "code",
     "collapsed": false,
     "input": [
      "print mvg (array([1,1]), array([1,1]), eye(2))\n",
      "print mvg (mat([1,1]), mat([1,1]), eye(2))\n",
      "print mvg (2,3,1)\n",
      "\n",
      "\n",
      "\n",
      "\n"
     ],
     "language": "python",
     "metadata": {},
     "outputs": [
      {
       "output_type": "stream",
       "stream": "stdout",
       "text": [
        "0.159154943092\n",
        "0.159154943092\n",
        "0.241970724519\n"
       ]
      }
     ],
     "prompt_number": 30
    },
    {
     "cell_type": "code",
     "collapsed": false,
     "input": [
      "print numpy.array(3)\n",
      "print pylab.rcParams['figure.figsize']"
     ],
     "language": "python",
     "metadata": {},
     "outputs": [
      {
       "output_type": "stream",
       "stream": "stdout",
       "text": [
        "3\n",
        "(6.0, 4.0)\n"
       ]
      }
     ],
     "prompt_number": 2
    },
    {
     "cell_type": "code",
     "collapsed": false,
     "input": [
      "class KalmanFilter1D(object):\n",
      "\n",
      "    def __init__ (self, x0, var):\n",
      "        self.mean = x0\n",
      "        self.variance = var\n",
      "\n",
      "    def estimate(self, z, z_variance):\n",
      "        self.mean = \\\n",
      "        (self.variance*z + z_variance*self.mean) / \\\n",
      "        self.variance + z_variance\n",
      "        self.variance = 1. / (1./self.variance+ 1./z_variance)\n",
      "\n",
      "f = KalmanFilter1D(1,2)\n",
      "f.estimate(z = 2,\n",
      "           z_variance = 3)\n",
      "\n",
      "print f.mean, f.variance"
     ],
     "language": "python",
     "metadata": {},
     "outputs": [
      {
       "output_type": "stream",
       "stream": "stdout",
       "text": [
        "6 1.2\n"
       ]
      }
     ],
     "prompt_number": 6
    },
    {
     "cell_type": "code",
     "collapsed": false,
     "input": [
      "import scipy.interpolate\n"
     ],
     "language": "python",
     "metadata": {},
     "outputs": [],
     "prompt_number": 9
    }
   ],
   "metadata": {}
  }
 ]
}